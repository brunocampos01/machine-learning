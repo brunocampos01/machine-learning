{
 "cells": [
  {
   "cell_type": "markdown",
   "metadata": {},
   "source": [
    "# Perceptrons <img src=\"reports/icon.png\"  align=\"center\" height=auto width=10%/>\n",
    "_Continuation of the linear regression study_\n",
    "\n",
    "Perceptrons parecem neurônios. Nos neurônios são recebidos estimulos elétricos já nos perceptrons são recebidos valores.\n",
    "\n",
    "<img src=\"reports/neural_net.png\" align=\"center\" height=auto width=50%/>\n",
    "\n",
    "\n",
    "- Perceptron é um **classificador**\n",
    "- Durante o treinamento, os perceptrons aprendem os **decision boundary**\n",
    "\n",
    "<img src=\"reports/decision-boundaries.png\" align=\"center\" height=auto width=50%/>\n",
    "\n",
    "## Summary\n",
    "  - [Advantages](#advantages)\n",
    "  - [Disadvantages](#disadvantages)\n",
    "  - [Math](#math)\n",
    "  - [Structure](#structure)\n",
    "  - [Activate Functions](#structure)\n",
    "    - [Step Functions](#structure)\n",
    "    - [Sigmoid Functions](#structure)\n",
    "  - [Learning Rate](#learning-rate)\n",
    "  - [Perceptrons with Logical Operators](#perceptrons-with-logical-operators)\n",
    "  - [Implementation](#implementation)\n",
    "  - [Examples]()\n",
    "    - [Simple perceptron with sigmoide](simple_perceptron_sigmoide)\n",
    "  \n",
    "---\n",
    "\n",
    "\n",
    "## **Math**\n",
    "\n",
    "<img src=\"reports/math_perceptroins.png\" align=\"center\" height=auto width=50%/>\n",
    "\n",
    "<img src=\"reports/math_perceptrons_2.png\" align=\"center\" height=auto width=50%/>\n",
    "\n",
    "<img src=\"reports/output_7_0.png\" align=\"center\" height=auto width=80%/>\n",
    "\n",
    "<img src=\"reports/percestron_math.png\" align=\"center\" height=auto width=50%/>\n",
    "\n",
    "<img src=\"reports/param_perceptrons.gif\" align=\"center\" height=auto width=60%/>\n",
    "\n",
    "- Exemplo de perceptron com duas entradas\n",
    "\n",
    "<img src=\"reports/linear_models_math.png\" align=\"center\" height=auto width=50%/>\n",
    "\n",
    "\n",
    "## **Structure**\n",
    "\n",
    "Os valores de output de um perceptron podem ser **True** ou **False** ou uma probabilidade.\n",
    "\n",
    "- Inputs **features**\n",
    "- Linear Funcntion\n",
    "- Activation Function\n",
    "- Bias **b**\n",
    "- Output\n",
    "\n",
    "<img src=\"reports/perceptrons_simple.png\"  align=\"center\" height=auto width=80%/>\n",
    "<br/>\n",
    "<br/>\n",
    "<br/>"
   ]
  },
  {
   "cell_type": "markdown",
   "metadata": {},
   "source": [
    "## **Activation Functions**\n",
    "_Is the function that activates the neurons._\n",
    "\n",
    "As activate functions adicionam um fator de **não linearidade** nos modelos lineares\n",
    "\n",
    "\n",
    "- Um algoritmo perceptron é a combinação de nós, sendo o primeiro uma equação linear e o segundo  uma equação de validação.\n",
    "\n",
    "- Activate function pode ser contínua ou discreta.\n",
    "\n",
    "<img src=\"reports/classification_and_regression_graph.png\"  align=\"center\" height=auto width=80%/>\n",
    "\n",
    "<img src=\"reports/linear_regression_network.png\"  align=\"center\" height=auto width=50%/>\n",
    "\n",
    "\n",
    "### Step Function\n",
    "É para uma activate function discreta e binária.\n",
    "\n",
    "<img src=\"reports/step_function.png\"  align=\"center\" height=auto width=30%/>\n",
    "\n",
    "<img src=\"reports/sigmoid_fuc.png\" align=\"center\" height=auto width=50%/>\n"
   ]
  },
  {
   "cell_type": "markdown",
   "metadata": {},
   "source": [
    "#### Example"
   ]
  },
  {
   "cell_type": "code",
   "execution_count": 1,
   "metadata": {},
   "outputs": [],
   "source": [
    "def stepFunction(t):\n",
    "    if t >= 0:\n",
    "        return 1\n",
    "    return 0"
   ]
  },
  {
   "cell_type": "markdown",
   "metadata": {},
   "source": [
    "### Sigmoid Function\n",
    "_Logistic Function_\n",
    "\n",
    "- Como neurônios biológicos funcionam de foma binária (ativando vs não ativando), a função sigmoide é uma boa forma de modelar esse comportamento, já que **assume valores apenas entre 0 (não ativação) e 1 (ativação).** \n",
    "\n",
    "- É para uma activate function contínuo e com infinitos resultados.\n",
    "\n",
    "$$\\sigma(x) = \\frac{1}{1+e^{-x}}$$\n",
    "\n",
    "Como resultado da função de predição teremos:\n",
    "\n",
    "$$\\hat{y} = \\sigma(w_1 x_1 + b)$$\n",
    "\n",
    "#### Example"
   ]
  },
  {
   "cell_type": "code",
   "execution_count": 41,
   "metadata": {},
   "outputs": [],
   "source": [
    "import numpy as np\n",
    "\n",
    "\n",
    "def sigmoid(x):\n",
    "    return 1 / (1 + np.exp(-x))"
   ]
  },
  {
   "cell_type": "markdown",
   "metadata": {},
   "source": [
    "<br/>\n",
    "<br/>\n",
    "\n",
    "### Comparative Step X Sigmoid\n",
    "\n",
    "<img src=\"reports/activation_functions.png\"  align=\"center\" height=auto width=80%/>\n",
    "\n",
    "<img src=\"reports/percestrons_sigmoide.png\"  align=\"center\" height=auto width=80%/>\n",
    "\n",
    "<img src=\"reports/step_fucntion_step_sigmoide.png\"  align=\"center\" height=auto width=80%/>\n",
    "<br/>\n",
    "<br/>\n",
    "<br/>"
   ]
  },
  {
   "cell_type": "markdown",
   "metadata": {},
   "source": [
    "## **Learning Rate**\n",
    "\n",
    "- A escolha errada do learning rate pode gerar **underfit** e **overfit**.\n",
    "- A escolha do valor certo para a Learning Rate é importante, pois afeta a velocidade de aprendizado\n",
    "\n",
    "<img src=\"reports/learning_rate.gif\"  align=\"center\" height=auto width=80%/>\n",
    "<br/>\n",
    "<br/>\n",
    "\n",
    "- Learng Rate = Gradient Descent\n",
    "\n",
    "<img src=\"reports/gradient_descent.gif\" align=\"center\" height=100% width=60%/>\n",
    "\n",
    "\n",
    "Geralmente começamos com um valor bem pequeno (0.1) e vamos analisando os resultados.\n",
    "\n",
    "- Se a **learning rate for muito pequena**, o algoritmo poderá falhar em convergir em um período de tempo razoável.\n",
    "- Se a **learning rate for muito grande**, o algoritmo pode não conseguir estabelecer um bom decision bounary!"
   ]
  },
  {
   "cell_type": "markdown",
   "metadata": {},
   "source": [
    "https://kunicom.blogspot.com/2017/07/15-learning-rate-data-processing.html\n",
    "https://kunicom.blogspot.com/2017/07/16-learning-rate-data-preprocessing.html"
   ]
  },
  {
   "cell_type": "markdown",
   "metadata": {},
   "source": [
    "## **Perceptrons with Logical Operators**\n",
    "\n",
    "### AND\n",
    "\n",
    "| x1 | x2 | result |\n",
    "|----|----|--------|\n",
    "| 1  | 1  | 1      |\n",
    "| 1  | 0  | 0      |\n",
    "| 0  | 1  | 0      |\n",
    "| 0  | 0  | 0      |\n",
    "\n",
    "<img src=\"reports/output_11_0.png\"  align=\"center\" height=auto width=80%/>\n",
    "\n",
    "### OR\n",
    "\n",
    "| x1 | x2 | result |\n",
    "|----|----|--------|\n",
    "| 1  | 1  | 1      |\n",
    "| 1  | 0  | 1      |\n",
    "| 0  | 1  | 1      |\n",
    "| 0  | 0  | 0      |\n",
    "\n",
    "<img src=\"reports/output_13_0.png\"  align=\"center\" height=auto width=80%/>\n",
    "\n",
    "### Similarity\n",
    "O perceptron OR é muito semelhante a um perceptron AND.\n",
    "\n",
    "<img src=\"reports/output_15_0.png\"  align=\"center\" height=auto width=80%/>\n",
    "\n",
    "<br/>\n",
    "\n",
    "### Conversion from AND to OR\n",
    "Para transformar um perceptron E em um perceptron OU é possível de duas formas:\n",
    " - Diminuindo a magnetude do bias (b)\n",
    " - Aumentando os pesos (w)\n",
    "\n",
    "<br/>\n",
    "\n",
    "### Can't Separate XOR\n",
    "\n",
    "| x1 | x2 | result |\n",
    "|----|----|--------|\n",
    "| 0  | 0  | 0      |\n",
    "| 0  | 1  | 1      |\n",
    "| 1  | 0  | 1      |\n",
    "| 1  | 1  | 0      |\n",
    "\n",
    "Não é possivel dividir os grupos com dados em tipo xor.\n",
    "\n",
    "- 50 interações\n",
    "\n",
    "<img src=\"reports/xorish-50-steps.gif\"  align=\"center\" height=auto width=80%/>\n",
    "\n",
    "Para resolver este problema é necessários NAND e OR. Então são necessários no mínimo 2 perceptrons.\n",
    "\n",
    "<br/>\n",
    "<br/>\n",
    "<br/>"
   ]
  },
  {
   "cell_type": "markdown",
   "metadata": {},
   "source": [
    "## **Modeling Perceptrons**"
   ]
  },
  {
   "cell_type": "code",
   "execution_count": 609,
   "metadata": {},
   "outputs": [
    {
     "name": "stdout",
     "output_type": "stream",
     "text": [
      "(1000, 2)\n",
      "(1000,)\n"
     ]
    },
    {
     "data": {
      "image/png": "[encoded data removed]",
      "text/plain": [
       "<Figure size 360x360 with 1 Axes>"
      ]
     },
     "metadata": {
      "needs_background": "light"
     },
     "output_type": "display_data"
    }
   ],
   "source": [
    "# Import libraries \n",
    "from sklearn.datasets import make_blobs\n",
    "import matplotlib.pyplot as plt\n",
    "import numpy as np\n",
    "\n",
    "\n",
    "# Generate dataset\n",
    "X, Y = make_blobs(n_features=2, centers=2, n_samples=1000, random_state=18)\n",
    "print(X.shape)\n",
    "print(Y.shape)\n",
    "\n",
    "# Visualize dataset\n",
    "fig, ax = plt.subplots(1, 1, figsize=(5, 5))\n",
    "ax.scatter(X[:, 0], X[:, 1], c=Y)\n",
    "ax.set_title('ground truth', fontsize=20)\n",
    "plt.show()"
   ]
  },
  {
   "cell_type": "code",
   "execution_count": 610,
   "metadata": {},
   "outputs": [],
   "source": [
    "def plot_points(X, y):\n",
    "    admitted = X[np.argwhere(y==1)]\n",
    "    rejected = X[np.argwhere(y==0)]\n",
    "    plt.scatter([s[0][0] for s in rejected], [s[0][1] for s in rejected], s = 25, color = 'blue', edgecolor = 'k')\n",
    "    plt.scatter([s[0][0] for s in admitted], [s[0][1] for s in admitted], s = 25, color = 'yellow', edgecolor = 'k')\n",
    "\n",
    "def display(m, b, color='g--'):\n",
    "    plt.xlim(-0.05,1.05)\n",
    "    plt.ylim(-0.05,1.05)\n",
    "    x = np.arange(-10, 10, 0.1)\n",
    "    plt.plot(x, m*x+b, color)"
   ]
  },
  {
   "cell_type": "markdown",
   "metadata": {},
   "source": [
    "1. Insira um **vetor** em qualquer ponto do gráfico"
   ]
  },
  {
   "cell_type": "code",
   "execution_count": 611,
   "metadata": {},
   "outputs": [
    {
     "name": "stdout",
     "output_type": "stream",
     "text": [
      "[ 0.85353031 -2.53568226 -0.38748351]\n"
     ]
    }
   ],
   "source": [
    "# Initialize weight vector with zeros\n",
    "weight = np.random.normal(size=3)\n",
    "print(weight)"
   ]
  },
  {
   "cell_type": "markdown",
   "metadata": {},
   "source": [
    "2. Aplique um **bias** qualquer"
   ]
  },
  {
   "cell_type": "code",
   "execution_count": 612,
   "metadata": {},
   "outputs": [
    {
     "name": "stdout",
     "output_type": "stream",
     "text": [
      "[[ 1.          6.50991327 -5.41636781]\n",
      " [ 1.          2.4501235  -0.59938532]\n",
      " [ 1.          2.66112728 -1.20982319]\n",
      " ...\n",
      " [ 1.          2.68725506 -0.05088703]\n",
      " [ 1.          7.28854525 -5.41593436]\n",
      " [ 1.          7.90523134 -5.19417784]]\n"
     ]
    }
   ],
   "source": [
    "# Add a bias to the X1 vector\n",
    "X_bias = np.ones([X.shape[0], 3])\n",
    "X_bias[:, 1:3] = X\n",
    "print(X_bias)"
   ]
  },
  {
   "cell_type": "markdown",
   "metadata": {},
   "source": [
    "3. Calcule a **activate function**"
   ]
  },
  {
   "cell_type": "code",
   "execution_count": 613,
   "metadata": {},
   "outputs": [],
   "source": [
    "def sigmoid_function(x):\n",
    "    return 1 / (1 + np.exp(-x))"
   ]
  },
  {
   "cell_type": "markdown",
   "metadata": {},
   "source": [
    "4. Calcule a **cost function** (error)"
   ]
  },
  {
   "cell_type": "code",
   "execution_count": 614,
   "metadata": {},
   "outputs": [],
   "source": [
    "def output_formula(features, weights, bias):\n",
    "    return sigmoid(np.dot(features, weights) + bias)"
   ]
  },
  {
   "cell_type": "code",
   "execution_count": 615,
   "metadata": {},
   "outputs": [],
   "source": [
    "def cost_function(y, y_pred):\n",
    "    return - y*np.log(y_pred) - (1 - y) * np.log(1-y_pred)"
   ]
  },
  {
   "cell_type": "markdown",
   "metadata": {},
   "source": [
    "5. Depois, calcule o **gradient descent** (learning rate)"
   ]
  },
  {
   "cell_type": "code",
   "execution_count": 616,
   "metadata": {},
   "outputs": [],
   "source": [
    "def update_weights_bias_error(x, y, weights, bias, learnrate):\n",
    "    y_pred = output_formula(x, weights, bias)\n",
    "    d_error = -(y - y_pred)\n",
    "    weights -= learnrate * d_error * x\n",
    "    bias -= learnrate * d_error\n",
    "    return weights, bias"
   ]
  },
  {
   "cell_type": "markdown",
   "metadata": {},
   "source": [
    "5. Train"
   ]
  },
  {
   "cell_type": "code",
   "execution_count": 617,
   "metadata": {},
   "outputs": [],
   "source": [
    "def train(features: 'numpy.ndarray', targets: 'numpy.ndarray',\n",
    "          epochs: int, learnrate: float, graph_lines:bool = False):\n",
    "    errors = []\n",
    "    n_records, n_features = features.shape\n",
    "    last_loss = None\n",
    "    weights = weight\n",
    "    bias = 0\n",
    "    \n",
    "    for e in range(epochs):\n",
    "        \n",
    "        for x, y in zip(features, targets):\n",
    "            output = output_formula(x, weights, bias)\n",
    "            error = cost_function(y, output)\n",
    "            weights, bias = update_weights_bias_error(x, y, weights, bias, learnrate)\n",
    "        \n",
    "       # Printing out the log-loss error on the training set\n",
    "        out = output_formula(features, weights, bias)\n",
    "        loss = np.mean(cost_function(targets, out))\n",
    "        errors.append(loss)\n",
    "\n",
    "    # Plotting the error\n",
    "    plt.title(\"Error Plot\")\n",
    "    plt.xlabel('Number of epochs')\n",
    "    plt.ylabel('Error')\n",
    "    plt.plot(errors)\n",
    "    plt.show()"
   ]
  },
  {
   "cell_type": "code",
   "execution_count": 618,
   "metadata": {},
   "outputs": [
    {
     "data": {
      "image/png": "[encoded data removed]",
      "text/plain": [
       "<Figure size 432x288 with 1 Axes>"
      ]
     },
     "metadata": {
      "needs_background": "light"
     },
     "output_type": "display_data"
    }
   ],
   "source": [
    "epochs = 1000\n",
    "learnrate = 0.01\n",
    "\n",
    "trainned_model = train(features=X_bias,\n",
    "                       targets=y,\n",
    "                       epochs=epochs,\n",
    "                       learnrate=learnrate,\n",
    "                       graph_lines=True)"
   ]
  },
  {
   "cell_type": "markdown",
   "metadata": {},
   "source": [
    "A animação abaixo mostra como o Perceptron está procurando um hiperplano que separa os dois clusters."
   ]
  },
  {
   "cell_type": "markdown",
   "metadata": {},
   "source": [
    "<img src=\"reports/perceptron_learning.gif\"  align=\"center\" height=auto width=80%/>"
   ]
  },
  {
   "cell_type": "markdown",
   "metadata": {},
   "source": [
    "É possível notar que a regressão linear escolhida no final não é o melhor decision bounary mas primeira que atende a activation funcntion (step) escolhida."
   ]
  },
  {
   "cell_type": "markdown",
   "metadata": {},
   "source": [
    "#### References\n",
    "- [1] http://scikit-learn.org/stable/modules/generated/sklearn.linear_model.Perceptron.html\n",
    "- [2] https://en.wikipedia.org/wiki/Perceptron\n",
    "- [3] http://jalammar.github.io/visual-interactive-guide-basics-neural-networks/\n",
    "- [4] https://jontysinai.github.io/jekyll/update/2017/11/11/the-perceptron.html"
   ]
  }
 ],
 "metadata": {
  "kernelspec": {
   "display_name": "Python 3",
   "language": "python",
   "name": "python3"
  },
  "language_info": {
   "codemirror_mode": {
    "name": "ipython",
    "version": 3
   },
   "file_extension": ".py",
   "mimetype": "text/x-python",
   "name": "python",
   "nbconvert_exporter": "python",
   "pygments_lexer": "ipython3",
   "version": "3.8.5"
  },
  "latex_envs": {
   "LaTeX_envs_menu_present": true,
   "autoclose": false,
   "autocomplete": true,
   "bibliofile": "biblio.bib",
   "cite_by": "apalike",
   "current_citInitial": 1,
   "eqLabelWithNumbers": true,
   "eqNumInitial": 1,
   "hotkeys": {
    "equation": "Ctrl-E",
    "itemize": "Ctrl-I"
   },
   "labels_anchors": false,
   "latex_user_defs": false,
   "report_style_numbering": false,
   "user_envs_cfg": false
  },
  "toc": {
   "base_numbering": 1,
   "nav_menu": {},
   "number_sections": false,
   "sideBar": false,
   "skip_h1_title": false,
   "title_cell": "Table of Contents",
   "title_sidebar": "Contents",
   "toc_cell": false,
   "toc_position": {},
   "toc_section_display": false,
   "toc_window_display": false
  }
 },
 "nbformat": 4,
 "nbformat_minor": 4
}
