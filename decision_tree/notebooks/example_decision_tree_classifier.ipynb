{
 "cells": [
  {
   "cell_type": "markdown",
   "metadata": {},
   "source": [
    "# Example Decision Tree Classifier"
   ]
  },
  {
   "cell_type": "code",
   "execution_count": 14,
   "metadata": {
    "collapsed": true
   },
   "outputs": [],
   "source": [
    "# SUPERVISED LEARNING\n",
    "\n",
    "# import\n",
    "# load\n",
    "# analyse\n",
    "# (features)X AND (labels)Y\n",
    "# split train and test\n",
    "# choose model: classifier or regressor\n",
    "# trainning model with data train\n",
    "# predict\n",
    "# calculate accuracy (accuracy_score)\n",
    "# plot"
   ]
  },
  {
   "cell_type": "code",
   "execution_count": 33,
   "metadata": {
    "collapsed": true
   },
   "outputs": [],
   "source": [
    "# imports\n",
    "import pandas as pd\n",
    "from sklearn.tree import DecisionTreeClassifier\n",
    "from sklearn.metrics import accuracy_score\n",
    "\n",
    "# load data\n",
    "data = pd.read_csv('/home/brunocampos01/projetos/data_science/machine_learning/'\n",
    "                              'supervised_learning/data_base/data.csv')"
   ]
  },
  {
   "cell_type": "code",
   "execution_count": 34,
   "metadata": {},
   "outputs": [
    {
     "name": "stdout",
     "output_type": "stream",
     "text": [
      "Type database:\n",
      "<class 'pandas.core.frame.DataFrame'>\n",
      "\n",
      "Sample datas:\n",
      "        x1       x2  y\n",
      "0  0.24539  0.81725  0\n",
      "1  0.21774  0.76462  0\n",
      "2  0.20161  0.69737  0\n",
      "3  0.20161  0.58041  0\n",
      "4  0.24770  0.49561  0\n",
      "\n",
      "Type data by columns:\n",
      "x1    float64\n",
      "x2    float64\n",
      "y       int64\n",
      "dtype: object\n",
      "\n",
      "Name collumns:\n",
      "Index(['x1', 'x2', 'y'], dtype='object')\n",
      "\n",
      "rows and columns:\n",
      "(96, 3)\n"
     ]
    }
   ],
   "source": [
    "# analyse\n",
    "\n",
    "print(f\"Type database:\\n{type(data)}\\n\")\n",
    "print(f\"Sample datas:\\n{data.head()}\\n\")\n",
    "print(f\"Type data by columns:\\n{data.dtypes}\\n\")\n",
    "print(f\"Name collumns:\\n{data.keys()}\\n\")\n",
    "print(f\"rows and columns:\\n{np.shape(data)}\")"
   ]
  },
  {
   "cell_type": "code",
   "execution_count": 57,
   "metadata": {
    "collapsed": true
   },
   "outputs": [],
   "source": [
    "# x and y\n",
    "\n",
    "X = data[[\"x1\", \"x2\"]]\n",
    "#X = data[[n_samples]]\n",
    "\n",
    "y = data[\"y\"]\n",
    "#y = data[\"n_features\"]"
   ]
  },
  {
   "cell_type": "code",
   "execution_count": 38,
   "metadata": {},
   "outputs": [
    {
     "name": "stdout",
     "output_type": "stream",
     "text": [
      "X_train:\n",
      "         x1       x2\n",
      "15  0.28917  0.65643\n",
      "22  0.60023  0.27047\n",
      "63  0.87903  0.58626\n",
      "16  0.80069  0.71491\n",
      "69  0.59793  0.93129\n",
      "\n",
      "y_train:\n",
      "15    0\n",
      "22    0\n",
      "63    1\n",
      "16    0\n",
      "69    1\n",
      "Name: y, dtype: int64\n",
      "\n",
      "X_test:\n",
      "          x1       x2\n",
      "45  0.461980  0.30556\n",
      "52  0.514980  0.10965\n",
      "67  0.708530  0.94298\n",
      "68  0.708530  0.87281\n",
      "87  0.095622  0.36696\n",
      "\n",
      "y_test:\n",
      "45    1\n",
      "52    1\n",
      "67    1\n",
      "68    1\n",
      "87    1\n",
      "Name: y, dtype: int64\n"
     ]
    }
   ],
   "source": [
    "# Split train and test\n",
    "from sklearn.model_selection import train_test_split\n",
    "\n",
    "X_train, X_test, y_train, y_test = train_test_split(X, y, test_size=0.25)\n",
    "\n",
    "print(f\"X_train:\\n{X_train.head()}\\n\")\n",
    "print(f\"y_train:\\n{y_train.head()}\\n\")\n",
    "print(f\"X_test:\\n{X_test.head()}\\n\")\n",
    "print(f\"y_test:\\n{y_test.head()}\")"
   ]
  },
  {
   "cell_type": "code",
   "execution_count": 53,
   "metadata": {
    "collapsed": true
   },
   "outputs": [],
   "source": [
    "# create a classifier (model)\n",
    "model = DecisionTreeClassifier()\n",
    "\n",
    "# train (fit)\n",
    "model = model.fit(X_train, y_train)\n",
    "\n",
    "# Make predictions using the testing sets\n",
    "# y variable dependent\n",
    "y_pred = model.predict(X_test)"
   ]
  }
 ],
 "metadata": {
  "kernelspec": {
   "display_name": "Python 3",
   "language": "python",
   "name": "python3"
  },
  "language_info": {
   "codemirror_mode": {
    "name": "ipython",
    "version": 3
   },
   "file_extension": ".py",
   "mimetype": "text/x-python",
   "name": "python",
   "nbconvert_exporter": "python",
   "pygments_lexer": "ipython3",
   "version": "3.7.3"
  },
  "latex_envs": {
   "LaTeX_envs_menu_present": true,
   "autoclose": false,
   "autocomplete": true,
   "bibliofile": "biblio.bib",
   "cite_by": "apalike",
   "current_citInitial": 1,
   "eqLabelWithNumbers": true,
   "eqNumInitial": 1,
   "hotkeys": {
    "equation": "Ctrl-E",
    "itemize": "Ctrl-I"
   },
   "labels_anchors": false,
   "latex_user_defs": false,
   "report_style_numbering": false,
   "user_envs_cfg": false
  }
 },
 "nbformat": 4,
 "nbformat_minor": 2
}
