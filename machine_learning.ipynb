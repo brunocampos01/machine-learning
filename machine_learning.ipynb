{
 "cells": [
  {
   "cell_type": "markdown",
   "metadata": {},
   "source": [
    "http://cursos.leg.ufpr.br/ML4all/1parte/\n",
    "!!!\n",
    "\n",
    "linear_algebra.png\n",
    "\n",
    "interpretability.png\n",
    "\n",
    "# What is machine learning ?\n",
    "Basicamente, em computação, o machine Learning é sobre **aprender algumas propriedades** de um conjunto de dados e aplicá-las a novos dados. \n",
    "\n",
    "## Appications of Machine Learning\n",
    "As aplicações mais comuns, ou seja, os problemas que machine learing resolve são:\n",
    "\n",
    "#### Classification\n",
    "`O QUE É ISSO?`\n",
    "\n",
    "Uma subcategoria de Aprendizado supervisionado, Classificação é o processo de tomar algum tipo de entrada e atribuir um rótulo a ela. Os sistemas de classificação geralmente são usados ​​quando as previsões são de natureza discreta ou “sim ou não”. Exemplo: Mapear uma imagem de alguém para uma classificação masculina ou feminina.\n",
    "\n",
    "#### Regression\n",
    "`QUANTO É?`\n",
    "\n",
    "Outra subcategoria de aprendizado supervisionado é usada quando o valor que está sendo previsto difere de um rótulo “sim ou não”, por estar em algum lugar em um espectro contínuo. Sistemas de regressão poderiam ser usados, por exemplo, para responder a perguntas sobre “quanto?” Ou “quantos?”.\n",
    "\n",
    "\n",
    "### Clustering\n",
    "`QUAIS SÃO OS GRUPOS?`\n",
    "\n",
    "\n",
    "\n",
    "### Decision\n",
    "` O QUE FAÇO AGORA?`\n",
    "\n",
    "reinforcement Learning\n",
    "\n",
    "\n",
    "## Algoritm Types\n",
    "\n",
    "### Linear \n",
    "- Linear Regression\n",
    "\n",
    "### Tree\n",
    "- Decision Tree\n",
    "\n",
    "### Bayes\n",
    "\n",
    "## Model Types\n",
    "\n",
    "|                   | Modelo discriminativo            | Modelo generativo                                  |\n",
    "|-------------------|----------------------------------|----------------------------------------------------|\n",
    "| Goal          | Estimar diretamente P(y/x)P(y/x) | Estimar P(x/y)P(x/y) para daí deduzir P(y|x)P(y|x) |\n",
    "| O que é aprendido | Fronteira de decisão             | Probabilidade da distribuição dos dados            |\n",
    "| Ilustração        |    <img src=\"images/discriminative-model.png\" align=\"left\" height=auto width=60%/>                              |     <img src=\"images/generative-model.png\" align=\"left\" height=auto width=60%/>                                                |\n",
    "| Exemplos          | Regressões, SVMs                 | GDA, Naive Bayes                                   |"
   ]
  },
  {
   "cell_type": "markdown",
   "metadata": {},
   "source": [
    "## Modeling a Problem Using Machine Learning\n",
    "A modelagem de um problema usando machine learning tem o objetivo de desenvolver uma função de hypothesis **h**.\n",
    "<br/>\n",
    "<br/>\n",
    "<img src=\"images/output_8_0.png\" align=\"left\" height=auto width=60%/>\n",
    "<br/>\n",
    "<br/>\n",
    "<br/>\n",
    "<br/>\n",
    "<br/>\n",
    "<br/>\n",
    "<br/>\n",
    "<br/>\n",
    "<br/>\n",
    "<br/>\n",
    "<br/>\n",
    "\n",
    "**NOTES**\n",
    "\n",
    "_For historical reasons, this function h is called a hypothesis._\n",
    "<br/>\n",
    "<br/>\n",
    "Can also be called **predictive function** if calculates future events."
   ]
  },
  {
   "cell_type": "markdown",
   "metadata": {},
   "source": [
    "## Learning Types\n",
    "1. Supervised Learning\n",
    "2. Unsupervised Learning\n",
    "3. Reinforcement Learing\n",
    "\n",
    "<img src=\"images/output_1_0.png\" />"
   ]
  },
  {
   "cell_type": "markdown",
   "metadata": {},
   "source": [
    "---"
   ]
  },
  {
   "cell_type": "markdown",
   "metadata": {},
   "source": [
    "# Supervised Learning\n",
    "Uma aprendizagem deste tipo apresenta problemas do tipo classification e regression. A principal diferença entre classification e regression é que na classification, nós **prevemos um estado**, enquanto, na regression, **prevemos um valor.**\n",
    "\n",
    "Podemos usar algortimos matemáticos para modelar os problemas supervisionados:\n",
    "* ## Linear regression\n",
    "    * [Papyrus]()\n",
    "    * [Exercices]()\n",
    "- ## Perceptrons\n",
    "    * [Papyrus]()\n",
    "    * [Exercices]()\n",
    "* ## Decision tree\n",
    "    * [Papyrus]()\n",
    "    * [Exercices]()\n",
    "* ## Naive bayes\n",
    "    * [Papyrus]()\n",
    "    * [Exercices]()\n",
    "* ## Suport Vectorial Machine\n",
    "     * [Papyrus]()\n",
    "     * [Exercices]()\n",
    "* ## Ensembles methods\n",
    "     * [Papyrus]()\n",
    "     * [Exercices]()"
   ]
  },
  {
   "cell_type": "markdown",
   "metadata": {},
   "source": [
    "## Advantages and Disadvantages of the models\n",
    "\n",
    "\n",
    "### Logistic Regression\n",
    "#### Advantages\n",
    " - Don’t have to worry about features being correlated\n",
    " - You can easily update your model to take in new data (unlike Decision Trees or SVM)\n",
    " \n",
    "#### Disadvantages\n",
    " - Deals bad with outliers\n",
    " - Must have lots of incomes for each class\n",
    " - Presence of multicollinearity\n",
    " \n",
    " \n",
    "### Decision Tree\n",
    "#### Advantages\n",
    " - Easy to understand and interpret (for some people)\n",
    " - Easy to use - Doesn’t need data normalisation, dummy variables, etc\n",
    " - Can handle multi-output models\n",
    " - Easily handle feature interactions\n",
    " - Don’t have to worry about outliers\n",
    " \n",
    "#### Disadvantages\n",
    " - It can be easily overfitted\n",
    " - Stability —> small changes in data can lead to completely different trees\n",
    " - If a class dominates, it can easily be biased\n",
    " - Don’t support online learning –> you should rebuilt the tree when new data comes\n",
    "\n",
    "\n",
    "### SVM\n",
    "#### Advantages\n",
    " - High accuracy\n",
    " - Nice theoretical guarantees regarding overfitting\n",
    " - Especially popular in text classification problems\n",
    " \n",
    "#### Disavantages\n",
    " - Memory-intensive\n",
    " - Hard to interpret\n",
    " - Complicated to run and tune\n",
    " \n",
    "\n",
    "### Ensemble Methods\n",
    "#### Advantages\n",
    " - Harder to overfit\n",
    " - Usually better perfomance than a single model\n",
    " \n",
    "#### Disadvantages\n",
    " - Scaling —> usually it trains several models, which can have a bad performance with larger datasets\n",
    " - Hard to implement in real time platform\n",
    " - Complexity increases\n",
    " - Boosting delivers poor probability estimates (https://arxiv.org/ftp/arxiv/papers/1207/1207.1403.pdf)\n"
   ]
  },
  {
   "cell_type": "markdown",
   "metadata": {},
   "source": [
    "---\n",
    "# Unsupervised Learning\n",
    "- Clustering\n",
    " - Clustering hierarquico\n",
    " - Modelos de mistura de gaussianas e validação de cluster\n",
    " - Dimensionamento de atributos\n",
    " - Análise de componentes principais"
   ]
  },
  {
   "cell_type": "markdown",
   "metadata": {},
   "source": [
    "---\n",
    "# Reinforcement learning\n",
    " - A estrutura da aprendizagem por reforço: o problema\n",
    " - A estrutura da aprendizagem por reforço: a solução\n",
    " - Programação dinâmica\n",
    " - Métodos de Monte Carlo\n",
    " - Métodos de diferença temporal (TD)\n",
    " - Aprendizagem por reforço em espaços contínuos\n",
    " - Aprendizado-Q profundo\n",
    " - Gradientes de política\n",
    " - Métodos ator-críticos\n",
    "\n",
    "\n"
   ]
  },
  {
   "cell_type": "markdown",
   "metadata": {},
   "source": [
    "# untopic\n",
    "\n",
    "## Causalidade e Ceteris Paribus\n",
    "Na maioria dos estudos estatísticos aplicados às ciências sociais se está interessado no efeito causal que uma variável (por exemplo, salário mínimo) tem em outra (por exemplo, desemprego). Esse tipo de relação é extremamente difícil de descobrir. Muitas vezes, o que se consegue encontrar é uma associação (correlação) entre duas variáveis. Infelizmente, sem o estabelecimento de uma relação causal, apenas correlação não nos fornece uma base solida para tomada de decisão (por exemplo, subir ou baixar o salário mínimo para diminuir o desemprego).\n",
    "\n",
    "Um conceito bastante relevante para a análise causal é o de ceteris paribus, que `significa todos outros fatores (relevantes) mantidos constantes`. A maioria das questões econometricas são de natureza ceteris paribus. Por exemplo, quando se deseja saber o efeito da educação no salário, queremos manter inalteradas outras variáveis relevantes, como por exemplo a renda familiar. O problema é que raramente é possível manter literalmente “tudo mais constante”. A grande questão em estudos sociais empíricos sempre é então se há suficientes fatores relevantes sendo controlados (mantidos constantes) para possibilitar a inferência causal."
   ]
  },
  {
   "cell_type": "markdown",
   "metadata": {},
   "source": [
    "---"
   ]
  },
  {
   "cell_type": "markdown",
   "metadata": {},
   "source": [
    "## References\n",
    "- [1] http://blog.echen.me/2011/04/27/choosing-a-machine-learning-classifier/\n",
    "- [2] https://stanford.edu/~shervine/l/pt/teaching/cs-229/dicas-aprendizado-supervisionado"
   ]
  },
  {
   "cell_type": "markdown",
   "metadata": {},
   "source": [
    "---"
   ]
  }
 ],
 "metadata": {
  "kernelspec": {
   "display_name": "Python 3",
   "language": "python",
   "name": "python3"
  },
  "language_info": {
   "codemirror_mode": {
    "name": "ipython",
    "version": 3
   },
   "file_extension": ".py",
   "mimetype": "text/x-python",
   "name": "python",
   "nbconvert_exporter": "python",
   "pygments_lexer": "ipython3",
   "version": "3.6.8"
  },
  "latex_envs": {
   "LaTeX_envs_menu_present": true,
   "autoclose": false,
   "autocomplete": true,
   "bibliofile": "biblio.bib",
   "cite_by": "apalike",
   "current_citInitial": 1,
   "eqLabelWithNumbers": true,
   "eqNumInitial": 1,
   "hotkeys": {
    "equation": "Ctrl-E",
    "itemize": "Ctrl-I"
   },
   "labels_anchors": false,
   "latex_user_defs": false,
   "report_style_numbering": false,
   "user_envs_cfg": false
  }
 },
 "nbformat": 4,
 "nbformat_minor": 4
}
