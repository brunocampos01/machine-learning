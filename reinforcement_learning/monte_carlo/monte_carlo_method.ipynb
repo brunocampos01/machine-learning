{
 "cells": [
  {
   "cell_type": "markdown",
   "metadata": {},
   "source": [
    "# Monte Carlo Method\n",
    "\n",
    "<img src=\"images/agent_arquiteture.png\" />\n",
    "A interação evolui conforme o agente atua no enviorinment formando um _episode_.\n",
    "<img src=\"images/agent_goal.png\" />\n",
    "Para cada _episode_ o objetivo do agente é encontrar a melhor policy para maximizar o reward acumulado.\n",
    "\n",
    "## The Prediction Problem\n",
    "Dada uma policy **π**, determine qual a melhor State-Value Function para essa policy.<br/>\n",
    "**OBS**: o agente não conhece o enviorinment\n",
    "\n",
    "<img src=\"images/off_policy.png\" />\n",
    "O agente interage com o enviorinment seguindo uma policy, onde ele quer calcular a State-Value function para essa policy.\n",
    "\n",
    "## The Control Problem\n",
    "Como um agente consegue aprender uma policy ótima através de interação com environment\n",
    "<img src=\"images/off_policy.png\" />\n",
    "\n",
    "....."
   ]
  },
  {
   "cell_type": "code",
   "execution_count": null,
   "metadata": {},
   "outputs": [],
   "source": []
  }
 ],
 "metadata": {
  "kernelspec": {
   "display_name": "Python 3",
   "language": "python",
   "name": "python3"
  },
  "language_info": {
   "codemirror_mode": {
    "name": "ipython",
    "version": 3
   },
   "file_extension": ".py",
   "mimetype": "text/x-python",
   "name": "python",
   "nbconvert_exporter": "python",
   "pygments_lexer": "ipython3",
   "version": "3.6.5"
  },
  "latex_envs": {
   "LaTeX_envs_menu_present": true,
   "autoclose": false,
   "autocomplete": true,
   "bibliofile": "biblio.bib",
   "cite_by": "apalike",
   "current_citInitial": 1,
   "eqLabelWithNumbers": true,
   "eqNumInitial": 1,
   "hotkeys": {
    "equation": "Ctrl-E",
    "itemize": "Ctrl-I"
   },
   "labels_anchors": false,
   "latex_user_defs": false,
   "report_style_numbering": false,
   "user_envs_cfg": false
  }
 },
 "nbformat": 4,
 "nbformat_minor": 2
}
