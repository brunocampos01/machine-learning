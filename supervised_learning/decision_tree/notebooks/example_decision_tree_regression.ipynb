{
 "cells": [
  {
   "cell_type": "markdown",
   "metadata": {},
   "source": [
    "# [Example Decision Tree Regression](http://scikit-learn.org/stable/auto_examples/tree/plot_tree_regression.html)"
   ]
  },
  {
   "cell_type": "markdown",
   "metadata": {},
   "source": [
    "a árvore de decisão é usada para ajustar uma curva senoidal com adição de observação ruidosa. Como resultado, ele aprende regressões lineares locais aproximando-se da curva senoidal.\n",
    "\n",
    "\n",
    "Podemos ver que, se a profundidade máxima da árvore (controlada pelo parâmetro max_depth ) for muito alta, as árvores de decisão aprendem detalhes muito pequenos dos dados de treinamento e aprendem com o ruído, ou seja, preparam um overfit.\n",
    "\n"
   ]
  },
  {
   "cell_type": "markdown",
   "metadata": {},
   "source": [
    "## Parâmetros\n",
    "Quando definimos o modelo, podemos especificar os hiperparâmetros. Na prática, os mais comuns são\n",
    "\n",
    " - max_depth: O número máximo de níveis na árvore.\n",
    " - min_samples_leaf: O número mínimo de amostras permitido em uma folha.\n",
    " - min_samples_split: O número mínimo de amostras necessárias para dividir um nó interno.\n",
    " - max_features : O número de atributos a se considerar ao buscarmos pela melhor divisão"
   ]
  },
  {
   "cell_type": "code",
   "execution_count": 91,
   "metadata": {},
   "outputs": [],
   "source": [
    "# SUPERVISED LEARNING\n",
    "\n",
    "# import\n",
    "# load\n",
    "# analyse\n",
    "# (features)X AND (labels)Y\n",
    "# split train and test\n",
    "# choose model: classifier or regressor\n",
    "# trainning model with data train\n",
    "# predict\n",
    "# calculate accuracy (accuracy_score)\n",
    "# plot"
   ]
  },
  {
   "cell_type": "code",
   "execution_count": 105,
   "metadata": {},
   "outputs": [],
   "source": [
    "# import\n",
    "import numpy as np\n",
    "import pylab as pl\n",
    "import pandas as pd\n",
    "from sklearn import tree\n",
    "from sklearn import datasets\n",
    "\n",
    "# load\n",
    "data_boston = datasets.load_boston()\n",
    "\n",
    "#convert dataset to dataframe(data, collumns)\n",
    "data = pd.DataFrame(data_boston.data, columns = data_boston.feature_names)"
   ]
  },
  {
   "cell_type": "code",
   "execution_count": 106,
   "metadata": {
    "scrolled": false
   },
   "outputs": [
    {
     "name": "stdout",
     "output_type": "stream",
     "text": [
      "Type database:\n",
      "<class 'pandas.core.frame.DataFrame'>\n",
      "\n",
      "Sample datas:\n",
      "      CRIM    ZN  INDUS  CHAS    NOX     RM   AGE     DIS  RAD    TAX  \\\n",
      "0  0.00632  18.0   2.31   0.0  0.538  6.575  65.2  4.0900  1.0  296.0   \n",
      "1  0.02731   0.0   7.07   0.0  0.469  6.421  78.9  4.9671  2.0  242.0   \n",
      "2  0.02729   0.0   7.07   0.0  0.469  7.185  61.1  4.9671  2.0  242.0   \n",
      "3  0.03237   0.0   2.18   0.0  0.458  6.998  45.8  6.0622  3.0  222.0   \n",
      "4  0.06905   0.0   2.18   0.0  0.458  7.147  54.2  6.0622  3.0  222.0   \n",
      "\n",
      "   PTRATIO       B  LSTAT  \n",
      "0     15.3  396.90   4.98  \n",
      "1     17.8  396.90   9.14  \n",
      "2     17.8  392.83   4.03  \n",
      "3     18.7  394.63   2.94  \n",
      "4     18.7  396.90   5.33  \n",
      "\n",
      "Type data by columns:\n",
      "CRIM       float64\n",
      "ZN         float64\n",
      "INDUS      float64\n",
      "CHAS       float64\n",
      "NOX        float64\n",
      "RM         float64\n",
      "AGE        float64\n",
      "DIS        float64\n",
      "RAD        float64\n",
      "TAX        float64\n",
      "PTRATIO    float64\n",
      "B          float64\n",
      "LSTAT      float64\n",
      "dtype: object\n",
      "\n",
      "Name collumns:\n",
      "Index(['CRIM', 'ZN', 'INDUS', 'CHAS', 'NOX', 'RM', 'AGE', 'DIS', 'RAD', 'TAX',\n",
      "       'PTRATIO', 'B', 'LSTAT'],\n",
      "      dtype='object')\n",
      "\n",
      "rows and columns:\n",
      "(506, 13)\n"
     ]
    }
   ],
   "source": [
    "# analyse\n",
    "\n",
    "print(f\"Type database:\\n{type(data)}\\n\")\n",
    "print(f\"Sample datas:\\n{data.head()}\\n\")\n",
    "print(f\"Type data by columns:\\n{data.dtypes}\\n\")\n",
    "print(f\"Name collumns:\\n{data.keys()}\\n\")\n",
    "print(f\"rows and columns:\\n{np.shape(data)}\")"
   ]
  },
  {
   "cell_type": "markdown",
   "metadata": {},
   "source": [
    "### Problem: \n",
    "Predict ibi (imc)\n",
    "\n",
    "- Analyse varibles: https://archive.ics.uci.edu/ml/machine-learning-databases/housing/housing.names"
   ]
  },
  {
   "cell_type": "code",
   "execution_count": 107,
   "metadata": {},
   "outputs": [],
   "source": [
    "# (samples)X AND (target)Y\n",
    "\n",
    "X = data[['DIS']]\n",
    "y = data['AGE']"
   ]
  },
  {
   "cell_type": "code",
   "execution_count": 108,
   "metadata": {},
   "outputs": [
    {
     "name": "stdout",
     "output_type": "stream",
     "text": [
      "X_train:\n",
      "        DIS\n",
      "505  2.5050\n",
      "401  1.5741\n",
      "415  1.8347\n",
      "481  3.3317\n",
      "321  4.5404\n",
      "\n",
      "y_train:\n",
      "505     80.8\n",
      "401    100.0\n",
      "415    100.0\n",
      "481     74.9\n",
      "321     54.3\n",
      "Name: AGE, dtype: float64\n",
      "\n",
      "X_test:\n",
      "        DIS\n",
      "30   4.2330\n",
      "124  2.0063\n",
      "167  2.4259\n",
      "5    6.0622\n",
      "15   4.4986\n",
      "\n",
      "y_test:\n",
      "30     94.1\n",
      "124    95.8\n",
      "167    79.2\n",
      "5      58.7\n",
      "15     56.5\n",
      "Name: AGE, dtype: float64\n"
     ]
    }
   ],
   "source": [
    "# Split the data into training/testing sets\n",
    "from sklearn.model_selection import train_test_split\n",
    "\n",
    "X_train, X_test, y_train, y_test = train_test_split(\n",
    "                                    X, \n",
    "                                    y, \n",
    "                                    test_size=0.25)\n",
    "\n",
    "print(f\"X_train:\\n{X_train.head()}\\n\")\n",
    "print(f\"y_train:\\n{y_train.head()}\\n\")\n",
    "print(f\"X_test:\\n{X_test.head()}\\n\")\n",
    "print(f\"y_test:\\n{y_test.head()}\")"
   ]
  },
  {
   "cell_type": "code",
   "execution_count": 109,
   "metadata": {},
   "outputs": [],
   "source": [
    "# Model regressor\n",
    "model_depth_2 = tree.DecisionTreeRegressor(max_depth = 2, random_state=0)\n",
    "model_depth_5 = tree.DecisionTreeRegressor(max_depth = 5)\n",
    "\n",
    "# train\n",
    "model_depth_2 = model_depth_2.fit(X_train,y_train)\n",
    "model_depth_5 = model_depth_5.fit(X_train,y_train)\n",
    "\n",
    "# Predict\n",
    "y_2 = model_depth_2.predict(X_test)\n",
    "y_5 = model_depth_5.predict(X_test)"
   ]
  },
  {
   "cell_type": "code",
   "execution_count": 110,
   "metadata": {},
   "outputs": [
    {
     "data": {
      "image/png": "[encoded data removed]",
      "text/plain": [
       "<Figure size 432x288 with 1 Axes>"
      ]
     },
     "metadata": {},
     "output_type": "display_data"
    }
   ],
   "source": [
    "# Plot the results\n",
    "import matplotlib.pyplot as plt\n",
    "\n",
    "plt.figure()\n",
    "plt.scatter(X, y, s=20, edgecolor=\"black\", c=\"darkorange\", label=\"data\")\n",
    "plt.plot(X_test, y_2, color=\"cornflowerblue\", label=\"max_depth=2\", linewidth=2)\n",
    "#plt.plot(X_test, y_5, color=\"yellowgreen\", label=\"max_depth=5\", linewidth=2)\n",
    "plt.xlabel('')\n",
    "plt.ylabel('')\n",
    "plt.title(\"Decision Tree Regression\")\n",
    "plt.legend()\n",
    "plt.show()"
   ]
  },
  {
   "cell_type": "code",
   "execution_count": null,
   "metadata": {},
   "outputs": [],
   "source": []
  }
 ],
 "metadata": {
  "kernelspec": {
   "display_name": "Python 3",
   "language": "python",
   "name": "python3"
  },
  "language_info": {
   "codemirror_mode": {
    "name": "ipython",
    "version": 3
   },
   "file_extension": ".py",
   "mimetype": "text/x-python",
   "name": "python",
   "nbconvert_exporter": "python",
   "pygments_lexer": "ipython3",
   "version": "3.7.1"
  },
  "latex_envs": {
   "LaTeX_envs_menu_present": true,
   "autoclose": false,
   "autocomplete": true,
   "bibliofile": "biblio.bib",
   "cite_by": "apalike",
   "current_citInitial": 1,
   "eqLabelWithNumbers": true,
   "eqNumInitial": 1,
   "hotkeys": {
    "equation": "Ctrl-E",
    "itemize": "Ctrl-I"
   },
   "labels_anchors": false,
   "latex_user_defs": false,
   "report_style_numbering": false,
   "user_envs_cfg": false
  }
 },
 "nbformat": 4,
 "nbformat_minor": 2
}
