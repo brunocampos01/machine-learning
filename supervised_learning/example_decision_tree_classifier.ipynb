{
 "cells": [
  {
   "cell_type": "markdown",
   "metadata": {},
   "source": [
    "# Example Decision Tree Classifier"
   ]
  },
  {
   "cell_type": "code",
   "execution_count": 14,
   "metadata": {},
   "outputs": [],
   "source": [
    "# SUPERVISED LEARNING\n",
    "# import\n",
    "# load\n",
    "# (features)X AND (labels)Y\n",
    "# classifier or regressor (model)\n",
    "# fit model in datas\n",
    "# predict\n",
    "# calculate accuracy (accuracy_score)\n",
    "# plot"
   ]
  },
  {
   "cell_type": "markdown",
   "metadata": {},
   "source": [
    "## Parâmetros\n",
    "Quando definimos o modelo, podemos especificar os hiperparâmetros. Na prática, os mais comuns são\n",
    "\n",
    " - max_depth: O número máximo de níveis na árvore.\n",
    " - min_samples_leaf: O número mínimo de amostras permitido em uma folha.\n",
    " - min_samples_split: O número mínimo de amostras necessárias para dividir um nó interno.\n",
    " - max_features : O número de atributos a se considerar ao buscarmos pela melhor divisão"
   ]
  },
  {
   "cell_type": "code",
   "execution_count": 53,
   "metadata": {},
   "outputs": [
    {
     "name": "stdout",
     "output_type": "stream",
     "text": [
      "<class 'numpy.ndarray'>\n",
      "(96, 3)\n"
     ]
    }
   ],
   "source": [
    "# imports\n",
    "from sklearn.tree import DecisionTreeClassifier\n",
    "from sklearn.metrics import accuracy_score\n",
    "import pandas as pd\n",
    "import numpy as np\n",
    "\n",
    "# load data\n",
    "data = np.asarray(pd.read_csv('/home/brunocampos01/projetos/data_science/machine_learning/'\n",
    "                              'supervised_learning/data_base/data.csv', header=None))\n",
    "print(type(data))\n",
    "print(np.shape(data))\n",
    "\n",
    "# x and y\n",
    "X = data[0:10,0:2]\n",
    "#X = data[rows, columns]\n",
    "y = data[0:10,2]\n",
    "#y = data[rows, columns]"
   ]
  },
  {
   "cell_type": "code",
   "execution_count": 58,
   "metadata": {},
   "outputs": [
    {
     "name": "stdout",
     "output_type": "stream",
     "text": [
      "Acuracy is: 100.0 %\n"
     ]
    }
   ],
   "source": [
    "# classifier or regressor (model)\n",
    "model = DecisionTreeClassifier()\n",
    "\n",
    "# train (fit)\n",
    "model = model.fit(X, y)\n",
    "\n",
    "# predict\n",
    "y_pred = model.predict(X)\n",
    "\n",
    "# calculate accuracy (accuracy_score)\n",
    "acc = accuracy_score(y, y_pred)\n",
    "print(\"Acuracy is: {}\".format(acc*100),\"%\")"
   ]
  },
  {
   "cell_type": "code",
   "execution_count": null,
   "metadata": {},
   "outputs": [],
   "source": []
  }
 ],
 "metadata": {
  "kernelspec": {
   "display_name": "Python 3",
   "language": "python",
   "name": "python3"
  },
  "language_info": {
   "codemirror_mode": {
    "name": "ipython",
    "version": 3
   },
   "file_extension": ".py",
   "mimetype": "text/x-python",
   "name": "python",
   "nbconvert_exporter": "python",
   "pygments_lexer": "ipython3",
   "version": "3.6.5"
  },
  "latex_envs": {
   "LaTeX_envs_menu_present": true,
   "autoclose": false,
   "autocomplete": true,
   "bibliofile": "biblio.bib",
   "cite_by": "apalike",
   "current_citInitial": 1,
   "eqLabelWithNumbers": true,
   "eqNumInitial": 1,
   "hotkeys": {
    "equation": "Ctrl-E",
    "itemize": "Ctrl-I"
   },
   "labels_anchors": false,
   "latex_user_defs": false,
   "report_style_numbering": false,
   "user_envs_cfg": false
  }
 },
 "nbformat": 4,
 "nbformat_minor": 2
}
