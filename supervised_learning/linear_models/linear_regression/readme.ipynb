{
 "cells": [
  {
   "cell_type": "markdown",
   "metadata": {
    "pycharm": {}
   },
   "source": [
    "# Linear Regression <img src=\"reports/icon.png\" align=\"center\" height=auto width=10%/>"
   ]
  },
  {
   "cell_type": "markdown",
   "metadata": {
    "pycharm": {}
   },
   "source": [
    "O algoritmo de _linear regression_ tem o objetivo de encontrar a melhor reta que se ajusta nos dados.\n",
    "\n",
    "\n",
    "Basicamente a ideia de uma _linear regression_ é dar pequenos espaços entre os pontos para que a reta se aproxime de todos os pontos.\n",
    "\n",
    "## Summary\n",
    "  - [Advantages](#advantages)\n",
    "  - [Disadvantages](#disadvantages)\n",
    "  - [Linear Regressions Types](#)\n",
    "    - [Linear Regression](#)\n",
    "    - [Polinomial Regression](#)\n",
    "    - [Lasso Regression](#)\n",
    "    - [Ridge Regression](#)\n",
    "    - [Logistic Regression](#)\n",
    "  - [Cost Functions](#cost-functions)\n",
    "  - [Gradient Descent](#gradient-descent)\n",
    "  - [Regularization](#)\n",
    "  - [Examples](#)\n",
    "    - [Examples](#)\n",
    "    - [Examples](#)\n",
    "    - [Examples](#)\n",
    "    - [Examples](#)"
   ]
  },
  {
   "cell_type": "markdown",
   "metadata": {
    "pycharm": {}
   },
   "source": [
    "## **Advantages**\n",
    "- Otima solução quando a relação entre as variáveis dependentes(y) e independentes(x) geram uma linha. \n",
    "- Encontrar correlação entre variáveis\n",
    "- Fácil de encontrar outliers\n",
    "- Quando tentar prever um valor contínuo - como preço, demanda, ou um índice qualquer - sempre comece usando regressão linear antes de tentar outros algoritmos de AM mais complexos.\n",
    "- Mesmo com milhões de dados, é possível estimar os parâmetros em menos de um segundo. Além disso, uma vez treinado, o regressor ocupa muito pouco espaço, pois só armazena o vetor w^w^. \n",
    "- O modelo de regressão linear é de longe o mais utilizado em econometria"
   ]
  },
  {
   "cell_type": "markdown",
   "metadata": {
    "pycharm": {}
   },
   "source": [
    "## **Disadvantages** \n",
    "\n",
    "#### Linear Regression\n",
    "A regressão linear nem sempre é a melhor escolha dependendo da situação. Exemplos:\n",
    "- **Regressão linear funciona melhor quando os dados são lineares:** \n",
    "A regressão linear produz um modelo que é uma linha reta extraída a partir dos dados de treinamento\n",
    "\n",
    "<img src=\"reports/output_30_0.png\" align=\"center\" height=auto width=50%/>\n",
    "\n",
    "Uma grande limitação do modelo de regressão linear é que a máquina não aprende a forma da não linearidade, ficando essa parte sob responsabilidade da pessoa que está montando o modelo. Em outras palavras, é preciso codificar à força a não linearidade no algoritmo e isso é feito forjando variáveis novas. \n",
    "\n",
    "- **Regressões lineares são sensíveis a casos extraordinários:** \n",
    "A regressão linear tenta encontrar a linha que \"melhor se encaixa\" nos dados de treinamento. Caso o conjunto de dados tenha valores extremos que fujam muito do padrão geral, eles podem ter um efeito inesperadamente grande no modelo.\n",
    "\n",
    "<img src=\"reports/output_32_0.png\" align=\"center\" height=auto width=50%/>\n",
    "\n",
    "\n",
    "#### Polynomial Regression\n",
    "- Problema de overfit que gera uma lata variância\n",
    "\n",
    "<img src=\"reports/overfit_variance.png\" align=\"center\" height=100% width=60%/>\n",
    "\n",
    "- não funciona bem quando temos muitas variáveis e o grau do polinômio é muito alto\n",
    "\n",
    "\n",
    "#### Logistic Regression\n",
    "\n",
    "**TODO**"
   ]
  },
  {
   "cell_type": "markdown",
   "metadata": {},
   "source": [
    "---\n",
    "\n",
    "# **Linear Regressions Types**\n",
    "Até 100k linhas pode ser usado os modelos abaixo, acima disso é recomendado usar algum modelo de deep learning."
   ]
  },
  {
   "cell_type": "markdown",
   "metadata": {
    "pycharm": {}
   },
   "source": [
    "## Linear Regression\n",
    "\n",
    "<img src=\"reports/output_4_0.png\" align=\"center\" height=100% width=60%/>\n",
    "\n",
    "O **w** tambem é chamado de preditor.\n",
    "\n",
    "<img src=\"reports/output_5_0.png\" align=\"left\" height=100% width=60%/>\n",
    "\n",
    "<img src=\"reports/output_6_0.png\" align=\"right\" height=100% width=60%/>\n",
    "\n",
    "<img src=\"reports/output_7_0.png\" align=\"left\" height=100% width=60%/>\n",
    "\n",
    "<img src=\"reports/output_8_0.png\" align=\"right\" height=100% width=60%/>\n",
    "\n",
    "<img src=\"reports/output_9_0.png\" align=\"left\" height=100% width=60%/>"
   ]
  },
  {
   "cell_type": "markdown",
   "metadata": {
    "pycharm": {}
   },
   "source": [
    "## Multiple Linear Regression\n",
    "\n",
    "A regressão linear simples é útil para prever o valor de uma variável dependente por uma variável independente. Contudo, este tipo de regressão não é muito útil no contexto real pois sempre há mais de um fator que pode influenciar uma variável dependente (y).\n",
    "\n",
    "\n",
    "Por exemplo, no caso abaixo temos o preço das casas (y = variável dependente) que é afetado pela qualidade de ensino das escolas proximas (x1) e pelo tamanho da casa(x2). \n",
    "\n",
    "<img src=\"reports/output_24_0.png\" align=\"center\" height=100% width=60%/>\n",
    "\n",
    "A partir disso, observamos que o preço de uma casa (y) pode ser afetado (ser dependente) por N variáveis(x).\n",
    "\n",
    "<img src=\"reports/output_26_0.png\" align=\"center\" height=100% width=60%/>\n",
    "\n",
    "<img src=\"reports/output_27_0.png\" align=\"center\" height=100% width=60%/>\n",
    "\n",
    "<img src=\"reports/output_28_0.png\" align=\"center\" height=100% width=60%/>"
   ]
  },
  {
   "cell_type": "markdown",
   "metadata": {},
   "source": [
    "## Polinomial Regression\n",
    "_E com duas ou três variáveis posso fazer uma regressão polinonial_\n",
    "\n",
    "É possível utilizar o fato de estender regressão linear para regressão polinomial. A ideia é bastante simples: a partir das variáveis existentes, nós vamos construindo novas variáveis polinomiais e a regressão com elas terá mais capacidade quanto maior o grau do polinômio criado. É importante ressaltar que o algoritmo de regressão linear não muda!\n",
    "\n",
    "<img src=\"reports/poly.png\" align=\"center\" height=50% width=40%/>\n",
    "\n",
    "\n",
    "- Uma técnica comum em machine learing é usar _linear models_ treinados em dados não lineares.\n",
    "- A grande vantagem é a radipez para treinamento\n",
    "-  Uma regressão linear simples pode ser estendida através da construção de features polinomiais a partir dos coeficientes.\n",
    "- Ex"
   ]
  },
  {
   "cell_type": "code",
   "execution_count": 116,
   "metadata": {},
   "outputs": [
    {
     "data": {
      "text/plain": [
       "array([[0, 1],\n",
       "       [2, 3],\n",
       "       [4, 5]])"
      ]
     },
     "execution_count": 116,
     "metadata": {},
     "output_type": "execute_result"
    }
   ],
   "source": [
    "from sklearn.preprocessing import PolynomialFeatures\n",
    "import numpy as np\n",
    "\n",
    "# data\n",
    "X = np.arange(6).reshape(3, 2)\n",
    "X"
   ]
  },
  {
   "cell_type": "code",
   "execution_count": 117,
   "metadata": {},
   "outputs": [
    {
     "data": {
      "text/plain": [
       "array([[ 1.,  0.,  1.,  0.,  0.,  1.],\n",
       "       [ 1.,  2.,  3.,  4.,  6.,  9.],\n",
       "       [ 1.,  4.,  5., 16., 20., 25.]])"
      ]
     },
     "execution_count": 117,
     "metadata": {},
     "output_type": "execute_result"
    }
   ],
   "source": [
    "poly = PolynomialFeatures(degree=2)\n",
    "poly.fit_transform(X)"
   ]
  },
  {
   "cell_type": "markdown",
   "metadata": {},
   "source": [
    "As features de `X` foram transformados de `[a, b]` para `[1, a, b, a^2, ab, b^2]`, e agora pode ser usado em qualquer modelo linear.\n",
    "\n",
    "#### Quando usar uma regressão polinomial?\n",
    "\n",
    "É recomendável utilizar regressão polinomial apenas em casos de não linearidades mais simples (**até grau = 2**), por exemplo quando se desconfia de alguma relação marginalmente (imagem abaixo).\n",
    "\n",
    "\n",
    "<img src=\"reports/marginal_decrese.png\" align=\"center\" height=50% width=40%/>"
   ]
  },
  {
   "cell_type": "markdown",
   "metadata": {},
   "source": [
    "#### Creating Polynomial Model"
   ]
  },
  {
   "cell_type": "code",
   "execution_count": 103,
   "metadata": {},
   "outputs": [],
   "source": [
    "#### Import\n",
    "\n",
    "import numpy as np \n",
    "import matplotlib.pyplot as plt \n",
    "import pandas as pd \n",
    "\n",
    "from sklearn.linear_model import LinearRegression\n",
    "from sklearn.preprocessing import PolynomialFeatures"
   ]
  },
  {
   "cell_type": "code",
   "execution_count": 104,
   "metadata": {},
   "outputs": [
    {
     "name": "stdout",
     "output_type": "stream",
     "text": [
      "   sno  Temperature  Pressure\n",
      "0    1            0    0.0002\n",
      "1    2           20    0.0012\n",
      "2    3           40    0.0060\n",
      "3    4           60    0.0300\n",
      "4    5           80    0.0900\n",
      "(6, 1)\n",
      "(6,)\n"
     ]
    }
   ],
   "source": [
    "# Sata\n",
    "df = pd.read_csv('data/raw/pressure_temperature.csv')\n",
    "X = df.iloc[:, 1:2].values \n",
    "y = df.iloc[:, 2].values \n",
    "\n",
    "print(df.head())\n",
    "print(X.shape)\n",
    "print(y.shape)"
   ]
  },
  {
   "cell_type": "markdown",
   "metadata": {},
   "source": [
    "#### Linear Model"
   ]
  },
  {
   "cell_type": "code",
   "execution_count": 105,
   "metadata": {},
   "outputs": [
    {
     "data": {
      "text/plain": [
       "LinearRegression(copy_X=True, fit_intercept=True, n_jobs=None, normalize=False)"
      ]
     },
     "execution_count": 105,
     "metadata": {},
     "output_type": "execute_result"
    }
   ],
   "source": [
    "# Fitting Linear Regression\n",
    "lr_model = LinearRegression() \n",
    "lr_model.fit(X, y)"
   ]
  },
  {
   "cell_type": "code",
   "execution_count": 106,
   "metadata": {},
   "outputs": [
    {
     "data": {
      "image/png": "[encoded data removed]",
      "text/plain": [
       "<Figure size 432x288 with 1 Axes>"
      ]
     },
     "metadata": {
      "needs_background": "light"
     },
     "output_type": "display_data"
    }
   ],
   "source": [
    "# Visualising the Linear Regression results \n",
    "plt.scatter(X, y, color = 'blue') \n",
    "\n",
    "plt.plot(X, lr_model.predict(X), color = 'red') \n",
    "plt.title('Linear Regression') \n",
    "plt.xlabel('Temperature') \n",
    "plt.ylabel('Pressure') \n",
    "\n",
    "plt.show() "
   ]
  },
  {
   "cell_type": "markdown",
   "metadata": {},
   "source": [
    "#### Polynomial Model"
   ]
  },
  {
   "cell_type": "code",
   "execution_count": 109,
   "metadata": {},
   "outputs": [
    {
     "data": {
      "text/plain": [
       "LinearRegression(copy_X=True, fit_intercept=True, n_jobs=None, normalize=False)"
      ]
     },
     "execution_count": 109,
     "metadata": {},
     "output_type": "execute_result"
    }
   ],
   "source": [
    "# Fitting Polynomial Regression\n",
    "poly = PolynomialFeatures(degree=4) \n",
    "X_poly = poly.fit_transform(X) \n",
    "  \n",
    "poly.fit(X_poly, y) \n",
    "polymonial_model = LinearRegression() \n",
    "polymonial_model.fit(X_poly, y) "
   ]
  },
  {
   "cell_type": "code",
   "execution_count": 110,
   "metadata": {},
   "outputs": [
    {
     "data": {
      "image/png": "[encoded data removed]",
      "text/plain": [
       "<Figure size 432x288 with 1 Axes>"
      ]
     },
     "metadata": {
      "needs_background": "light"
     },
     "output_type": "display_data"
    }
   ],
   "source": [
    "# Visualising the Polynomial Regression results \n",
    "plt.scatter(X, y, color = 'blue') \n",
    "  \n",
    "plt.plot(X, polymonial_model.predict(poly.fit_transform(X)), color = 'red') \n",
    "plt.title('Polynomial Regression') \n",
    "plt.xlabel('Temperature') \n",
    "plt.ylabel('Pressure') \n",
    "  \n",
    "plt.show() "
   ]
  },
  {
   "cell_type": "markdown",
   "metadata": {},
   "source": [
    "#### Tradeoff \n",
    " \n",
    "O modelo com polinômio de grau 4 acerta mais os dados mas é provável que a **_varience_ dele seja muito alta**, podendo comprometer a performance de generalização.\n",
    "\n",
    "Por outro lado, o modelo com polinômio de grau 1 não consegue sequer capturar as curvaturas dos dados de treino. Assim, podemos especular que esse modelo **tem _bias_ muito baixo**.\n",
    "\n",
    "<img src=\"reports/overfit.gif\" align=\"center\" height=50% width=40%/>\n"
   ]
  },
  {
   "cell_type": "markdown",
   "metadata": {},
   "source": [
    "## Logistic Regression\n",
    "\n",
    "**TODO**\n",
    "- https://matheusfacure.github.io/2017/02/25/regr-log/"
   ]
  },
  {
   "cell_type": "markdown",
   "metadata": {
    "pycharm": {}
   },
   "source": [
    "---\n",
    "\n",
    "## **Cost Function**\n",
    "- É a diferença entre o valor real e o valor predito.\n",
    "- Resíduo = erro médio absoluto\n",
    "- Cost Function = Error Function \n",
    "\n",
    "#### Cost ?\n",
    "Uma função que mapeia um evento ou valores de uma ou mais variáveis ​​para um número real, representando intuitivamente algum \"custo\" associado ao evento.\n",
    "\n",
    "<img src=\"reports/variables_linear_regression.png\" align=\"center\" height=100% width=60%/>\n",
    "\n",
    "<img src=\"reports/output_11_0.png\" align=\"center\" height=100% width=60%/>\n",
    "\n",
    "<img src=\"reports/output_12_0.png\" align=\"center\" height=100% width=60%/>"
   ]
  },
  {
   "cell_type": "markdown",
   "metadata": {
    "pycharm": {}
   },
   "source": [
    "### MSE(Mean Squared Error) \n",
    "É possivel calcular um erro médio quadrático.\n",
    "\n",
    "<img src=\"reports/output_14_0.png\" align=\"center\" height=100% width=60%/>\n",
    "\n",
    "<img src=\"reports/mse.png\" align=\"center\" height=100% width=60%/>\n",
    "\n",
    " - OBS: a única difrença para o que eu vi em técnicas estatíticas de predição foi a derivação da fórmula.\n",
    " \n",
    "### Comparison of error types\n",
    "\n",
    "<img src=\"reports/output_17_0.png\" align=\"center\" height=100% width=60%/>\n",
    "\n",
    "#### Mean absolute error\n",
    "Indiferente da reta, sempre dará o mesmo tamanho de erro.\n",
    "\n",
    "#### Mean Square Error\n",
    "Neste caso temos uma função de 2º grau, onde a linha B se encontra no ponto mais baixo.\n",
    "\n",
    "<img src=\"reports/output_20_0.png\" align=\"center\" height=100% width=60%/>\n",
    "\n",
    "\n",
    "#### Mean absolute error x Mean Square Error\n",
    "\n",
    "<img src=\"reports/cost-median-mean.png\" align=\"center\" height=100% width=60%/>\n",
    "\n",
    "- Quando usar um e outro ?\n",
    "Na prática, depende muito pois o que causa é a alteração no _learning rate_."
   ]
  },
  {
   "cell_type": "code",
   "execution_count": 111,
   "metadata": {},
   "outputs": [],
   "source": [
    "import matplotlib.pyplot as plt\n",
    "import numpy as np\n",
    "\n",
    "\n",
    "# original data\n",
    "X = [1, 2, 3]\n",
    "y = [1, 2.5, 3.5]\n",
    "\n",
    "\n",
    "hyps = 1.0 "
   ]
  },
  {
   "cell_type": "code",
   "execution_count": 112,
   "metadata": {},
   "outputs": [],
   "source": [
    "# mutiply the original X values by hyps to produce hypothesis values for each X\n",
    "def multiply_matrix(mat, hyps):\n",
    "    mutated = []\n",
    "    for i in range(len(mat)):\n",
    "        mutated.append(mat[i] * hyps)\n",
    "\n",
    "    return mutated\n",
    "\n",
    "\n",
    "def calc_cost(m, X, y):\n",
    "    '''\n",
    "    Calculates the cost for given X, y and vector total (m)\n",
    "    \n",
    "    m = total vector of thetas\n",
    "    X = Row of X's np.zeros((2,j))\n",
    "    y = Actual y's np.zeros((2,1))\n",
    "    '''\n",
    "    total = 0\n",
    "    \n",
    "    for i in range(m):\n",
    "        squared_error = (y[i] - X[i]) ** 2\n",
    "        total += squared_error\n",
    "    \n",
    "    return (1/(2*m)) * total "
   ]
  },
  {
   "cell_type": "code",
   "execution_count": 113,
   "metadata": {},
   "outputs": [
    {
     "name": "stdout",
     "output_type": "stream",
     "text": [
      "Cost for hypotesis  1.0  is  0.08333333333333333\n"
     ]
    }
   ],
   "source": [
    "# calculate cost for hypothesis\n",
    "hyp_values = multiply_matrix(X, hyps)\n",
    "\n",
    "print(\"Cost for hypotesis \", hyps, \" is \", calc_cost(len(X), y, hyp_values))"
   ]
  },
  {
   "cell_type": "markdown",
   "metadata": {},
   "source": [
    "---\n",
    "\n",
    "## **Gradient Descent**\n",
    "_Gradient Descent is the method by which we make our model learn._\n",
    "\n",
    "<img src=\"reports/gradient_decent.png\" align=\"center\" height=100% width=60%/>\n",
    "\n",
    "<img src=\"reports/gratient_cost.png\" align=\"center\" height=100% width=60%/>\n",
    "\n",
    "\n",
    "- É algoritmo de otimização para encontrar mínimo global.\n",
    "- É recomendado para casos de com > 100 features\n",
    "\n",
    "<img src=\"reports/less_100.png\" align=\"center\" height=100% width=60%/>\n",
    "\n",
    "Menos que isso, a sugestãõ é usar algo analítico.\n",
    "\n",
    "\n",
    "\n",
    "No caso da nossa regressão linear por gradiente descendente, podemos distinguir três hiper-parâmetros:\n",
    "\n",
    "- A taxa de aprendizado\n",
    "- O número de iterações de treino\n",
    "- Os valores iniciais de w^w^\n",
    "\n",
    "- Easy to implement\n",
    "- Requires less memory and processing\n",
    "\n",
    "Exemplo da montanha\n",
    "- imagine que vc esta no alto de uma montanha e deseja descer de olhos fechados.\n",
    "- descer é equivalente a aproximar a reta dos pontos.\n",
    "\n",
    "<img src=\"reports/gradient_descent.png\" align=\"center\" height=100% width=60%/>\n",
    "\n",
    "<img src=\"reports/gradient_descent_2.png\" align=\"center\" height=100% width=60%/>\n",
    "\n",
    "<img src=\"reports/gradient_descent_3.png\" align=\"center\" height=100% width=60%/>\n",
    "\n",
    "\n",
    "#### Speed\n",
    "Quando falamos de uma bolinha de gude deslizando para o fundo de uma tigela, podemos visualizar a bolinha começando com uma pequena velocidade e acelerando ao longo do trajeto. Com gradiente descendente ocorre o oposto: inicialmente, os parâmetros b^ e w^ caminham rapidamente em direção ao ponto de mínimo e, quanto mais se aproximam dele, passam a caminhar cada vez mais devagar.\n",
    "\n",
    "#### Why ?\n",
    "Quanto mais próximos estamos do ponto de mínimo, menor a inclinação da função custo, OU SEJA menor o gradiente, OU SEJA, menor o passo dado em direção ao mínimo.\n",
    "\n",
    "\n",
    "#### Graphic\n",
    "- Para minimizar os erros basta calcular a derivada da função de erro.\n",
    "- Use a regra da cadeia\n",
    "- Quanto mais baixo estiver o valor de _error_, menor é a taxa de aprendizagem α.\n",
    "\n",
    "<img src=\"reports/gardient_descent_mat.png\" align=\"center\" height=100% width=60%/>\n",
    "\n",
    "<img src=\"reports/cost_fucntion.png\" align=\"center\" height=100% width=60%/>\n",
    "\n",
    "### Visualization\n",
    "\n",
    "<img src=\"reports/random.gif\" align=\"center\" height=100% width=60%/>\n",
    "\n",
    "<img src=\"reports/graddesc.gif\" align=\"center\" height=100% width=60%/>\n",
    "\n",
    "1. Insira parâmetros aleatórios\n",
    "2. Calcule a _cost fucntion_\n",
    "3. Aplique a regra da cadeia na _cost function_ até encontrar o menor valor"
   ]
  },
  {
   "cell_type": "code",
   "execution_count": 114,
   "metadata": {},
   "outputs": [],
   "source": [
    "X = 3\n",
    "learning_rate = 0.01 # Learning rate\n",
    "precision = 0.000001 # Stop loop\n",
    "previous_step_size = 1 \n",
    "max_iters = 10000 # Maximum number of iterations\n",
    "count = 0 # Iteration counter\n",
    "\n",
    "# derivate cost function\n",
    "derivative_function = lambda x: 2*(x+5) "
   ]
  },
  {
   "cell_type": "code",
   "execution_count": 115,
   "metadata": {},
   "outputs": [
    {
     "name": "stdout",
     "output_type": "stream",
     "text": [
      "The local minimum at -4.9999518490318176\n"
     ]
    }
   ],
   "source": [
    "while previous_step_size > precision and count < max_iters:\n",
    "    current_x = X\n",
    "    X = X - learning_rate * derivative_function(current_x) # Grad descent\n",
    "    \n",
    "    previous_step_size = abs(X - current_x)\n",
    "    count = count + 1\n",
    "    # print(\"Iteration\",count,\"\\nX value is\",X) \n",
    "    \n",
    "print(\"The local minimum at\", X)"
   ]
  },
  {
   "cell_type": "markdown",
   "metadata": {},
   "source": [
    "---\n",
    "\n",
    "## **Regularization**\n",
    "_Regularization basically adds the penalty as model complexity increases._\n",
    "\n",
    "\n",
    "<img src=\"reports/regularization_g.gif\" align=\"center\" height=100% width=60%/>\n",
    "\n",
    "- É uma técnica para evitar overfit\n",
    "- Tranforma modelos complexos em modelos mais simples\n",
    "- É usado para regressão linear e polinomial\n",
    "- Ex\n",
    "\n",
    "<img src=\"reports/regularizaion.png\" align=\"center\" height=100% width=60%/>\n",
    "\n",
    "#### Complexity Calculate\n",
    "Para calcular qual modelo generaliza melhor é preciso calcular a complexidade:\n",
    "\n",
    "```\n",
    "complexity = error + coefficients\n",
    "```\n",
    "\n",
    "<img src=\"reports/regularization_2.png\" align=\"center\" height=100% width=60%/>\n",
    "\n",
    "\n",
    "\n",
    "#### Rugularization Types\n",
    "\n",
    "Há 2 tipos de regularização\n",
    "- Lasso - L1\n",
    "\n",
    "<img src=\"reports/regularization_ex_1.png\" align=\"center\" height=100% width=60%/>\n",
    "\n",
    "<img src=\"reports/regularization_ex_2.png\" align=\"center\" height=100% width=60%/>"
   ]
  },
  {
   "cell_type": "markdown",
   "metadata": {},
   "source": [
    "- Rigde - L2\n",
    "\n",
    "<img src=\"reports/l2_reg.png\" align=\"center\" height=100% width=60%/>\n",
    "\n",
    "<img src=\"reports/l2_reg_2.png\" align=\"center\" height=100% width=60%/>\n",
    "\n",
    "#### Comparation\n",
    "<img src=\"reports/sheet_cheat_regu.png\" align=\"center\" height=100% width=60%/>"
   ]
  },
  {
   "cell_type": "markdown",
   "metadata": {},
   "source": [
    "### Comparation Linear, Lasso and Ridge Regression"
   ]
  },
  {
   "cell_type": "code",
   "execution_count": 13,
   "metadata": {},
   "outputs": [],
   "source": [
    "X = [[0, 0], [1, 1]]\n",
    "y = [0, 1]"
   ]
  },
  {
   "cell_type": "code",
   "execution_count": 14,
   "metadata": {},
   "outputs": [
    {
     "data": {
      "text/plain": [
       "LinearRegression(copy_X=True, fit_intercept=True, n_jobs=None, normalize=False)"
      ]
     },
     "execution_count": 14,
     "metadata": {},
     "output_type": "execute_result"
    }
   ],
   "source": [
    "from sklearn.linear_model import LinearRegression\n",
    "\n",
    "\n",
    "linear_regression = LinearRegression()\n",
    "linear_regression.fit(X, y)"
   ]
  },
  {
   "cell_type": "code",
   "execution_count": 15,
   "metadata": {},
   "outputs": [
    {
     "data": {
      "text/plain": [
       "Lasso(alpha=0.1, copy_X=True, fit_intercept=True, max_iter=1000,\n",
       "      normalize=False, positive=False, precompute=False, random_state=None,\n",
       "      selection='cyclic', tol=0.0001, warm_start=False)"
      ]
     },
     "execution_count": 15,
     "metadata": {},
     "output_type": "execute_result"
    }
   ],
   "source": [
    "from sklearn.linear_model import Lasso\n",
    "\n",
    "\n",
    "linear_regression_regularization_l1 = Lasso(alpha=0.1)\n",
    "linear_regression_regularization_l1.fit(X, y)"
   ]
  },
  {
   "cell_type": "code",
   "execution_count": 16,
   "metadata": {},
   "outputs": [
    {
     "data": {
      "text/plain": [
       "Ridge(alpha=0.1, copy_X=True, fit_intercept=True, max_iter=None,\n",
       "      normalize=False, random_state=None, solver='auto', tol=0.001)"
      ]
     },
     "execution_count": 16,
     "metadata": {},
     "output_type": "execute_result"
    }
   ],
   "source": [
    "from sklearn.linear_model import Ridge\n",
    "\n",
    "\n",
    "linear_regression_regularization_l2 = Ridge(alpha=0.1)\n",
    "linear_regression_regularization_l2.fit(X, y)"
   ]
  },
  {
   "cell_type": "markdown",
   "metadata": {},
   "source": [
    "#### Predict"
   ]
  },
  {
   "cell_type": "code",
   "execution_count": 17,
   "metadata": {},
   "outputs": [
    {
     "data": {
      "text/plain": [
       "array([1.])"
      ]
     },
     "execution_count": 17,
     "metadata": {},
     "output_type": "execute_result"
    }
   ],
   "source": [
    "linear_regression.predict([[1, 1]])"
   ]
  },
  {
   "cell_type": "code",
   "execution_count": 18,
   "metadata": {},
   "outputs": [
    {
     "data": {
      "text/plain": [
       "array([0.8])"
      ]
     },
     "execution_count": 18,
     "metadata": {},
     "output_type": "execute_result"
    }
   ],
   "source": [
    "linear_regression_regularization_l1.predict([[1, 1]])"
   ]
  },
  {
   "cell_type": "code",
   "execution_count": 19,
   "metadata": {},
   "outputs": [
    {
     "data": {
      "text/plain": [
       "array([0.95454545])"
      ]
     },
     "execution_count": 19,
     "metadata": {},
     "output_type": "execute_result"
    }
   ],
   "source": [
    "linear_regression_regularization_l2.predict([[1, 1]])"
   ]
  },
  {
   "cell_type": "code",
   "execution_count": null,
   "metadata": {},
   "outputs": [],
   "source": []
  },
  {
   "cell_type": "markdown",
   "metadata": {
    "pycharm": {}
   },
   "source": []
  },
  {
   "cell_type": "markdown",
   "metadata": {},
   "source": [
    "---\n",
    "\n",
    "## **Modeling Linear Models**"
   ]
  },
  {
   "cell_type": "markdown",
   "metadata": {},
   "source": [
    "1. Insira uma _linear regression_ em qualquer ponto do gráfico\n",
    "\n",
    "<img src=\"reports/mean.png\" align=\"center\" height=100% width=60%/>\n",
    "\n",
    "2. Em seguida, calcule a **cost function**\n",
    "3. Para encontrar o melhor local onde a reta se encaixa nos dados, calcule o **gradient descent**\n",
    "\n",
    "<img src=\"reports/linear.png\" align=\"center\" height=100% width=60%/>\n",
    "\n",
    "2. Caso os dados não sejam lineares será necessário **gerar um polinômio**. Começe pelo grau = 2\n",
    "\n",
    "<img src=\"reports/poly_1.png\" align=\"center\" height=100% width=60%/>\n",
    "\n",
    "3. Para diminuir o _bias_, é preciso **aumentar o grau do polinômio** para 10\n",
    "\n",
    "<img src=\"reports/poly_2.png\" align=\"center\" height=100% width=60%/>\n",
    "\n",
    "4. Agora, para garatir uma menor _variance_, será aplicado uma **regularization** no modelo\n",
    "\n",
    "<img src=\"reports/poly_3.png\" align=\"center\" height=100% width=60%/>\n"
   ]
  },
  {
   "cell_type": "markdown",
   "metadata": {},
   "source": [
    "#### Analysis Polynomial Model\n",
    "\n",
    "- O modelo começa como uma _linear regression_ com _regularization_ e vai aumentando o grau do polinômio\n",
    "\n",
    "<img src=\"reports/polinomial_regression.gif\" align=\"center\" height=50% width=40%/>"
   ]
  },
  {
   "cell_type": "markdown",
   "metadata": {
    "pycharm": {}
   },
   "source": [
    "#### References\n",
    "- [1] https://moodle.ufsc.br/pluginfile.php/1592338/mod_resource/content/1/An%C3%A1lise%20da%20regres%C3%A3o.pdf\n",
    "- [2] https://www.coursera.org/learn/machine-learning/\n",
    "- [3] https://towardsdatascience.com/implement-gradient-descent-in-python-9b93ed7108d1\n",
    "- [4] https://en.wikipedia.org/wiki/Gradient_descent\n",
    "- [5] https://scikit-learn.org/stable/tutorial/machine_learning_map/index.html\n",
    "- [6] https://matheusfacure.github.io/2017/02/16/ols-mechanics/\n",
    "- [7] http://madrury.github.io/smoothers/"
   ]
  },
  {
   "cell_type": "markdown",
   "metadata": {
    "pycharm": {}
   },
   "source": [
    "---"
   ]
  }
 ],
 "metadata": {
  "kernelspec": {
   "display_name": "Python 3",
   "language": "python",
   "name": "python3"
  },
  "language_info": {
   "codemirror_mode": {
    "name": "ipython",
    "version": 3
   },
   "file_extension": ".py",
   "mimetype": "text/x-python",
   "name": "python",
   "nbconvert_exporter": "python",
   "pygments_lexer": "ipython3",
   "version": "3.6.8"
  },
  "latex_envs": {
   "LaTeX_envs_menu_present": true,
   "autoclose": false,
   "autocomplete": true,
   "bibliofile": "biblio.bib",
   "cite_by": "apalike",
   "current_citInitial": 1,
   "eqLabelWithNumbers": true,
   "eqNumInitial": 1,
   "hotkeys": {
    "equation": "Ctrl-E",
    "itemize": "Ctrl-I"
   },
   "labels_anchors": false,
   "latex_user_defs": false,
   "report_style_numbering": false,
   "user_envs_cfg": false
  },
  "toc": {
   "base_numbering": 1,
   "nav_menu": {},
   "number_sections": false,
   "sideBar": false,
   "skip_h1_title": false,
   "title_cell": "Table of Contents",
   "title_sidebar": "Contents",
   "toc_cell": false,
   "toc_position": {},
   "toc_section_display": false,
   "toc_window_display": false
  }
 },
 "nbformat": 4,
 "nbformat_minor": 4
}
