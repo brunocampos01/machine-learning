{
 "cells": [
  {
   "cell_type": "markdown",
   "metadata": {
    "pycharm": {}
   },
   "source": [
    "# Linear Regression <img src=\"reports/icon.png\" align=\"center\" height=auto width=10%/>"
   ]
  },
  {
   "cell_type": "markdown",
   "metadata": {
    "pycharm": {}
   },
   "source": [
    "O algoritmo de _linear regression_ tem o objetivo de encontrar a melhor reta que se ajusta nos dados.\n",
    "\n",
    "\n",
    "Basicamente a ideia de uma _linear regression_ é dar pequenos espaços entre os pontos para que a reta se aproxime de todos os pontos.\n",
    "\n",
    "## Summary\n",
    "  - [Advantages](#advantages)\n",
    "  - [Disadvantages](#disadvantages)\n",
    "  - [Linear Regressions Types](#linear-regressions-types)\n",
    "    - [Linear Regression](#linear-regression)\n",
    "    - [Polinomial Regression](#polinomial-regression)\n",
    "    - [Lasso Regression](#lasso-regression)\n",
    "    - [Ridge Regression](#ridge-regression)\n",
    "  - [Cost Functions](#cost-functions)\n",
    "  - [Gradient Descent](#gradient-descent)\n",
    "  - [Regularization](#regularization)\n",
    "  - [Prepearing Data for Linear Regression](#prepearing-data-for-linear-regression)\n",
    "  - [Modeling Linear Models](#modeling-linear-models)\n",
    "  - [Examples](examples)\n",
    "    - [IMC](examples/imc)\n",
    "    - [linear_to_polynomial_regression](examples/linear_to_polynomial_regression)\n",
    "    - [pricing_house](examples/pricing_house)\n",
    "    - [simple_linear_regression](#examples/simple_linear_regression)"
   ]
  },
  {
   "cell_type": "markdown",
   "metadata": {
    "pycharm": {}
   },
   "source": [
    "## **Advantages**\n",
    "- Otima solução quando a relação entre as variáveis dependentes(y) e independentes(x) geram uma linha. \n",
    "- Bom para encontrar **correlação entre features**\n",
    "- Bom de encontrar **outliers**\n",
    "- Quando tentar prever um valor contínuo - como preço, demanda, ou um índice qualquer - sempre comece usando regressão linear.\n",
    "- Mesmo com milhões de dados, é possível estimar os parâmetros em menos de um segundo.\n",
    "- O regressor **ocupa pouco espaço**, pois só armazena um vetor w. \n",
    "- O modelo de regressão linear é de longe o mais utilizado em econometria."
   ]
  },
  {
   "cell_type": "markdown",
   "metadata": {
    "pycharm": {}
   },
   "source": [
    "## **Disadvantages** \n",
    "\n",
    "#### Linear Regression\n",
    "A regressão linear nem sempre é a melhor escolha dependendo da situação. Exemplos:\n",
    "- **Regressão linear funciona melhor quando os dados são lineares:** \n",
    "A regressão linear produz um modelo que é uma linha reta extraída a partir dos dados de treinamento\n",
    "\n",
    "<img src=\"reports/output_30_0.png\" align=\"center\" height=auto width=50%/>\n",
    "\n",
    "Uma grande limitação do modelo de regressão linear é que a máquina não aprende a forma da não linearidade, ficando essa parte sob responsabilidade da pessoa que está montando o modelo.\n",
    " Em outras palavras, é preciso codificar à força a não linearidade no algoritmo e isso é feito forjando variáveis novas. \n",
    "\n",
    "- **Regressões lineares são sensíveis a outliers:** \n",
    "A regressão linear tenta encontrar a linha que \"melhor se encaixa\" nos dados de treinamento. Caso o conjunto de dados tenha valores extremos que fujam muito do padrão geral, eles podem ter um efeito inesperadamente grande no modelo.\n",
    "\n",
    "<img src=\"reports/output_32_0.png\" align=\"center\" height=auto width=50%/>\n",
    "\n",
    "\n",
    "#### Polynomial Regression\n",
    "- Problema de overfit que gera uma lata variância\n",
    "\n",
    "\n",
    "<img src=\"reports/overfit.png\" align=\"center\" height=100% width=60%/>\n",
    "\n",
    "- não funciona bem quando temos muitas variáveis e o grau do polinômio é muito alto\n",
    "\n",
    "\n",
    "#### Logistic Regression\n",
    "\n",
    "**TODO**"
   ]
  },
  {
   "cell_type": "markdown",
   "metadata": {},
   "source": [
    "---\n",
    "\n",
    "# **Linear Regressions Types**\n",
    "Até 100k linhas pode ser usado os modelos abaixo, acima disso é recomendado usar algum modelo de deep learning."
   ]
  },
  {
   "cell_type": "markdown",
   "metadata": {
    "pycharm": {}
   },
   "source": [
    "## Linear Regression\n",
    "\n",
    "<img src=\"reports/output_4_0.png\" align=\"center\" height=100% width=60%/>\n",
    "\n",
    "O **w** tambem é chamado de preditor.\n",
    "\n",
    "<img src=\"reports/output_5_0.png\" align=\"left\" height=100% width=60%/>\n",
    "\n",
    "<img src=\"reports/output_6_0.png\" align=\"right\" height=100% width=60%/>\n",
    "\n",
    "<img src=\"reports/output_7_0.png\" align=\"left\" height=100% width=60%/>\n",
    "\n",
    "<img src=\"reports/output_8_0.png\" align=\"right\" height=100% width=60%/>\n",
    "\n",
    "<img src=\"reports/output_9_0.png\" align=\"left\" height=100% width=60%/>"
   ]
  },
  {
   "cell_type": "markdown",
   "metadata": {
    "pycharm": {}
   },
   "source": [
    "## Multiple Linear Regression\n",
    "\n",
    "A regressão linear simples é útil para prever o valor de uma variável dependente por uma variável independente. Contudo, este tipo de regressão não é muito útil no contexto real pois sempre há mais de um fator que pode influenciar uma variável dependente (y).\n",
    "\n",
    "\n",
    "Por exemplo, no caso abaixo temos o preço das casas (y = variável dependente) que é afetado pela qualidade de ensino das escolas proximas (x1) e pelo tamanho da casa(x2). \n",
    "\n",
    "<img src=\"reports/output_24_0.png\" align=\"center\" height=100% width=60%/>\n",
    "\n",
    "A partir disso, observamos que o preço de uma casa (y) pode ser afetado (ser dependente) por N variáveis(x).\n",
    "\n",
    "<img src=\"reports/output_26_0.png\" align=\"center\" height=100% width=60%/>\n",
    "\n",
    "<img src=\"reports/output_27_0.png\" align=\"center\" height=100% width=60%/>\n",
    "\n",
    "<img src=\"reports/output_28_0.png\" align=\"center\" height=100% width=60%/>"
   ]
  },
  {
   "cell_type": "markdown",
   "metadata": {},
   "source": [
    "## Polinomial Regression\n",
    "_E com duas ou três variáveis posso fazer uma regressão polinonial_\n",
    "\n",
    "É possível utilizar o fato de estender regressão linear para regressão polinomial. A ideia é bastante simples: a partir das variáveis existentes, nós vamos construindo novas variáveis polinomiais e a regressão com elas terá mais capacidade quanto maior o grau do polinômio criado. É importante ressaltar que o algoritmo de regressão linear não muda!\n",
    "\n",
    "<img src=\"reports/poly.png\" align=\"center\" height=50% width=40%/>\n",
    "\n",
    "\n",
    "- Uma técnica comum em machine learing é usar _linear models_ treinados em dados não lineares.\n",
    "- A grande vantagem é a radipez para treinamento\n",
    "-  Uma regressão linear simples pode ser estendida através da construção de features polinomiais a partir dos coeficientes.\n",
    "- Ex"
   ]
  },
  {
   "cell_type": "code",
   "execution_count": 116,
   "metadata": {},
   "outputs": [
    {
     "data": {
      "text/plain": [
       "array([[0, 1],\n",
       "       [2, 3],\n",
       "       [4, 5]])"
      ]
     },
     "execution_count": 116,
     "metadata": {},
     "output_type": "execute_result"
    }
   ],
   "source": [
    "from sklearn.preprocessing import PolynomialFeatures\n",
    "import numpy as np\n",
    "\n",
    "# data\n",
    "X = np.arange(6).reshape(3, 2)\n",
    "X"
   ]
  },
  {
   "cell_type": "code",
   "execution_count": 117,
   "metadata": {},
   "outputs": [
    {
     "data": {
      "text/plain": [
       "array([[ 1.,  0.,  1.,  0.,  0.,  1.],\n",
       "       [ 1.,  2.,  3.,  4.,  6.,  9.],\n",
       "       [ 1.,  4.,  5., 16., 20., 25.]])"
      ]
     },
     "execution_count": 117,
     "metadata": {},
     "output_type": "execute_result"
    }
   ],
   "source": [
    "poly = PolynomialFeatures(degree=2)\n",
    "poly.fit_transform(X)"
   ]
  },
  {
   "cell_type": "markdown",
   "metadata": {},
   "source": [
    "As features de `X` foram transformados de `[a, b]` para `[1, a, b, a^2, ab, b^2]`, e agora pode ser usado em qualquer modelo linear.\n",
    "\n",
    "#### Quando usar uma regressão polinomial?\n",
    "\n",
    "É recomendável utilizar regressão polinomial apenas em casos de não linearidades mais simples (**até grau = 2**), por exemplo quando se desconfia de alguma relação marginalmente (imagem abaixo).\n",
    "\n",
    "\n",
    "<img src=\"reports/marginal_decrese.png\" align=\"center\" height=50% width=40%/>"
   ]
  },
  {
   "cell_type": "markdown",
   "metadata": {},
   "source": [
    "#### Creating Polynomial Model"
   ]
  },
  {
   "cell_type": "code",
   "execution_count": 1,
   "metadata": {},
   "outputs": [
    {
     "name": "stdout",
     "output_type": "stream",
     "text": [
      "   sno  Temperature  Pressure\n",
      "0    1            0    0.0002\n",
      "1    2           20    0.0012\n",
      "2    3           40    0.0060\n",
      "3    4           60    0.0300\n",
      "4    5           80    0.0900\n",
      "(6, 1)\n",
      "(6,)\n"
     ]
    }
   ],
   "source": [
    "#### Import\n",
    "\n",
    "import numpy as np \n",
    "import matplotlib.pyplot as plt \n",
    "import pandas as pd \n",
    "\n",
    "from sklearn.linear_model import LinearRegression\n",
    "from sklearn.preprocessing import PolynomialFeatures\n",
    "\n",
    "\n",
    "# Data\n",
    "df = pd.read_csv('data/raw/pressure_temperature.csv')\n",
    "X = df.iloc[:, 1:2].values \n",
    "y = df.iloc[:, 2].values \n",
    "\n",
    "print(df.head())\n",
    "print(X.shape)\n",
    "print(y.shape)"
   ]
  },
  {
   "cell_type": "markdown",
   "metadata": {},
   "source": [
    "#### Linear Model"
   ]
  },
  {
   "cell_type": "code",
   "execution_count": 105,
   "metadata": {},
   "outputs": [
    {
     "data": {
      "text/plain": [
       "LinearRegression(copy_X=True, fit_intercept=True, n_jobs=None, normalize=False)"
      ]
     },
     "execution_count": 105,
     "metadata": {},
     "output_type": "execute_result"
    }
   ],
   "source": [
    "# Fitting Linear Regression\n",
    "lr_model = LinearRegression() \n",
    "lr_model.fit(X, y)"
   ]
  },
  {
   "cell_type": "code",
   "execution_count": 106,
   "metadata": {},
   "outputs": [
    {
     "data": {
      "image/png": "[encoded data removed]",
      "text/plain": [
       "<Figure size 432x288 with 1 Axes>"
      ]
     },
     "metadata": {
      "needs_background": "light"
     },
     "output_type": "display_data"
    }
   ],
   "source": [
    "# Visualising the Linear Regression results \n",
    "plt.scatter(X, y, color = 'blue') \n",
    "\n",
    "plt.plot(X, lr_model.predict(X), color = 'red') \n",
    "plt.title('Linear Regression') \n",
    "plt.xlabel('Temperature') \n",
    "plt.ylabel('Pressure') \n",
    "\n",
    "plt.show() "
   ]
  },
  {
   "cell_type": "markdown",
   "metadata": {},
   "source": [
    "#### Polynomial Model"
   ]
  },
  {
   "cell_type": "code",
   "execution_count": 109,
   "metadata": {},
   "outputs": [
    {
     "data": {
      "text/plain": [
       "LinearRegression(copy_X=True, fit_intercept=True, n_jobs=None, normalize=False)"
      ]
     },
     "execution_count": 109,
     "metadata": {},
     "output_type": "execute_result"
    }
   ],
   "source": [
    "# Fitting Polynomial Regression\n",
    "poly = PolynomialFeatures(degree=4) \n",
    "X_poly = poly.fit_transform(X) \n",
    "  \n",
    "poly.fit(X_poly, y) \n",
    "polymonial_model = LinearRegression() \n",
    "polymonial_model.fit(X_poly, y) "
   ]
  },
  {
   "cell_type": "code",
   "execution_count": 110,
   "metadata": {},
   "outputs": [
    {
     "data": {
      "image/png": "[encoded data removed]",
      "text/plain": [
       "<Figure size 432x288 with 1 Axes>"
      ]
     },
     "metadata": {
      "needs_background": "light"
     },
     "output_type": "display_data"
    }
   ],
   "source": [
    "# Visualising the Polynomial Regression results \n",
    "plt.scatter(X, y, color = 'blue') \n",
    "  \n",
    "plt.plot(X, polymonial_model.predict(poly.fit_transform(X)), color = 'red') \n",
    "plt.title('Polynomial Regression') \n",
    "plt.xlabel('Temperature') \n",
    "plt.ylabel('Pressure') \n",
    "  \n",
    "plt.show() "
   ]
  },
  {
   "cell_type": "markdown",
   "metadata": {},
   "source": [
    "#### Tradeoff \n",
    " \n",
    "O modelo com polinômio de grau 4 acerta mais os dados mas é provável que a **_varience_ dele seja muito alta**, podendo comprometer a performance de generalização.\n",
    "\n",
    "Por outro lado, o modelo com polinômio de grau 1 não consegue sequer capturar as curvaturas dos dados de treino. Assim, podemos especular que esse modelo **tem _bias_ muito baixo**.\n",
    "\n",
    "<img src=\"reports/overfit.gif\" align=\"center\" height=50% width=40%/>\n"
   ]
  },
  {
   "cell_type": "markdown",
   "metadata": {},
   "source": [
    "## Logistic Regression Classification\n",
    "- Logistic Regression = Logistic Classification\n",
    "\n",
    "\n",
    "**TODO**\n",
    "- https://matheusfacure.github.io/2017/02/25/regr-log/"
   ]
  },
  {
   "cell_type": "markdown",
   "metadata": {
    "pycharm": {}
   },
   "source": [
    "---\n",
    "\n",
    "## **Cost Function**\n",
    "- É a diferença entre o valor real e o valor predito.\n",
    "- Resíduo = erro médio absoluto\n",
    "- Cost Function = Error Function \n",
    "\n",
    "\n",
    "#### Cost ?\n",
    "Uma função que mapeia um evento ou valores de uma ou mais variáveis ​​para um número real, representando intuitivamente algum \"custo\" associado ao evento.\n",
    "\n",
    "<img src=\"reports/variables_linear_regression.png\" align=\"center\" height=100% width=60%/>\n",
    "\n",
    "<img src=\"reports/output_11_0.png\" align=\"center\" height=100% width=60%/>\n",
    "\n",
    "<img src=\"reports/output_12_0.png\" align=\"center\" height=100% width=60%/>"
   ]
  },
  {
   "cell_type": "markdown",
   "metadata": {
    "pycharm": {}
   },
   "source": [
    "### MSE(Mean Squared Error) \n",
    "É possivel calcular um erro médio quadrático.\n",
    "\n",
    "<img src=\"reports/output_14_0.png\" align=\"center\" height=100% width=60%/>\n",
    "\n",
    "<img src=\"reports/mse.png\" align=\"center\" height=100% width=60%/>\n",
    "\n",
    " - OBS: a única difrença para o que eu vi em técnicas estatíticas de predição foi a derivação da fórmula.\n",
    " \n",
    "### Comparison of error types\n",
    "\n",
    "<img src=\"reports/output_17_0.png\" align=\"center\" height=100% width=60%/>\n",
    "\n",
    "#### Mean absolute error\n",
    "Indiferente da reta, sempre dará o mesmo tamanho de erro.\n",
    "\n",
    "#### Mean Square Error\n",
    "Neste caso temos uma função de 2º grau, onde a linha B se encontra no ponto mais baixo.\n",
    "\n",
    "<img src=\"reports/output_20_0.png\" align=\"center\" height=100% width=60%/>\n",
    "\n",
    "\n",
    "#### Mean absolute error x Mean Square Error\n",
    "\n",
    "<img src=\"reports/cost-median-mean.png\" align=\"center\" height=100% width=60%/>\n",
    "\n",
    "- Quando usar um e outro ?\n",
    "Na prática, depende muito pois o que causa é a alteração no _learning rate_."
   ]
  },
  {
   "cell_type": "code",
   "execution_count": 32,
   "metadata": {},
   "outputs": [],
   "source": [
    "import matplotlib.pyplot as plt\n",
    "import numpy as np\n",
    "\n",
    "\n",
    "# original data\n",
    "X = [1, 2, 3]\n",
    "y = [1, 2.5, 3.5]\n",
    "\n",
    "\n",
    "hyps = 1.0 "
   ]
  },
  {
   "cell_type": "code",
   "execution_count": 33,
   "metadata": {},
   "outputs": [
    {
     "data": {
      "image/png": "[encoded data removed]",
      "text/plain": [
       "<matplotlib.figure.Figure at 0x7feca42df0f0>"
      ]
     },
     "metadata": {
      "needs_background": "light"
     },
     "output_type": "display_data"
    }
   ],
   "source": [
    "# Draw input, output and answer line\n",
    "plt.plot(X, y, \"ro\")\n",
    "plt.xlabel(\"X\")\n",
    "plt.ylabel(\"y\")\n",
    "plt.legend()\n",
    "plt.title(\"Data\")\n",
    "plt.show()"
   ]
  },
  {
   "cell_type": "code",
   "execution_count": 23,
   "metadata": {},
   "outputs": [],
   "source": [
    "import numpy as np\n",
    "from sklearn.metrics import mean_squared_error \n",
    "\n",
    "\n",
    "Y_true = [1, 1, 2, 2, 4]\n",
    "Y_pred = [0.6, 1.29, 1.99, 2.69, 3.4]"
   ]
  },
  {
   "cell_type": "markdown",
   "metadata": {},
   "source": [
    "#### Using scikit-learn"
   ]
  },
  {
   "cell_type": "code",
   "execution_count": 24,
   "metadata": {},
   "outputs": [
    {
     "data": {
      "text/plain": [
       "0.21606"
      ]
     },
     "execution_count": 24,
     "metadata": {},
     "output_type": "execute_result"
    }
   ],
   "source": [
    "mean_squared_error(Y_true, Y_pred)"
   ]
  },
  {
   "cell_type": "markdown",
   "metadata": {},
   "source": [
    "#### Using Numpy"
   ]
  },
  {
   "cell_type": "code",
   "execution_count": 25,
   "metadata": {},
   "outputs": [],
   "source": [
    "def mean_square_error_np(Y_true: list, Y_pred: list):\n",
    "    \"\"\"\n",
    "    :Params:\n",
    "        Y_true: list of true values    \n",
    "        Y_pred: list of predicted values\n",
    "    \n",
    "    :Returns:\n",
    "        mean square error loss\n",
    "    \"\"\"\n",
    "    Y_true = np.asarray(Y_true)\n",
    "    Y_pred = np.asarray(Y_pred)\n",
    "     \n",
    "    return ((Y_true - Y_pred)**2).mean()"
   ]
  },
  {
   "cell_type": "code",
   "execution_count": 26,
   "metadata": {},
   "outputs": [
    {
     "data": {
      "text/plain": [
       "0.21606"
      ]
     },
     "execution_count": 26,
     "metadata": {},
     "output_type": "execute_result"
    }
   ],
   "source": [
    "mean_square_error_np(Y_true, Y_pred)"
   ]
  },
  {
   "cell_type": "code",
   "execution_count": 46,
   "metadata": {},
   "outputs": [],
   "source": [
    "import numpy as np\n",
    "import matplotlib.pyplot as plt\n",
    "\n",
    "# number of points\n",
    "num_points = 300\n",
    "\n",
    "# For the sample data\n",
    "# Answer values\n",
    "x_ans = [i * 0.01 for i in range(-200, 200)]\n",
    "W_ans = 0.1\n",
    "\n",
    "# Generate normal random values for input and output\n",
    "x = [np.random.normal(0.0, 0.55) for i in range(num_points + 1)]\n",
    "y = [W_ans * _x + np.random.normal(0.0, 0.03) for _x in x]"
   ]
  },
  {
   "cell_type": "code",
   "execution_count": 47,
   "metadata": {},
   "outputs": [
    {
     "data": {
      "image/png": "[encoded data removed]",
      "text/plain": [
       "<matplotlib.figure.Figure at 0x7feca42edcc0>"
      ]
     },
     "metadata": {
      "needs_background": "light"
     },
     "output_type": "display_data"
    },
    {
     "data": {
      "image/png": "[encoded data removed]",
      "text/plain": [
       "<matplotlib.figure.Figure at 0x7feca450e358>"
      ]
     },
     "metadata": {
      "needs_background": "light"
     },
     "output_type": "display_data"
    }
   ],
   "source": [
    "# Draw input, output and answer line\n",
    "plt.plot(x, y, \"ro\")\n",
    "plt.plot(x_ans, [W_ans * _x for _x in x_ans], label=\"W=0.1\")\n",
    "plt.xlabel(\"X\")\n",
    "plt.ylabel(\"Y\")\n",
    "plt.legend()\n",
    "plt.title(\"y = 0.1 * x\")\n",
    "plt.show()\n",
    "\n",
    "# For the Mean Square Error\n",
    "# Weight from 0 to 0.2\n",
    "W = [i * 0.001 for i in range(0, 201)]\n",
    "# Cost\n",
    "cost = []\n",
    "\n",
    "for w in W:\n",
    "    # hypothesis = W * x\n",
    "    hypo = [w * _x for _x in x]\n",
    "\n",
    "    diffSqrts = list(map(lambda _hypo, _answer : \\\n",
    "                                (_hypo - _answer) ** 2, hypo, y))\n",
    "    sumDiffSqrt= sum(diffSqrts)\n",
    "\n",
    "    cost.append(1 / (len(W)) * sumDiffSqrt)\n",
    "\n",
    "# Draw cost function\n",
    "plt.plot(W, cost)\n",
    "plt.title(\"Cost Function\")\n",
    "plt.xlabel(\"W\")\n",
    "plt.ylabel(\"Cost(W)\")\n",
    "plt.xlim(0.00, 0.20)\n",
    "plt.show()"
   ]
  },
  {
   "cell_type": "markdown",
   "metadata": {},
   "source": [
    "---\n",
    "\n",
    "## **Gradient Descent**\n",
    "_Gradient Descent is the method by which we make our model learn._\n",
    "\n",
    "<img src=\"reports/gradient_decent.gif\" align=\"center\" height=100% width=60%/>\n",
    "\n",
    "<img src=\"reports/gratient_cost.png\" align=\"center\" height=100% width=60%/>\n",
    "\n",
    "- Gradiente é uma função vetorial que representa a inclinação e sentido da tangente na função cost.\n",
    "- O símbolo ∇ (nabla) representa o gradiente.\n",
    "- É **algoritmo de otimização** para encontrar mínimo local.\n",
    "- Gradient Descent = Learing Rate\n",
    "- É recomendado para casos de com > 100 features\n",
    "\n",
    "<img src=\"reports/less_100.png\" align=\"center\" height=100% width=60%/>\n",
    "\n",
    "Menos que isso, a sugestão é usar algo analítico.\n",
    "\n",
    "\n",
    "- No caso da nossa regressão linear por gradient descent, podemos distinguir três hiper-parâmetros:\n",
    "  - A learning rate\n",
    "  - O número de iterações de treino\n",
    "  - Os valores iniciais de w^w^\n",
    "\n",
    "W = W - \\alpha {\\partial \\over\\partial W} cost(W, b)\n",
    "\n",
    "b = b - \\alpha {\\partial \\over\\partial b} cost(W, b)\n",
    "\n",
    "\n",
    "αα é uma taxa de aprendizado. taxa de aprendizado é quanto salto ao longo da função de custo. Se for grande, W e b mudarão muito. \n",
    "\n",
    "a taxa de aprendizado é um valor ajustável e, geralmente, é menor que 1. Além disso, durante a execução do teste, é bom alterar os valores pequenos.\n",
    "\n",
    "### Running\n",
    "A descida do gradiente em lote, também conhecida como descida do gradiente de baunilha, calcula o erro de cada observação no conjunto de dados, mas executa uma atualização somente após todas as observações terem sido avaliadas.\n",
    "\n",
    "A descida do gradiente em lote não é frequentemente usada, pois representa um enorme consumo de recursos computacionais, pois todo o conjunto de dados precisa permanecer na memória.\n",
    "\n",
    "### Mount Example\n",
    "- Imagine que vc esta no alto de uma montanha e deseja descer de olhos fechados.\n",
    "\n",
    "<img src=\"reports/gradient_descent.gif\" align=\"center\" height=100% width=60%/>\n",
    "\n",
    "<img src=\"reports/gradient_descent.png\" align=\"center\" height=100% width=60%/>\n",
    "\n",
    "<img src=\"reports/gradient_descent_2.png\" align=\"center\" height=100% width=60%/>\n",
    "\n",
    "<img src=\"reports/gradient_descent_3.png\" align=\"center\" height=100% width=60%/>\n",
    "\n",
    "\n",
    "### Speed\n",
    "Quando falamos de uma bolinha de gude deslizando para o fundo de uma tigela, podemos visualizar a bolinha começando com uma pequena velocidade e acelerando ao longo do trajeto. Com gradiente descendente ocorre o oposto: inicialmente, os parâmetros b^ e w^ caminham rapidamente em direção ao ponto de mínimo e, quanto mais se aproximam dele, passam a caminhar cada vez mais devagar.\n",
    "\n",
    "#### Why ?\n",
    "Quanto mais próximos estamos do ponto de mínimo, menor a inclinação da função custo, OU SEJA menor o gradiente, OU SEJA, menor o passo dado em direção ao mínimo.\n",
    "\n",
    "\n",
    "### Visualization\n",
    "- Para minimizar os erros basta calcular a derivada da função de erro.\n",
    "- Use a regra da cadeia\n",
    "- Quanto mais baixo estiver o valor de _error_, menor é a taxa de aprendizagem α.\n",
    "\n",
    "<img src=\"reports/gardient_descent_mat.png\" align=\"center\" height=100% width=60%/>\n",
    "\n",
    "<img src=\"reports/random.gif\" align=\"center\" height=100% width=60%/>\n",
    "\n",
    "### Implementation\n",
    "1. Insira parâmetros aleatórios\n",
    "2. Calcule a _cost fucntion_\n",
    "3. Aplique a regra da cadeia na _cost function_ até encontrar o menor valor\n",
    "\n",
    "<img src=\"reports/graddesc.gif\" align=\"center\" height=100% width=60%/>"
   ]
  },
  {
   "cell_type": "code",
   "execution_count": 114,
   "metadata": {},
   "outputs": [],
   "source": [
    "X = 3\n",
    "learning_rate = 0.01 # Learning rate\n",
    "precision = 0.000001 # Stop loop\n",
    "previous_step_size = 1 \n",
    "max_iters = 10000 # Maximum number of iterations\n",
    "count = 0 # Iteration counter\n",
    "\n",
    "# derivate cost function\n",
    "derivative_function = lambda x: 2*(x+5) "
   ]
  },
  {
   "cell_type": "code",
   "execution_count": 115,
   "metadata": {},
   "outputs": [
    {
     "name": "stdout",
     "output_type": "stream",
     "text": [
      "The local minimum at -4.9999518490318176\n"
     ]
    }
   ],
   "source": [
    "while previous_step_size > precision and count < max_iters:\n",
    "    current_x = X\n",
    "    X = X - learning_rate * derivative_function(current_x) # Grad descent\n",
    "    \n",
    "    previous_step_size = abs(X - current_x)\n",
    "    count = count + 1\n",
    "    # print(\"Iteration\",count,\"\\nX value is\",X) \n",
    "    \n",
    "print(\"The local minimum at\", X)"
   ]
  },
  {
   "cell_type": "code",
   "execution_count": null,
   "metadata": {},
   "outputs": [],
   "source": []
  },
  {
   "cell_type": "code",
   "execution_count": 55,
   "metadata": {},
   "outputs": [],
   "source": [
    "# Input\n",
    "X = np.array([ [70, 80, 75], \\\n",
    "               [90, 90, 90], \\\n",
    "               [50, 70, 80], \\\n",
    "               [80, 90, 85], \\\n",
    "               [90, 95, 90] ])\n",
    "\n",
    "# Answer\n",
    "Y = np.array([ [75], \\\n",
    "               [95], \\\n",
    "               [70], \\\n",
    "               [95], \\\n",
    "               [95] ])\n",
    "\n",
    "# Weight\n",
    "# W = np.full((3, 1), np.random.normal(0, 10))\n",
    "# In this test, we have only 5 instances.\n",
    "# Therefore, if W is started from too far, the result will be weird.\n",
    "# So, I just picked closed value for the pre-trained W.\n",
    "W = np.array([ [0.4], \\\n",
    "               [0.15], \\\n",
    "               [0.5] ])\n",
    "\n",
    "# Learning rate\n",
    "learning_rate = 0.0001\n",
    "\n",
    "costs = []\n",
    "steps = []\n",
    "\n",
    "nb_train = 10"
   ]
  },
  {
   "cell_type": "code",
   "execution_count": 50,
   "metadata": {},
   "outputs": [],
   "source": [
    "import numpy as np\n",
    "import matplotlib.pyplot as plt\n",
    "\n",
    "nr_student = 5\n",
    "\n",
    "def calc_cost(W):\n",
    "    # hypothesis = X * W\n",
    "    hypo = np.dot(X, W)\n",
    "\n",
    "    _mse = list(map(\\\n",
    "            lambda _hypo, _answer : (_hypo[0] - _answer[0]) ** 2, hypo, Y))\n",
    "\n",
    "    sumMse = sum(_mse)\n",
    "\n",
    "    # 1 / m * sum(X * W - Y)^2\n",
    "    return 1 / nr_student * sumMse\n",
    "\n",
    "\n",
    "def calc_gradient(W):\n",
    "    # Euler method to calculate derivative\n",
    "    # h is delta of W\n",
    "    h = 1e-4\n",
    "\n",
    "    # Defines the same size matrix with W\n",
    "    grad = np.zeros_like(W)\n",
    "\n",
    "    # For partial derivatives\n",
    "    for i in range(W.size):\n",
    "        tmp_val = W[i]\n",
    "\n",
    "        # Calculate forward values\n",
    "        W[i] = tmp_val + h\n",
    "        fxh1 = calc_cost(W)\n",
    "\n",
    "        # Calculate backward values\n",
    "        W[i] = tmp_val - h\n",
    "        fxh2 = calc_cost(W)\n",
    "\n",
    "        # Calculate the diff\n",
    "        grad[i] = (fxh1 - fxh2) / (2*h)\n",
    "\n",
    "        W[i] = tmp_val\n",
    "\n",
    "    return grad"
   ]
  },
  {
   "cell_type": "code",
   "execution_count": 52,
   "metadata": {},
   "outputs": [],
   "source": [
    "# Training\n",
    "for i in range(nb_train):\n",
    "    # Calculate cost\n",
    "    _cost = calc_cost(W)\n",
    "\n",
    "    # Calculate gradient descent\n",
    "    gradients = calc_gradient(W)\n",
    "\n",
    "    # Value for descent\n",
    "    DV = learning_rate / nr_student * gradients\n",
    "\n",
    "    # Update W\n",
    "    W = W - DV\n",
    "\n",
    "    steps.append(i)\n",
    "    costs.append(_cost)"
   ]
  },
  {
   "cell_type": "code",
   "execution_count": 53,
   "metadata": {},
   "outputs": [
    {
     "name": "stdout",
     "output_type": "stream",
     "text": [
      "Answer: [84.92898915]\n"
     ]
    }
   ],
   "source": [
    "# Test\n",
    "x = np.array([80, 80, 80])\n",
    "y = np.dot(x, W)\n",
    "print(\"Answer: {0}\".format(y))"
   ]
  },
  {
   "cell_type": "code",
   "execution_count": 54,
   "metadata": {},
   "outputs": [
    {
     "data": {
      "image/png": "[encoded data removed]",
      "text/plain": [
       "<matplotlib.figure.Figure at 0x7feca46de320>"
      ]
     },
     "metadata": {
      "needs_background": "light"
     },
     "output_type": "display_data"
    }
   ],
   "source": [
    "plt.plot(steps, costs, label=\"Costs\")\n",
    "plt.xlabel(\"trial\")\n",
    "plt.ylabel(\"Cost(W)\")\n",
    "plt.grid()\n",
    "plt.show()"
   ]
  },
  {
   "cell_type": "code",
   "execution_count": null,
   "metadata": {},
   "outputs": [],
   "source": []
  },
  {
   "cell_type": "code",
   "execution_count": null,
   "metadata": {},
   "outputs": [],
   "source": []
  },
  {
   "cell_type": "markdown",
   "metadata": {},
   "source": [
    "#### Cost Function with TensorFlow"
   ]
  },
  {
   "cell_type": "code",
   "execution_count": null,
   "metadata": {},
   "outputs": [],
   "source": [
    "import tensorflow as tf\n",
    "import matplotlib.pyplot as plt\n",
    "\n",
    "# Y = X\n",
    "X = [1,2,3]\n",
    "Y = [1,2,3]\n",
    "\n",
    "# Weight\n",
    "W = tf.placeholder(tf.float32)\n",
    "\n",
    "# Simplified hypothesis for linear model X * W\n",
    "hypothesis = X * W\n",
    "\n",
    "# Cost function\n",
    "cost = tf.reduce_mean(tf.square(hypothesis - Y))\n",
    "# Launch the graph in a session\n",
    "sess = tf.Session()\n",
    "\n",
    "# Initializes global variables in the graph\n",
    "sess.run(tf.global_variables_initializer())\n",
    "# Variables for plotting cost function\n",
    "W_val = []\n",
    "cost_val = []\n",
    "\n",
    "for i in range(-30, 50):\n",
    "    feed_W = i * 0.1\n",
    "    curr_cost, curr_W = sess.run([cost, W], feed_dict={W:feed_W})\n",
    "    W_val.append(curr_W)\n",
    "    cost_val.append(curr_cost)\n",
    "\n",
    "# Show the cost function\n",
    "plt.plot(W_val, cost_val)\n",
    "plt.title(\"Cost function\")\n",
    "plt.xlabel(\"W\")\n",
    "plt.ylabel(\"Cost(W)\")\n",
    "plt.show()"
   ]
  },
  {
   "cell_type": "markdown",
   "metadata": {},
   "source": [
    "## Convex Function\n",
    "- O Algoritmo de Descida de Gradiente usa derivada parcial, por isso tem um problema.\n",
    "\n",
    "- It tries to find a point which is local minimum. However, local minimum can be placed in several points, not only one, like below image. Therefore, we should find global minimum which is the lowest point.\n",
    "\n",
    "<img src=\"reports/gradient_decent.gif\" align=\"center\" height=100% width=60%/>\n",
    "\n",
    "- o valor inicial é muito importante para este caso.\n",
    "- Portanto, ao resolver um problema com o aprendizado de máquina, tente encontrar a função de custo que é convexa. Caso contrário, você precisará de algumas técnicas para encontrar um melhor ponto de partida e fazer o aprendizado de máquina com vários pontos de partida."
   ]
  },
  {
   "cell_type": "code",
   "execution_count": null,
   "metadata": {},
   "outputs": [],
   "source": []
  },
  {
   "cell_type": "markdown",
   "metadata": {},
   "source": [
    "---\n",
    "\n",
    "## **Regularization**\n",
    "_Regularization basically adds the penalty as model complexity increases._\n",
    "\n",
    "\n",
    "<img src=\"reports/regularization_g.gif\" align=\"center\" height=100% width=60%/>\n",
    "\n",
    "- É uma técnica para evitar overfit\n",
    "- Tranforma modelos complexos em modelos mais simples\n",
    "- É usado para regressão linear e polinomial\n",
    "- Ex\n",
    "\n",
    "<img src=\"reports/regularizaion.png\" align=\"center\" height=100% width=60%/>\n",
    "\n",
    "#### Complexity Calculate\n",
    "Para calcular qual modelo generaliza melhor é preciso calcular a complexidade:\n",
    "\n",
    "```\n",
    "complexity = error + coefficients\n",
    "```\n",
    "\n",
    "<img src=\"reports/regularization_2.png\" align=\"center\" height=100% width=60%/>\n",
    "\n",
    "\n",
    "\n",
    "#### Rugularization Types\n",
    "\n",
    "Há 2 tipos de regularização\n",
    "- Lasso - L1\n",
    "\n",
    "<img src=\"reports/regularization_ex_1.png\" align=\"center\" height=100% width=60%/>\n",
    "\n",
    "<img src=\"reports/regularization_ex_2.png\" align=\"center\" height=100% width=60%/>"
   ]
  },
  {
   "cell_type": "markdown",
   "metadata": {},
   "source": [
    "- Rigde - L2\n",
    "\n",
    "<img src=\"reports/l2_reg.png\" align=\"center\" height=100% width=60%/>\n",
    "\n",
    "<img src=\"reports/l2_reg_2.png\" align=\"center\" height=100% width=60%/>\n",
    "\n",
    "#### Comparation\n",
    "<img src=\"reports/sheet_cheat_regu.png\" align=\"center\" height=100% width=60%/>"
   ]
  },
  {
   "cell_type": "markdown",
   "metadata": {},
   "source": [
    "### Comparation Linear, Lasso and Ridge Regression"
   ]
  },
  {
   "cell_type": "code",
   "execution_count": 13,
   "metadata": {},
   "outputs": [],
   "source": [
    "X = [[0, 0], [1, 1]]\n",
    "y = [0, 1]"
   ]
  },
  {
   "cell_type": "code",
   "execution_count": 14,
   "metadata": {},
   "outputs": [
    {
     "data": {
      "text/plain": [
       "LinearRegression(copy_X=True, fit_intercept=True, n_jobs=None, normalize=False)"
      ]
     },
     "execution_count": 14,
     "metadata": {},
     "output_type": "execute_result"
    }
   ],
   "source": [
    "from sklearn.linear_model import LinearRegression\n",
    "\n",
    "\n",
    "linear_regression = LinearRegression()\n",
    "linear_regression.fit(X, y)"
   ]
  },
  {
   "cell_type": "code",
   "execution_count": 15,
   "metadata": {},
   "outputs": [
    {
     "data": {
      "text/plain": [
       "Lasso(alpha=0.1, copy_X=True, fit_intercept=True, max_iter=1000,\n",
       "      normalize=False, positive=False, precompute=False, random_state=None,\n",
       "      selection='cyclic', tol=0.0001, warm_start=False)"
      ]
     },
     "execution_count": 15,
     "metadata": {},
     "output_type": "execute_result"
    }
   ],
   "source": [
    "from sklearn.linear_model import Lasso\n",
    "\n",
    "\n",
    "linear_regression_regularization_l1 = Lasso(alpha=0.1)\n",
    "linear_regression_regularization_l1.fit(X, y)"
   ]
  },
  {
   "cell_type": "code",
   "execution_count": 16,
   "metadata": {},
   "outputs": [
    {
     "data": {
      "text/plain": [
       "Ridge(alpha=0.1, copy_X=True, fit_intercept=True, max_iter=None,\n",
       "      normalize=False, random_state=None, solver='auto', tol=0.001)"
      ]
     },
     "execution_count": 16,
     "metadata": {},
     "output_type": "execute_result"
    }
   ],
   "source": [
    "from sklearn.linear_model import Ridge\n",
    "\n",
    "\n",
    "linear_regression_regularization_l2 = Ridge(alpha=0.1)\n",
    "linear_regression_regularization_l2.fit(X, y)"
   ]
  },
  {
   "cell_type": "markdown",
   "metadata": {},
   "source": [
    "#### Predict"
   ]
  },
  {
   "cell_type": "code",
   "execution_count": 17,
   "metadata": {},
   "outputs": [
    {
     "data": {
      "text/plain": [
       "array([1.])"
      ]
     },
     "execution_count": 17,
     "metadata": {},
     "output_type": "execute_result"
    }
   ],
   "source": [
    "linear_regression.predict([[1, 1]])"
   ]
  },
  {
   "cell_type": "code",
   "execution_count": 18,
   "metadata": {},
   "outputs": [
    {
     "data": {
      "text/plain": [
       "array([0.8])"
      ]
     },
     "execution_count": 18,
     "metadata": {},
     "output_type": "execute_result"
    }
   ],
   "source": [
    "linear_regression_regularization_l1.predict([[1, 1]])"
   ]
  },
  {
   "cell_type": "code",
   "execution_count": 19,
   "metadata": {},
   "outputs": [
    {
     "data": {
      "text/plain": [
       "array([0.95454545])"
      ]
     },
     "execution_count": 19,
     "metadata": {},
     "output_type": "execute_result"
    }
   ],
   "source": [
    "linear_regression_regularization_l2.predict([[1, 1]])"
   ]
  },
  {
   "cell_type": "markdown",
   "metadata": {},
   "source": [
    "#### Other Regularization Techniques\n",
    "\n",
    "- Dimensionaly reduction\n",
    "- Data augmentation\n",
    "- Dropout\n",
    "- Early Stopping"
   ]
  },
  {
   "cell_type": "markdown",
   "metadata": {},
   "source": [
    "## Prepearing Data for Linear Regression\n",
    "\n",
    "#### Linear Assumption\n",
    "A linear regression assume que o relacionamento entre as features de entrada e saída é linear. \n",
    "\n",
    "\n",
    "#### Remove Noise\n",
    "As features de entrada e saída não tem outliers.\n",
    "\n",
    "#### Remove Collinearity\n",
    "A linear regression ajustará em excesso seus dados quando você tiver variáveis ​​de entrada altamente correlacionadas. Considere calcular correlações aos pares para seus dados de entrada e remover as mais correlacionadas.\n",
    "\n",
    "#### Gaussian Distributions\n",
    "A linear regression fará previsões mais confiáveis se as features tiverem uma distribuição gaussiana. Aplicar transformações como log() pode se um auxilio.\n",
    "\n",
    "#### Rescale Inputs\n",
    "a linear regression geralmente fará previsões mais confiáveis ​​se você redimensionar variáveis ​​de entrada usando padronização ou normalização."
   ]
  },
  {
   "cell_type": "markdown",
   "metadata": {},
   "source": [
    "---\n",
    "\n",
    "## **Modeling Linear Models**"
   ]
  },
  {
   "cell_type": "markdown",
   "metadata": {},
   "source": [
    "1. Insira uma _linear regression_ em qualquer ponto do gráfico\n",
    "\n",
    "<img src=\"reports/mean.png\" align=\"center\" height=100% width=60%/>\n",
    "\n",
    "2. Em seguida, calcule a **cost function**\n",
    "3. Para encontrar o melhor local onde a reta se encaixa nos dados, calcule o **gradient descent**\n",
    "\n",
    "<img src=\"reports/linear.png\" align=\"center\" height=100% width=60%/>\n",
    "\n",
    "2. Caso os dados não sejam lineares será necessário **gerar um polinômio**. Começe pelo grau = 2\n",
    "\n",
    "<img src=\"reports/poly_1.png\" align=\"center\" height=100% width=60%/>\n",
    "\n",
    "3. Para diminuir o _bias_, é preciso **aumentar o grau do polinômio** para 10\n",
    "\n",
    "<img src=\"reports/poly_2.png\" align=\"center\" height=100% width=60%/>\n",
    "\n",
    "4. Agora, para garatir uma menor _variance_, será aplicado uma **regularization** no modelo\n",
    "\n",
    "<img src=\"reports/poly_3.png\" align=\"center\" height=100% width=60%/>\n"
   ]
  },
  {
   "cell_type": "markdown",
   "metadata": {},
   "source": [
    "#### Analysis Polynomial Model\n",
    "\n",
    "- O modelo começa como uma _linear regression_ com _regularization_ e vai aumentando o grau do polinômio\n",
    "\n",
    "<img src=\"reports/polinomial_regression.gif\" align=\"center\" height=50% width=40%/>"
   ]
  },
  {
   "cell_type": "markdown",
   "metadata": {
    "pycharm": {}
   },
   "source": [
    "#### References\n",
    "- [1] https://moodle.ufsc.br/pluginfile.php/1592338/mod_resource/content/1/An%C3%A1lise%20da%20regres%C3%A3o.pdf\n",
    "- [2] https://www.coursera.org/learn/machine-learning/\n",
    "- [3] https://towardsdatascience.com/implement-gradient-descent-in-python-9b93ed7108d1\n",
    "- [4] https://en.wikipedia.org/wiki/Gradient_descent\n",
    "- [5] https://scikit-learn.org/stable/tutorial/machine_learning_map/index.html\n",
    "- [6] https://matheusfacure.github.io/2017/02/16/ols-mechanics/\n",
    "- [7] http://madrury.github.io/smoothers/"
   ]
  },
  {
   "cell_type": "markdown",
   "metadata": {
    "pycharm": {}
   },
   "source": [
    "---"
   ]
  }
 ],
 "metadata": {
  "kernelspec": {
   "display_name": "Python 3",
   "language": "python",
   "name": "python3"
  },
  "language_info": {
   "codemirror_mode": {
    "name": "ipython",
    "version": 3
   },
   "file_extension": ".py",
   "mimetype": "text/x-python",
   "name": "python",
   "nbconvert_exporter": "python",
   "pygments_lexer": "ipython3",
   "version": "3.6.8"
  },
  "latex_envs": {
   "LaTeX_envs_menu_present": true,
   "autoclose": false,
   "autocomplete": true,
   "bibliofile": "biblio.bib",
   "cite_by": "apalike",
   "current_citInitial": 1,
   "eqLabelWithNumbers": true,
   "eqNumInitial": 1,
   "hotkeys": {
    "equation": "Ctrl-E",
    "itemize": "Ctrl-I"
   },
   "labels_anchors": false,
   "latex_user_defs": false,
   "report_style_numbering": false,
   "user_envs_cfg": false
  },
  "toc": {
   "base_numbering": 1,
   "nav_menu": {},
   "number_sections": false,
   "sideBar": false,
   "skip_h1_title": false,
   "title_cell": "Table of Contents",
   "title_sidebar": "Contents",
   "toc_cell": false,
   "toc_position": {},
   "toc_section_display": false,
   "toc_window_display": false
  }
 },
 "nbformat": 4,
 "nbformat_minor": 4
}
