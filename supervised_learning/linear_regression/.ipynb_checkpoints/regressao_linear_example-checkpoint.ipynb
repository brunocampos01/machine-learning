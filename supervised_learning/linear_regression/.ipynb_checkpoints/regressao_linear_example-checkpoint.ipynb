{
 "cells": [
  {
   "cell_type": "markdown",
   "metadata": {},
   "source": [
    "# [Regressão linear no scikit-learn](http://scikit-learn.org/stable/modules/generated/sklearn.linear_model.LinearRegression.html)\n",
    "\n",
    "Nesta seção, você vai usar a regressão linear para prever a expectativa de vida a partir do índice de massa corporal (IMC). Antes de fazer isso, vamos dar uma olhada nas ferramentas necessárias para construir esse modelo.\n",
    "\n",
    "Para seu modelo de regressão linear, você usará a classe **LinearRegression** do scikit-learn. Essa classe fornece a função **fit()** para ajustar o modelo a seus dados."
   ]
  },
  {
   "cell_type": "markdown",
   "metadata": {},
   "source": [
    "## Structure linear regression model:\n",
    "\n",
    "1. imports\n",
    "2. Load dataset\n",
    "3. Analyse database\n",
    "4. Choose the independent and dependent variables\n",
    "5. Split the data into training/testing sets\n",
    "6. Create linear regression model\n",
    "7. Train the model using the training sets\n",
    "8. Make predictions using the testing sets\n",
    "9. Make predictions using the values that are not yet in the database."
   ]
  },
  {
   "cell_type": "markdown",
   "metadata": {},
   "source": [
    "** Antes de começar entenda o problema **"
   ]
  },
  {
   "cell_type": "markdown",
   "metadata": {},
   "source": [
    "### 1. Imports"
   ]
  },
  {
   "cell_type": "code",
   "execution_count": 95,
   "metadata": {},
   "outputs": [],
   "source": [
    "import pandas as pd\n",
    "from sklearn.linear_model import LinearRegression"
   ]
  },
  {
   "cell_type": "markdown",
   "metadata": {},
   "source": [
    "### 2. Load dataset\n",
    "\n",
    "* Os dados estão em um arquivo chamado \"bmi_and_life_expectancy.csv\".\n",
    "* Use o read_csv do pandas para carregar os dados em um dataframe\n",
    "* Atribua o dataframe à variável bmi_life_data."
   ]
  },
  {
   "cell_type": "code",
   "execution_count": 96,
   "metadata": {},
   "outputs": [],
   "source": [
    "# Load the data in dataframe\n",
    "\n",
    "bmi_life_data = pd.read_csv('/home/brunocampos01/projetos/data_science/'\n",
    "                            'machine_learning/supervised_learning/data_base/bmi_and_life_expectancy.csv') "
   ]
  },
  {
   "cell_type": "markdown",
   "metadata": {},
   "source": [
    "### 3. Analyse data"
   ]
  },
  {
   "cell_type": "code",
   "execution_count": 97,
   "metadata": {
    "scrolled": true
   },
   "outputs": [
    {
     "data": {
      "text/html": [
       "<div>\n",
       "<style scoped>\n",
       "    .dataframe tbody tr th:only-of-type {\n",
       "        vertical-align: middle;\n",
       "    }\n",
       "\n",
       "    .dataframe tbody tr th {\n",
       "        vertical-align: top;\n",
       "    }\n",
       "\n",
       "    .dataframe thead th {\n",
       "        text-align: right;\n",
       "    }\n",
       "</style>\n",
       "<table border=\"1\" class=\"dataframe\">\n",
       "  <thead>\n",
       "    <tr style=\"text-align: right;\">\n",
       "      <th></th>\n",
       "      <th>Country</th>\n",
       "      <th>Life expectancy</th>\n",
       "      <th>BMI</th>\n",
       "    </tr>\n",
       "  </thead>\n",
       "  <tbody>\n",
       "    <tr>\n",
       "      <th>0</th>\n",
       "      <td>Afghanistan</td>\n",
       "      <td>52.8</td>\n",
       "      <td>20.62058</td>\n",
       "    </tr>\n",
       "    <tr>\n",
       "      <th>1</th>\n",
       "      <td>Albania</td>\n",
       "      <td>76.8</td>\n",
       "      <td>26.44657</td>\n",
       "    </tr>\n",
       "    <tr>\n",
       "      <th>2</th>\n",
       "      <td>Algeria</td>\n",
       "      <td>75.5</td>\n",
       "      <td>24.59620</td>\n",
       "    </tr>\n",
       "    <tr>\n",
       "      <th>3</th>\n",
       "      <td>Andorra</td>\n",
       "      <td>84.6</td>\n",
       "      <td>27.63048</td>\n",
       "    </tr>\n",
       "    <tr>\n",
       "      <th>4</th>\n",
       "      <td>Angola</td>\n",
       "      <td>56.7</td>\n",
       "      <td>22.25083</td>\n",
       "    </tr>\n",
       "  </tbody>\n",
       "</table>\n",
       "</div>"
      ],
      "text/plain": [
       "       Country  Life expectancy       BMI\n",
       "0  Afghanistan             52.8  20.62058\n",
       "1      Albania             76.8  26.44657\n",
       "2      Algeria             75.5  24.59620\n",
       "3      Andorra             84.6  27.63048\n",
       "4       Angola             56.7  22.25083"
      ]
     },
     "execution_count": 97,
     "metadata": {},
     "output_type": "execute_result"
    }
   ],
   "source": [
    "bmi_life_data.head()"
   ]
  },
  {
   "cell_type": "code",
   "execution_count": 98,
   "metadata": {},
   "outputs": [
    {
     "data": {
      "text/plain": [
       "(163, 3)"
      ]
     },
     "execution_count": 98,
     "metadata": {},
     "output_type": "execute_result"
    }
   ],
   "source": [
    "# rows and columns\n",
    "\n",
    "bmi_life_data.shape"
   ]
  },
  {
   "cell_type": "code",
   "execution_count": 99,
   "metadata": {},
   "outputs": [
    {
     "data": {
      "text/plain": [
       "Index(['Country', 'Life expectancy', 'BMI'], dtype='object')"
      ]
     },
     "execution_count": 99,
     "metadata": {},
     "output_type": "execute_result"
    }
   ],
   "source": [
    "# name collumns\n",
    "\n",
    "bmi_life_data.keys()"
   ]
  },
  {
   "cell_type": "code",
   "execution_count": 100,
   "metadata": {},
   "outputs": [
    {
     "data": {
      "text/plain": [
       "pandas.core.frame.DataFrame"
      ]
     },
     "execution_count": 100,
     "metadata": {},
     "output_type": "execute_result"
    }
   ],
   "source": [
    "#Type dataset\n",
    "\n",
    "type(bmi_life_data)"
   ]
  },
  {
   "cell_type": "code",
   "execution_count": 101,
   "metadata": {
    "scrolled": true
   },
   "outputs": [
    {
     "data": {
      "text/plain": [
       "Country             object\n",
       "Life expectancy    float64\n",
       "BMI                float64\n",
       "dtype: object"
      ]
     },
     "execution_count": 101,
     "metadata": {},
     "output_type": "execute_result"
    }
   ],
   "source": [
    "#Types data in collumns\n",
    "\n",
    "bmi_life_data.dtypes"
   ]
  },
  {
   "cell_type": "markdown",
   "metadata": {},
   "source": [
    "O arquivo de dados é \"bmi_and_life_expectancy.csv\". Ele inclui três colunas, contendo os seguintes dados:\n",
    "\n",
    "* **Country** – O país em que a pessoa nasceu.\n",
    "* **Life expectancy** – A expectativa de vida média ao nascer para uma pessoa nesse país.\n",
    "* **BMI** – O IMC médio para homens nesse país"
   ]
  },
  {
   "cell_type": "markdown",
   "metadata": {},
   "source": [
    "### 4. Choosing the independent and dependent variables  "
   ]
  },
  {
   "cell_type": "code",
   "execution_count": 105,
   "metadata": {},
   "outputs": [],
   "source": [
    "# escolhendo as variáveis independentes\n",
    "X = bmi_life_data[[\"BMI\"]] \n",
    "\n",
    "# escolhendo a variável dependente (é a variável que quero fazer a predição, target)\n",
    "y = bmi_life_data['Life expectancy']"
   ]
  },
  {
   "cell_type": "markdown",
   "metadata": {},
   "source": [
    "### 5. Split the data into training/testing sets"
   ]
  },
  {
   "cell_type": "code",
   "execution_count": 110,
   "metadata": {},
   "outputs": [
    {
     "name": "stdout",
     "output_type": "stream",
     "text": [
      "X_train:\n",
      "          BMI\n",
      "57   26.33786\n",
      "146  30.99563\n",
      "84   26.86102\n",
      "86   26.34473\n",
      "147  26.39669\n",
      "\n",
      "y_train:\n",
      "57     80.2\n",
      "146    70.3\n",
      "84     72.1\n",
      "86     74.5\n",
      "147    71.7\n",
      "Name: Life expectancy, dtype: float64\n",
      "\n",
      "X_test:\n",
      "          BMI\n",
      "27   23.51522\n",
      "137  23.16969\n",
      "149  26.70371\n",
      "47   20.24700\n",
      "37   26.59629\n",
      "\n",
      "y_test:\n",
      "27     70.4\n",
      "137    45.1\n",
      "149    77.8\n",
      "47     60.0\n",
      "37     76.2\n",
      "Name: Life expectancy, dtype: float64\n"
     ]
    }
   ],
   "source": [
    "from sklearn.model_selection import train_test_split\n",
    "\n",
    "# Split the data into training/testing sets\n",
    "X_train, X_test, y_train, y_test = train_test_split(\n",
    "                                    X, \n",
    "                                    y, \n",
    "                                    test_size=0.25)\n",
    "\n",
    "print(f\"X_train:\\n{X_train.head()}\\n\")\n",
    "print(f\"y_train:\\n{y_train.head()}\\n\")\n",
    "print(f\"X_test:\\n{X_test.head()}\\n\")\n",
    "print(f\"y_test:\\n{y_test.head()}\")"
   ]
  },
  {
   "cell_type": "code",
   "execution_count": 130,
   "metadata": {},
   "outputs": [
    {
     "data": {
      "image/png": "[encoded data removed]",
      "text/plain": [
       "<Figure size 432x288 with 1 Axes>"
      ]
     },
     "metadata": {},
     "output_type": "display_data"
    }
   ],
   "source": [
    "import matplotlib.pyplot as plt\n",
    "\n",
    "# now we are going to plot the points\n",
    "plt.scatter(X_test, y_test, color='red')\n",
    "plt.title('bmi_life_model TEST', fontsize=16)\n",
    "plt.xlabel(\"BMI\")\n",
    "plt.ylabel(\"Life expectancy\")\n",
    "plt.draw()"
   ]
  },
  {
   "cell_type": "code",
   "execution_count": 127,
   "metadata": {},
   "outputs": [
    {
     "data": {
      "image/png": "[encoded data removed]",
      "text/plain": [
       "<Figure size 432x288 with 1 Axes>"
      ]
     },
     "metadata": {},
     "output_type": "display_data"
    }
   ],
   "source": [
    "import matplotlib.pyplot as plt\n",
    "\n",
    "# now we are going to plot the points and the model obtained\n",
    "plt.scatter(X_train, y_train, color='blue')  # you can use test_data_X and test_data_Y instead.\n",
    "plt.title('bmi_life_model TRAIN', fontsize=16)\n",
    "plt.xlabel(\"BMI\")\n",
    "plt.ylabel(\"Life expectancy\")\n",
    "plt.draw()"
   ]
  },
  {
   "cell_type": "markdown",
   "metadata": {},
   "source": [
    "### 6. Create linear regression model\n",
    "\n",
    "Crie um modelo de regressão usando o método **LinearRegression()** do scikit-learn.\n",
    "Ajuste o modelo aos dados com o metodo **fit(x, y)**"
   ]
  },
  {
   "cell_type": "code",
   "execution_count": 113,
   "metadata": {},
   "outputs": [],
   "source": [
    "# Make a model\n",
    "model = LinearRegression()"
   ]
  },
  {
   "cell_type": "markdown",
   "metadata": {},
   "source": [
    "### 7. Train the model using the training sets"
   ]
  },
  {
   "cell_type": "code",
   "execution_count": 114,
   "metadata": {},
   "outputs": [],
   "source": [
    "# train the model\n",
    "model = model.fit(X_train, y_train)"
   ]
  },
  {
   "cell_type": "markdown",
   "metadata": {},
   "source": [
    "Finalmente, com o modelo treinado, podemos realizar previsões e ver quão próximas elas estão da realidade.\n",
    "\n",
    "Podemos fazer previsões com os **dados de teste** ou senão com algum valor do eixo X (IMC)."
   ]
  },
  {
   "cell_type": "markdown",
   "metadata": {},
   "source": [
    "### 8.  Make predictions using the testing set"
   ]
  },
  {
   "cell_type": "code",
   "execution_count": 125,
   "metadata": {},
   "outputs": [],
   "source": [
    "y_model = model.predict(X_test)"
   ]
  },
  {
   "cell_type": "markdown",
   "metadata": {},
   "source": [
    "### 9. Make predictions using values that are not yet in the database\n",
    "Faça uma previsão usando um IMC de 21.07931 e atribua o resultado à variável laos_life_exp."
   ]
  },
  {
   "cell_type": "code",
   "execution_count": 124,
   "metadata": {},
   "outputs": [
    {
     "name": "stdout",
     "output_type": "stream",
     "text": [
      "The Predict life expectancy to Laos is: [60.16356403] years.\n"
     ]
    }
   ],
   "source": [
    "# Make a prediction using the model\n",
    "# TODO: Predict life expectancy for a BMI (IMC) value of 21.07931\n",
    "\n",
    "laos_life_exp = model.predict(21.07931)\n",
    "print(f'The Predict life expectancy to Laos is: {laos_life_exp} years.')"
   ]
  }
 ],
 "metadata": {
  "kernelspec": {
   "display_name": "Python 3",
   "language": "python",
   "name": "python3"
  },
  "language_info": {
   "codemirror_mode": {
    "name": "ipython",
    "version": 3
   },
   "file_extension": ".py",
   "mimetype": "text/x-python",
   "name": "python",
   "nbconvert_exporter": "python",
   "pygments_lexer": "ipython3",
   "version": "3.6.5"
  },
  "latex_envs": {
   "LaTeX_envs_menu_present": true,
   "autoclose": false,
   "autocomplete": true,
   "bibliofile": "biblio.bib",
   "cite_by": "apalike",
   "current_citInitial": 1,
   "eqLabelWithNumbers": true,
   "eqNumInitial": 1,
   "hotkeys": {
    "equation": "Ctrl-E",
    "itemize": "Ctrl-I"
   },
   "labels_anchors": false,
   "latex_user_defs": false,
   "report_style_numbering": false,
   "user_envs_cfg": false
  }
 },
 "nbformat": 4,
 "nbformat_minor": 2
}
