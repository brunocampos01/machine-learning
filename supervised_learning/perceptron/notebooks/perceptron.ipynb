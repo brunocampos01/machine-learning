{
 "cells": [
  {
   "cell_type": "markdown",
   "metadata": {},
   "source": [
    "# Perceptron Algorithm"
   ]
  },
  {
   "cell_type": "markdown",
   "metadata": {},
   "source": [
    "É um algoritmo para aprendizado supervisionado que calcula uma equação linear.\n",
    " \n",
    " ## What is a perceptron?\n",
    " Um perceptron é um algoritmo que tem uma ou mais entradas, um viés, uma função de ativação e uma única saída.\n",
    " \n",
    " ## How it works?\n",
    " O perceptron recebe entradas, multiplica-as por algum peso e, em seguida, as passa para uma função step para produzir uma saída. Existem muitas funções de step possíveis para escolher, como a função logística, uma função trigonométrica,etc."
   ]
  },
  {
   "cell_type": "markdown",
   "metadata": {},
   "source": [
    "<img src=\"images/output_2_0.png\" />"
   ]
  },
  {
   "cell_type": "markdown",
   "metadata": {},
   "source": [
    "Onde:\n",
    " - **x** são as entradas\n",
    " - **w** são os pesos \n",
    " - **b** é a unidade de viés (bias)"
   ]
  },
  {
   "cell_type": "markdown",
   "metadata": {},
   "source": [
    "## Example)"
   ]
  },
  {
   "cell_type": "markdown",
   "metadata": {},
   "source": [
    "<img src=\"images/output_5_0.png\" />"
   ]
  },
  {
   "cell_type": "markdown",
   "metadata": {},
   "source": [
    "## Step Function\n",
    "Um algoritmo perceptron é a combinação de nós, sendo o primeiro calculando uma equação linear e o segundo  uma equação de validação."
   ]
  },
  {
   "cell_type": "markdown",
   "metadata": {},
   "source": [
    "<img src=\"images/output_7_0.png\" />"
   ]
  },
  {
   "cell_type": "code",
   "execution_count": 11,
   "metadata": {},
   "outputs": [],
   "source": [
    "def stepFunction(t):\n",
    "    if t >= 0:\n",
    "        return 1\n",
    "    return 0"
   ]
  },
  {
   "cell_type": "markdown",
   "metadata": {},
   "source": [
    "# Perceptrons with logical operators\n"
   ]
  },
  {
   "cell_type": "markdown",
   "metadata": {},
   "source": [
    "## AND"
   ]
  },
  {
   "cell_type": "markdown",
   "metadata": {},
   "source": [
    "<img src=\"images/output_10_0.png\" />"
   ]
  },
  {
   "cell_type": "markdown",
   "metadata": {},
   "source": [
    "<img src=\"images/output_11_0.png\" />"
   ]
  },
  {
   "cell_type": "markdown",
   "metadata": {},
   "source": [
    "## OR"
   ]
  },
  {
   "cell_type": "markdown",
   "metadata": {},
   "source": [
    "<img src=\"images/output_13_0.png\" />"
   ]
  },
  {
   "cell_type": "markdown",
   "metadata": {},
   "source": [
    "O perceptron OR é muito semelhante a um perceptron AND. Na imagem abaixo, o perceptron OR contém a mesma linha que o perceptron AND, com a diferença de que ela está mais para baixo. "
   ]
  },
  {
   "cell_type": "markdown",
   "metadata": {},
   "source": [
    "<img src=\"images/output_15_0.png\" />"
   ]
  },
  {
   "cell_type": "markdown",
   "metadata": {},
   "source": [
    "## Conversion from AND to OR\n",
    "Para transformar um perceptron E em um perceptron OU é possível de duas formas:\n",
    " - Diminuindo a magnetude do viés (b)\n",
    " - Aumentando os pesos (w)\n",
    "                                                       "
   ]
  },
  {
   "cell_type": "markdown",
   "metadata": {},
   "source": [
    "## Test: Build a multilayer XOR\n",
    "A rede neural abaixo contém 3 perceptrons: A, B e C"
   ]
  },
  {
   "cell_type": "markdown",
   "metadata": {},
   "source": [
    "<img src=\"images/output_18_0.png\" />"
   ]
  },
  {
   "cell_type": "markdown",
   "metadata": {},
   "source": [
    "<img src=\"images/output_19_0.png\" />"
   ]
  },
  {
   "cell_type": "markdown",
   "metadata": {},
   "source": [
    "## Limitations of perceptron networks\n",
    " - os valores de saída do perceptron podem assumir somente dois valores (Verdadeiro ou Falso).\n",
    " - perceptrons somente podem classificar grupos de vetores linearmente separados."
   ]
  },
  {
   "cell_type": "markdown",
   "metadata": {},
   "source": [
    "## Calculation of the equation of the line"
   ]
  },
  {
   "cell_type": "markdown",
   "metadata": {},
   "source": [
    "<img src=\"images/output_22_0.png\" />"
   ]
  },
  {
   "cell_type": "markdown",
   "metadata": {},
   "source": [
    "Dado este conjunto de dados, podemos começar inserindo uma reta de modo aleatório."
   ]
  },
  {
   "cell_type": "markdown",
   "metadata": {},
   "source": [
    "<img src=\"images/output_24_0.png\" />"
   ]
  },
  {
   "cell_type": "markdown",
   "metadata": {},
   "source": [
    "Por ser um algoritmo classificador, a reta irá classificar duas regiões. Contudo é possível notar que nem todos os pontos foram classificados corretamente."
   ]
  },
  {
   "cell_type": "markdown",
   "metadata": {},
   "source": [
    "<img src=\"images/output_26_0.png\" />"
   ]
  },
  {
   "cell_type": "markdown",
   "metadata": {},
   "source": [
    "## How to improve the quality of the classification of the line?"
   ]
  },
  {
   "cell_type": "markdown",
   "metadata": {},
   "source": [
    "Neste exemplo abaixo, temos a equação da reta e um ponto que esta classificado errado."
   ]
  },
  {
   "cell_type": "markdown",
   "metadata": {},
   "source": [
    "<img src=\"images/output_29_0.png\" />"
   ]
  },
  {
   "cell_type": "markdown",
   "metadata": {},
   "source": [
    "### Correcting the classification\n",
    "\n",
    " - 1º passo) Inserir um B (bias) ao ponto. Neste caso será 1 \n",
    "   (4,5,1)\n",
    " - 2º passo) copiar os valores W da equação da reta."
   ]
  },
  {
   "cell_type": "markdown",
   "metadata": {},
   "source": [
    "<img src=\"images/output_31_0.png\" />"
   ]
  },
  {
   "cell_type": "markdown",
   "metadata": {},
   "source": [
    " - 3º passo) Subtrair os valores W da equação da reta com os valores do ponto.\n",
    " Com estes 3 passos já temos uma nova equação da reta que classifica CORRETAMENTE o ponto."
   ]
  },
  {
   "cell_type": "markdown",
   "metadata": {},
   "source": [
    "<img src=\"images/output_33_0.png\" />"
   ]
  },
  {
   "cell_type": "markdown",
   "metadata": {},
   "source": [
    "Contudo...\n",
    "\n",
    "Houve uma mudança drástica na reta, se houvesse mais pontos eles poderiam ser afetados.\n",
    "Para evitar esse tipo de problema utilizamos uma **LEARNING RATE**."
   ]
  },
  {
   "cell_type": "markdown",
   "metadata": {},
   "source": [
    "#### Correcting classification with learning rate\n",
    "\n",
    "Geralmente começamos com um valor bem pequeno (0.1) e vamos analisando os resultados.\n",
    " - 1º passo) Esta constante multiplicará os valores do pontos\n",
    " - 2º passo) Subtrair os valores W da equação da reta com os valores do ponto que foram multiplicados pela LEARNING RATE."
   ]
  },
  {
   "cell_type": "markdown",
   "metadata": {},
   "source": [
    "<img src=\"images/output_36_0.png\" />"
   ]
  },
  {
   "cell_type": "markdown",
   "metadata": {},
   "source": [
    "Pronto !\n",
    "\n",
    "Agora a equação se moveu pouco e podemos controlar suas movimentações através da learning rate.\n",
    "Outro exemplo)"
   ]
  },
  {
   "cell_type": "markdown",
   "metadata": {},
   "source": [
    "<img src=\"images/output_38_0.png\" />"
   ]
  },
  {
   "cell_type": "markdown",
   "metadata": {},
   "source": [
    "<img src=\"images/output_39_0.png\" />"
   ]
  },
  {
   "cell_type": "markdown",
   "metadata": {},
   "source": [
    "**O algoritmo ficou assim:**\n",
    "    \n",
    "Para um ponto com coordenadas (p,q), rótulo y e previsão dada pela equação:\n",
    "y\n",
    "^\n",
    "​\t =step(w \n",
    "1\n",
    "​\t x \n",
    "1\n",
    "​\t +w \n",
    "2\n",
    "​\t x \n",
    "2\n",
    "​\t +b)\n",
    "\n",
    " - Se um ponto for classificado corretamente, não faça nada.\n",
    " - Se o ponto for classificado **positivamente, mas tiver um rótulo negativo**, subtraia αp,αq, e α de w_1, w_2 e b respectivamente.\n",
    " - Se o ponto for classificado **negativamente, mas tiver um rótulo positivo**, some αp,αq, e α a w_1, w_2 e b respectivamente."
   ]
  },
  {
   "cell_type": "code",
   "execution_count": 1,
   "metadata": {},
   "outputs": [],
   "source": [
    "# perceptron step\n",
    "# inputs the data X, the labels y, the weights W (as an array), and the bias b\n",
    "import numpy as np\n",
    "\n",
    "def stepFunction(t):\n",
    "    if t >= 0:\n",
    "        return 1\n",
    "    return 0\n",
    "\n",
    "def prediction(X, W, b):\n",
    "    return stepFunction((np.matmul(X,W)+b)[0])\n",
    "\n",
    "def perceptronStep(X, y, W, b, learn_rate = 0.01):\n",
    "    for index in range(len(X)):\n",
    "        x1 = X[index][0]\n",
    "        x2 = X[index][1]\n",
    "        label = 1.0 if x1 * W[0] + x2 * W[1] + b > 0 else 0.0\n",
    "        if label > y[index]:\n",
    "            # subtract αp, αq, and α from w1, w2, and b respectively\n",
    "            W[0] -= x1 * learn_rate\n",
    "            W[1] -= x2 * learn_rate\n",
    "            b -= learn_rate\n",
    "        elif label < y[index]:\n",
    "            # add αp, αq, and α from w1,w2, and b respectively\n",
    "            W[0] += x1 * learn_rate\n",
    "            W[1] += x2 * learn_rate\n",
    "            b += learn_rate\n",
    "    return W, b"
   ]
  },
  {
   "cell_type": "markdown",
   "metadata": {},
   "source": [
    "## References:\n",
    "- http://scikit-learn.org/stable/modules/generated/sklearn.linear_model.Perceptron.html\n",
    "- https://en.wikipedia.org/wiki/Perceptron"
   ]
  }
 ],
 "metadata": {
  "kernelspec": {
   "display_name": "Python 3",
   "language": "python",
   "name": "python3"
  },
  "language_info": {
   "codemirror_mode": {
    "name": "ipython",
    "version": 3
   },
   "file_extension": ".py",
   "mimetype": "text/x-python",
   "name": "python",
   "nbconvert_exporter": "python",
   "pygments_lexer": "ipython3",
   "version": "3.6.5"
  },
  "latex_envs": {
   "LaTeX_envs_menu_present": true,
   "autoclose": false,
   "autocomplete": true,
   "bibliofile": "biblio.bib",
   "cite_by": "apalike",
   "current_citInitial": 1,
   "eqLabelWithNumbers": true,
   "eqNumInitial": 1,
   "hotkeys": {
    "equation": "Ctrl-E",
    "itemize": "Ctrl-I"
   },
   "labels_anchors": false,
   "latex_user_defs": false,
   "report_style_numbering": false,
   "user_envs_cfg": false
  },
  "toc": {
   "base_numbering": 1,
   "nav_menu": {},
   "number_sections": false,
   "sideBar": false,
   "skip_h1_title": false,
   "title_cell": "Table of Contents",
   "title_sidebar": "Contents",
   "toc_cell": false,
   "toc_position": {},
   "toc_section_display": false,
   "toc_window_display": false
  }
 },
 "nbformat": 4,
 "nbformat_minor": 2
}
