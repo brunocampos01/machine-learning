{
 "cells": [
  {
   "cell_type": "markdown",
   "metadata": {
    "collapsed": true
   },
   "source": [
    "# Evaluation Model\n",
    "\n",
    "It's important evaluation model to know how a model **performace**.\n",
    "\n",
    "How well is my model doing ?\n",
    "\n",
    "<img src='../reports/images/measurement.png' align=\"\" height=auto width=60%>\n",
    "\n",
    "<br/>\n",
    "<br/>\n",
    "\n",
    "## Type Evaluation\n",
    "\n",
    "<img src='../reports/images/regression_and_classifier.png' align=\"\" height=auto width=60%>\n",
    "\n",
    "Classifier Tecniques:\n",
    "- Matrix Confusion\n",
    "  - Accuracy (exatidão, eficácia = fazer as coisas certas)\n",
    "  - Recall\n",
    "  - Precision\n",
    "  - F1\n",
    "\n",
    "Regression Techines:\n",
    "- Mean Absolute Error\n",
    "- \n",
    "\n",
    "\n",
    "\n",
    "## 1ª Step\n",
    "Qual tipo de erro (**FALSE positive** and **FALSE negative**) não devo tolerar ?\n",
    "- Caso não haja problemas em ter erros, a melhor medida será accuracy."
   ]
  },
  {
   "cell_type": "markdown",
   "metadata": {},
   "source": [
    "## Prepare Data"
   ]
  },
  {
   "cell_type": "code",
   "execution_count": 97,
   "metadata": {},
   "outputs": [],
   "source": [
    "w, h = 2, 12;\n",
    "X = [[0 for x in range(w)] for y in range(h)] \n",
    "\n",
    "y_actu = pd.Series([2, 0, 2, 2, 0, 1, 1, 2, 2, 0, 1, 2], name='Actual')\n",
    "y_pred = pd.Series([0, 0, 2, 1, 0, 2, 1, 0, 2, 0, 2, 2], name='Predicted')"
   ]
  },
  {
   "cell_type": "code",
   "execution_count": 98,
   "metadata": {},
   "outputs": [
    {
     "name": "stdout",
     "output_type": "stream",
     "text": [
      "[[0, 0], [0, 0], [0, 0], [0, 0], [0, 0], [0, 0], [0, 0], [0, 0], [0, 0], [0, 0], [0, 0], [0, 0]]\n"
     ]
    }
   ],
   "source": [
    "print(X)"
   ]
  },
  {
   "cell_type": "markdown",
   "metadata": {},
   "source": [
    "### Prepare Principal Directory"
   ]
  },
  {
   "cell_type": "code",
   "execution_count": 99,
   "metadata": {
    "scrolled": true
   },
   "outputs": [],
   "source": [
    "import os\n",
    "\n",
    "\n",
    "def prepare_directory_work(end_directory: str='notebooks'):\n",
    "    # Current path\n",
    "    curr_dir = os.path.dirname (os.path.realpath (\"__file__\")) \n",
    "    \n",
    "    if curr_dir.endswith(end_directory):\n",
    "        os.chdir('..')\n",
    "        return curr_dir\n",
    "    \n",
    "    return f'Current working directory: {curr_dir}'"
   ]
  },
  {
   "cell_type": "code",
   "execution_count": 100,
   "metadata": {},
   "outputs": [
    {
     "data": {
      "text/plain": [
       "'Current working directory: /home/moura/projects/analysis-flow-data-science/flow_analysis'"
      ]
     },
     "execution_count": 100,
     "metadata": {},
     "output_type": "execute_result"
    }
   ],
   "source": [
    "prepare_directory_work(end_directory='notebooks')"
   ]
  },
  {
   "cell_type": "markdown",
   "metadata": {},
   "source": [
    "---\n",
    "\n",
    "## Confusion Matrix\n",
    "It's a table with storage result of a model.\n",
    "\n",
    "- **The columns are result predicted**\n",
    "\n",
    "- The first row of matrix:\n",
    "   - tem todos os valores que foram classificados como **positive** pelo modelo, ou seja, It's spam, It's sick. \n",
    "\n",
    "- Quando os resultados são corretos temos:\n",
    "  - :heavy_check_mark: **True** Positive\n",
    "  - :heavy_check_mark: **True** Negative\n",
    "\n",
    "\n",
    "<img src='../reports/images/matrix_true.png' align=\"\" height=auto width=60%>\n",
    "\n",
    "<br/>\n",
    "<br/>\n",
    "\n",
    "### Bayses Example\n",
    "\n",
    "<img src='../reports/images/medical_model.png' align=\"left\" height=auto width=30%>\n",
    "\n",
    "<br/>\n",
    "\n",
    "<img src='../reports/images/example_matrix.png' align=\"\" height=auto width=60%>\n",
    "\n",
    "<br/>\n",
    "<br/>\n",
    "\n",
    "<img src='../reports/images/example_medicine.png' align=\"\" height=auto width=60%>\n",
    "\n",
    "<br/>\n",
    "<br/>\n",
    "<br/>\n",
    "\n",
    "### Linear Example\n",
    "\n",
    "<img src='../reports/images/linear_model_matrix.png' align=\"\" height=auto width=60%>\n",
    "\n",
    "In this case\n",
    "\n",
    "|              | **Guessed Positive** | **Guessed Negative** |\n",
    "|--------------|----------------------|----------------------|\n",
    "| blue point:  **Positive** | 6<br/>**True**       | 1                    | \n",
    "| red point: **Negative**   | 2                    | 5<br/> **True**           | \n",
    "\n",
    "---"
   ]
  },
  {
   "cell_type": "code",
   "execution_count": 101,
   "metadata": {},
   "outputs": [
    {
     "name": "stdout",
     "output_type": "stream",
     "text": [
      "Confusion Matrix :\n",
      "[[4 2]\n",
      " [1 3]]\n",
      "Accuracy Score : 0.7\n",
      "Report : \n",
      "              precision    recall  f1-score   support\n",
      "\n",
      "           0       0.80      0.67      0.73         6\n",
      "           1       0.60      0.75      0.67         4\n",
      "\n",
      "    accuracy                           0.70        10\n",
      "   macro avg       0.70      0.71      0.70        10\n",
      "weighted avg       0.72      0.70      0.70        10\n",
      "\n"
     ]
    }
   ],
   "source": [
    "# Python script for confusion matrix creation. \n",
    "from sklearn.metrics import confusion_matrix \n",
    "from sklearn.metrics import accuracy_score \n",
    "from sklearn.metrics import classification_report\n",
    "\n",
    "\n",
    "actual =    [1, 1, 0, 1, 0, 0, 1, 0, 0, 0] \n",
    "predicted = [1, 0, 0, 1, 0, 0, 1, 1, 1, 0] \n",
    "results = confusion_matrix(actual, predicted) \n",
    "\n",
    "print('Confusion Matrix :')\n",
    "print(results) \n",
    "print ('Accuracy Score :',accuracy_score(actual, predicted)) \n",
    "print ('Report : ')\n",
    "print (classification_report(actual, predicted)) "
   ]
  },
  {
   "cell_type": "code",
   "execution_count": 102,
   "metadata": {},
   "outputs": [
    {
     "data": {
      "text/html": [
       "<div>\n",
       "<style scoped>\n",
       "    .dataframe tbody tr th:only-of-type {\n",
       "        vertical-align: middle;\n",
       "    }\n",
       "\n",
       "    .dataframe tbody tr th {\n",
       "        vertical-align: top;\n",
       "    }\n",
       "\n",
       "    .dataframe thead th {\n",
       "        text-align: right;\n",
       "    }\n",
       "</style>\n",
       "<table border=\"1\" class=\"dataframe\">\n",
       "  <thead>\n",
       "    <tr style=\"text-align: right;\">\n",
       "      <th>Predicted</th>\n",
       "      <th>0</th>\n",
       "      <th>1</th>\n",
       "      <th>2</th>\n",
       "      <th>All</th>\n",
       "    </tr>\n",
       "    <tr>\n",
       "      <th>Actual</th>\n",
       "      <th></th>\n",
       "      <th></th>\n",
       "      <th></th>\n",
       "      <th></th>\n",
       "    </tr>\n",
       "  </thead>\n",
       "  <tbody>\n",
       "    <tr>\n",
       "      <td>0</td>\n",
       "      <td>3</td>\n",
       "      <td>0</td>\n",
       "      <td>0</td>\n",
       "      <td>3</td>\n",
       "    </tr>\n",
       "    <tr>\n",
       "      <td>1</td>\n",
       "      <td>0</td>\n",
       "      <td>1</td>\n",
       "      <td>2</td>\n",
       "      <td>3</td>\n",
       "    </tr>\n",
       "    <tr>\n",
       "      <td>2</td>\n",
       "      <td>2</td>\n",
       "      <td>1</td>\n",
       "      <td>3</td>\n",
       "      <td>6</td>\n",
       "    </tr>\n",
       "    <tr>\n",
       "      <td>All</td>\n",
       "      <td>5</td>\n",
       "      <td>2</td>\n",
       "      <td>5</td>\n",
       "      <td>12</td>\n",
       "    </tr>\n",
       "  </tbody>\n",
       "</table>\n",
       "</div>"
      ],
      "text/plain": [
       "Predicted  0  1  2  All\n",
       "Actual                 \n",
       "0          3  0  0    3\n",
       "1          0  1  2    3\n",
       "2          2  1  3    6\n",
       "All        5  2  5   12"
      ]
     },
     "metadata": {},
     "output_type": "display_data"
    },
    {
     "name": "stdout",
     "output_type": "stream",
     "text": [
      "The columns are predicted result.\n"
     ]
    }
   ],
   "source": [
    "import pandas as pd\n",
    "\n",
    "\n",
    "df_confusion = pd.crosstab(y_actu,\n",
    "                           y_pred,\n",
    "                           rownames=['Actual'],\n",
    "                           colnames=['Predicted'],\n",
    "                           margins=True)\n",
    "display(df_confusion)\n",
    "print('The columns are predicted result.')"
   ]
  },
  {
   "cell_type": "markdown",
   "metadata": {},
   "source": [
    "---\n",
    "\n",
    "## Accuracy _(true positive + true negative)_\n",
    "\n",
    "<br/>\n",
    "<br/>\n",
    "\n",
    "<img src='../reports/images/accuracy.png' align=\"\" height=auto width=40%>\n",
    "\n",
    "<br/>\n",
    "<br/>\n",
    "\n",
    "Avalia o quanto o modelo classificou os dados corretamente.\n",
    "\n",
    "\n",
    "#### Confusion Matrix\n",
    "\n",
    "The columns are predicted result. \n",
    "\n",
    "|                          | Predicted Positive | Predicted Negative |\n",
    "|--------------------------|----------------------|----------------------|\n",
    "| free:  **Positive**      |       **True**  :heavy_check_mark:      |                      | \n",
    "| not free: **Negative**   |                      |      **True** :heavy_check_mark: | \n",
    "\n",
    "#### Formula\n",
    "\n",
    "É o total de classificações **true** sobre o todas as classificações.\n",
    "\n",
    "<br/>\n",
    "<br/>\n",
    "\n",
    "<img src='../reports/images/formula_accuracy.png' align=\"\" height=auto width=80%>\n",
    "\n",
    "<br/>\n",
    "<br/>\n",
    "<br/>\n",
    "<br/>\n",
    "\n",
    "#### Examples\n",
    "\n",
    "- Mecical\n",
    "\n",
    "Out of all the patients, how many did we classify **correcly**?\n",
    "\n",
    "<img src='../reports/images/example_accuracy.png' align=\"\" height=auto width=80%>\n",
    "\n",
    "<br/>\n",
    "<br/>\n",
    "\n",
    "- Spam\n",
    "\n",
    "Out of all the emails, how many did we classify **correctly**?\n",
    "\n",
    "<img src='../reports/images/example_spam.png' align=\"\" height=auto width=80%>\n",
    "\n",
    "<br/>\n",
    "<br/>\n",
    "\n",
    "- Linear Regression\n",
    "\n",
    "\n",
    "<img src='../reports/images/example_linear_regression.png' align=\"\" height=auto width=40%>\n",
    "\n",
    "\n",
    "Out of all the data, how many did we classify **correctly**?\n",
    "\n",
    "<img src='../reports/images/example_resolution_linear_regression.png' align=\"\" height=auto width=80%>\n",
    "\n"
   ]
  },
  {
   "cell_type": "markdown",
   "metadata": {},
   "source": [
    "#### Accuracy in `sklearn`"
   ]
  },
  {
   "cell_type": "code",
   "execution_count": 103,
   "metadata": {},
   "outputs": [
    {
     "data": {
      "text/plain": [
       "0.5833333333333334"
      ]
     },
     "execution_count": 103,
     "metadata": {},
     "output_type": "execute_result"
    }
   ],
   "source": [
    "from sklearn.metrics import accuracy_score\n",
    "\n",
    "\n",
    "accuracy_score(y_actu, y_pred)"
   ]
  },
  {
   "cell_type": "markdown",
   "metadata": {},
   "source": [
    "### Accuracy Problemns  :poop: :poop: :poop: \n",
    "\n",
    "#### The Worst case \n",
    "\n",
    "| FALSE NEGATIVE |\n",
    "|----------------|\n",
    "|:heavy_multiplication_x: :heavy_minus_sign:|\n",
    "\n",
    "#### Accuracy > 99%\n",
    "- Quando um modelo tem uma accuracy superior a 99%\n",
    "- É o caso quando um modelo classificou todos os casos sendo como **positive**\n",
    "\n",
    "\n",
    "|                          | **Positive** | Negative |\n",
    "|--------------------------|----------------------|----------------------|\n",
    "| good transactions     |       :green_check_mark: true       |          :green_check_mark: false           | \n",
    "| fraud  |                      |       | \n",
    "\n",
    "<br/>\n",
    "<br/>\n",
    "\n",
    "#### Example\n",
    "\n",
    "- Fraud Credit Card\n",
    "  - Accuracy = 99.83 %\n",
    "  - **Not catching any of the bad ones**\n",
    "\n",
    "<img src='../reports/images/example_credit_card.png' align=\"\" height=auto width=80%>\n",
    "\n",
    "<br/>\n",
    "<br/>\n",
    "\n",
    "- Diagnosis **(FALSE NEGATIVE)**\n",
    "  - If sick and model diagnosis how healthy, the patient not receive help!\n",
    "  \n",
    "<img src='../reports/images/false.png' align=\"\" height=auto width=60%>\n",
    "\n",
    "<br/>\n",
    "<br/>\n",
    "\n",
    "- Malware **(FALSE NEGATIVE)**\n",
    "  - If email contains malware and model return eamil how good, the malware attack !\n",
    "  \n",
    "<img src='../reports/images/example_mail_spam.png' align=\"\" height=auto width=60%>\n"
   ]
  },
  {
   "cell_type": "markdown",
   "metadata": {},
   "source": [
    "---\n",
    "\n",
    "## Recall _(FALSE NEGATIVE)_\n",
    "\n",
    "É quando se avalia os FALSE NEGATIVE, os seja, quem foi classifier erroneamente como **FALSE**\n",
    "\n",
    "### Confusion Matrix\n",
    "\n",
    "The columns are predicted result. \n",
    "\n",
    "|                          | Predicted Positive | Predicted Negative |\n",
    "|--------------------------|----------------------|------------------|\n",
    "| **Positive**      |       **True**       |   **False**             | \n",
    "| Negative          |                      |                         | \n",
    "\n",
    "<img src='../reports/images/recall_matrix.png' align=\"\" height=auto width=80%>\n",
    "\n",
    "<br/>\n",
    "<br/>\n",
    "\n",
    "### Formula\n",
    "\n",
    "Entre os 1200 pacientes diagnosticados como sick, quantos foram **TRUE positive** ?\n",
    "\n",
    "<img src='../reports/images/formula_recall.png' align=\"\" height=auto width=80%>\n"
   ]
  },
  {
   "cell_type": "markdown",
   "metadata": {},
   "source": [
    "---\n",
    "\n",
    "## Precision _(true positive)_\n",
    "\n",
    "- Avalia todos os valores que o modelo classificou como **positive**\n",
    "- Example: \n",
    "    \n",
    "\n",
    "|              | **Positive** | Negative |\n",
    "|--------------|----------------------|----------------------|\n",
    "| free:  **Positive** | 6<br/>**True**       |                    | \n",
    "| not free: **Negative**   |    1<br/>**False**                  |      | \n",
    "\n",
    "    \n",
    "<img src='../reports/images/matrix_true.png' align=\"\" height=auto width=80%>"
   ]
  },
  {
   "cell_type": "markdown",
   "metadata": {},
   "source": [
    "---\n",
    "\n",
    "## F1 Score (precision + recall)\n",
    "\n",
    "TODO ..."
   ]
  },
  {
   "cell_type": "markdown",
   "metadata": {},
   "source": [
    "---"
   ]
  },
  {
   "cell_type": "markdown",
   "metadata": {},
   "source": [
    "## Regression Metrics\n",
    "\n",
    "<img src='../reports/images/better_model.png' align=\"\" height=auto width=60%>\n",
    "\n",
    "\n",
    "## Mean Error Absolute \n",
    "\n",
    "Avalia se uma linear regression é ruim a partir da soma das distancias dos erros.\n",
    "\n",
    "<img src='../reports/images/mean_error.png' align=\"\" height=auto width=30%>"
   ]
  },
  {
   "cell_type": "markdown",
   "metadata": {},
   "source": [
    "### `sklearn`"
   ]
  },
  {
   "cell_type": "code",
   "execution_count": 104,
   "metadata": {
    "scrolled": true
   },
   "outputs": [
    {
     "name": "stdout",
     "output_type": "stream",
     "text": [
      "0.75\n"
     ]
    }
   ],
   "source": [
    "from sklearn.metrics import mean_absolute_error\n",
    "from sklearn.linear_model import LinearRegression\n",
    "\n",
    "\n",
    "classifier = LinearRegression()\n",
    "classifier.fit(X, y_actu)\n",
    "\n",
    "guesses = classifier.predict(X)\n",
    "\n",
    "error = mean_absolute_error(y_actu, guesses)\n",
    "print(error)"
   ]
  },
  {
   "cell_type": "markdown",
   "metadata": {},
   "source": [
    "## Mean Squared Error\n",
    "\n",
    "\n",
    "<img src='../reports/images/r2_score.png' align=\"\" height=auto width=80%>\n",
    "\n",
    "TODO...\n"
   ]
  },
  {
   "cell_type": "code",
   "execution_count": null,
   "metadata": {},
   "outputs": [],
   "source": []
  },
  {
   "cell_type": "code",
   "execution_count": null,
   "metadata": {},
   "outputs": [],
   "source": []
  },
  {
   "cell_type": "code",
   "execution_count": null,
   "metadata": {},
   "outputs": [],
   "source": []
  },
  {
   "cell_type": "code",
   "execution_count": null,
   "metadata": {},
   "outputs": [],
   "source": []
  },
  {
   "cell_type": "code",
   "execution_count": null,
   "metadata": {},
   "outputs": [],
   "source": []
  }
 ],
 "metadata": {
  "kernelspec": {
   "display_name": "Python 3",
   "language": "python",
   "name": "python3"
  },
  "language_info": {
   "codemirror_mode": {
    "name": "ipython",
    "version": 3
   },
   "file_extension": ".py",
   "mimetype": "text/x-python",
   "name": "python",
   "nbconvert_exporter": "python",
   "pygments_lexer": "ipython3",
   "version": "3.8.5"
  },
  "toc": {
   "base_numbering": 1,
   "nav_menu": {},
   "number_sections": false,
   "sideBar": false,
   "skip_h1_title": false,
   "title_cell": "Table of Contents",
   "title_sidebar": "Contents",
   "toc_cell": false,
   "toc_position": {},
   "toc_section_display": false,
   "toc_window_display": false
  }
 },
 "nbformat": 4,
 "nbformat_minor": 2
}
