{
 "cells": [
  {
   "cell_type": "markdown",
   "metadata": {},
   "source": [
    "### Imports"
   ]
  },
  {
   "cell_type": "code",
   "execution_count": 139,
   "metadata": {},
   "outputs": [],
   "source": [
    "# Data analysis and data wrangling\n",
    "import numpy as np\n",
    "import pandas as pd\n",
    "\n",
    "# Other\n",
    "from IPython.display import Image\n",
    "import configparser\n",
    "import subprocess\n",
    "import warnings\n",
    "import pprint\n",
    "import time\n",
    "import os"
   ]
  },
  {
   "cell_type": "markdown",
   "metadata": {},
   "source": [
    "### Prepare Principal Directory"
   ]
  },
  {
   "cell_type": "code",
   "execution_count": 101,
   "metadata": {},
   "outputs": [],
   "source": [
    "def prepare_directory_work(end_directory: str='notebooks'):\n",
    "    # Current path\n",
    "    curr_dir = os.path.dirname (os.path.realpath (\"__file__\")) \n",
    "    \n",
    "    if curr_dir.endswith(end_directory):\n",
    "        os.chdir('..')\n",
    "        return curr_dir\n",
    "    \n",
    "    return f'Current working directory: {curr_dir}'"
   ]
  },
  {
   "cell_type": "code",
   "execution_count": 102,
   "metadata": {},
   "outputs": [
    {
     "data": {
      "text/plain": [
       "'Current working directory: /home/campos/projetos/artificial_inteligence/data-science/flow_analysis'"
      ]
     },
     "execution_count": 102,
     "metadata": {},
     "output_type": "execute_result"
    }
   ],
   "source": [
    "prepare_directory_work(end_directory='notebooks')"
   ]
  },
  {
   "cell_type": "markdown",
   "metadata": {
    "collapsed": true
   },
   "source": [
    "### Cell Format"
   ]
  },
  {
   "cell_type": "code",
   "execution_count": 123,
   "metadata": {
    "scrolled": true
   },
   "outputs": [
    {
     "name": "stdout",
     "output_type": "stream",
     "text": [
      "The autoreload extension is already loaded. To reload it, use:\n",
      "  %reload_ext autoreload\n"
     ]
    }
   ],
   "source": [
    "# Guarantees visualization inside the jupyter\n",
    "%matplotlib inline\n",
    "\n",
    "# OPTIONAL: Load the \"autoreload\" extension so that code can change\n",
    "%load_ext autoreload\n",
    "\n",
    "# Format the data os all table (float_format 3)\n",
    "pd.set_option('display.float_format', '{:.6}'.format)\n",
    "\n",
    "# Print xxxx rows and columns\n",
    "pd.set_option('display.max_rows', None)\n",
    "pd.set_option('display.max_columns', None)\n",
    "\n",
    "# Supress unnecessary warnings so that presentation looks clean\n",
    "warnings.filterwarnings('ignore')\n",
    "\n",
    "# Graph style\n",
    "sns.set(style='dark',font=font_family, palette='deep')\n",
    "\n",
    "# Pretty print\n",
    "pp = pprint.PrettyPrinter(indent=4)"
   ]
  },
  {
   "cell_type": "markdown",
   "metadata": {},
   "source": [
    "### Load Data"
   ]
  },
  {
   "cell_type": "code",
   "execution_count": 161,
   "metadata": {
    "scrolled": true
   },
   "outputs": [
    {
     "name": "stdout",
     "output_type": "stream",
     "text": [
      "Tokenization took: 46.11 ms\n",
      "Type conversion took: 33.23 ms\n",
      "Parser memory cleanup took: 0.00 ms\n",
      "CPU times: user 92.8 ms, sys: 196 µs, total: 93 ms\n",
      "Wall time: 92.1 ms\n"
     ]
    }
   ],
   "source": [
    "%%time\n",
    "\n",
    "df_census = pd.read_csv('data/raw/census.csv', \n",
    "                       encoding='utf8',\n",
    "                       sep=',',\n",
    "                       verbose=True)"
   ]
  },
  {
   "cell_type": "code",
   "execution_count": 162,
   "metadata": {},
   "outputs": [
    {
     "name": "stdout",
     "output_type": "stream",
     "text": [
      "Tokenization took: 1.26 ms\n",
      "Type conversion took: 2.12 ms\n",
      "Parser memory cleanup took: 0.01 ms\n",
      "CPU times: user 9.09 ms, sys: 0 ns, total: 9.09 ms\n",
      "Wall time: 7.78 ms\n"
     ]
    }
   ],
   "source": [
    "%%time\n",
    "\n",
    "df_enroll = pd.read_csv('data/raw/enrollments.csv', \n",
    "                       encoding='utf8',\n",
    "                       sep=',',\n",
    "                       verbose=True)"
   ]
  },
  {
   "cell_type": "code",
   "execution_count": 163,
   "metadata": {
    "scrolled": true
   },
   "outputs": [
    {
     "name": "stdout",
     "output_type": "stream",
     "text": [
      "CPU times: user 128 ms, sys: 8.31 ms, total: 136 ms\n",
      "Wall time: 135 ms\n"
     ]
    }
   ],
   "source": [
    "%%time\n",
    "\n",
    "df_callcenter = pd.read_csv('data/raw/callcenter_marketing.csv', \n",
    "                       encoding='utf8',\n",
    "                       sep=',')\n",
    "df_callcenter = df_callcenter.fillna('handler')"
   ]
  },
  {
   "cell_type": "markdown",
   "metadata": {},
   "source": [
    "## Feature Seletcion\n",
    "\n",
    "\n",
    "### Filtering\n",
    "- Encontrar Correlation\n",
    "\n",
    "### Embedded Methods\n",
    "- Decision tree fazem o feature selection automaticamente, por exemplo a cada nodo ela decide qual a melhor feature para fazer o split usando a informação da entropia. Então, é possível retornar uma feature importance\n",
    "\n",
    "\n",
    "O que fazer com as fature importance?\n",
    "Remover as menos importanantes?\n",
    "\n",
    "\n",
    "\n",
    "https://towardsdatascience.com/feature-selection-with-pandas-e3690ad8504b\n",
    "\n",
    "\n",
    "https://scikit-learn.org/stable/modules/feature_selection.html"
   ]
  },
  {
   "cell_type": "markdown",
   "metadata": {},
   "source": [
    "## Interaction Features\n",
    "\n",
    "Exemplo (imóveis)\n",
    "Digamos que já tivéssemos um recurso chamado 'num_schools' , ou seja, o número de escolas dentro de 5 milhas de uma propriedade.\n",
    "Digamos que também tenhamos o recurso 'median_school' , ou seja, a pontuação mediana de qualidade dessas escolas.\n",
    "No entanto, podemos suspeitar que o que é realmente importante é  ter muitas opções de escola, mas apenas se elas forem boas.\n",
    "Bem, para capturar essa interação, poderíamos criar um novo recurso  'school_score'  =  'num_schools'  x  'median_school'"
   ]
  },
  {
   "cell_type": "code",
   "execution_count": 21,
   "metadata": {},
   "outputs": [
    {
     "data": {
      "image/png": "[encoded data removed]",
      "text/plain": [
       "<IPython.core.display.Image object>"
      ]
     },
     "execution_count": 21,
     "metadata": {},
     "output_type": "execute_result"
    }
   ],
   "source": [
    "# hide_code\n",
    "Image('reports/Joining-Forces.png')"
   ]
  },
  {
   "cell_type": "markdown",
   "metadata": {},
   "source": [
    "## Features Selection\n",
    "\n",
    "Lista de verificação para features:\n",
    "    \n",
    "    \n",
    "1. Você tem conhecimento de domínio? Se sim, crie um conjunto melhor de recursos ad hoc ””\n",
    "\n",
    "2. Suas características são compatíveis? Se não, considere normalizá-los.\n",
    "\n",
    "3. Você suspeita de interdependência de recursos? Se sim, expanda seu conjunto de recursos construindo recursos ou produtos de recursos conjuntivos, tanto quanto os recursos do computador permitem.\n",
    "\n",
    "4. Você precisa remover as variáveis ​​de entrada (por exemplo, por razões de custo, velocidade ou compreensão de dados)? Se não, construa recursos disjuntivos ou somas ponderadas de recurso\n",
    "\n",
    "5. Você precisa avaliar os recursos individualmente (por exemplo, para entender a influência deles no sistema ou porque o número deles é tão grande que você precisa fazer o primeiro filtro)? Se sim, use um método de classificação de variáveis; mais, faça de qualquer maneira para obter resultados básicos.\n",
    "\n",
    "6. Você precisa de um preditor? Se não, pare\n",
    "\n",
    "7. Você suspeita que seus dados estão “sujos” (tem alguns padrões de entrada sem significado e / ou saídas ruidosas ou rótulos de classes errados)? Se sim, detecte os exemplos de outlier usando as principais variáveis ​​de classificação obtidas na etapa 5 como representação; verifique e / ou descarte-os.\n",
    "\n",
    "8. Você sabe o que tentar primeiro? Se não, use um preditor linear. Use um método de seleção forward com o método “probe” como um critério de parada ou use o método 0-norm embedded para comparação, seguindo a classificação da etapa 5, construa uma sequência de preditores da mesma natureza usando subconjuntos crescentes de recursos. Você pode combinar ou melhorar o desempenho com um subconjunto menor? Se sim, tente um preditor não linear com esse subconjunto.\n",
    "\n",
    "9. Você tem novas ideias, tempo, recursos computacionais e exemplos suficientes? Se sim, compare vários métodos de seleção de recursos, incluindo sua nova ideia, coeficientes de correlação, seleção reversa e métodos incorporados. Use preditores lineares e não lineares. Selecione a melhor abordagem com a seleção de modelos\n",
    "\n",
    "10. Você quer uma solução estável (para melhorar o desempenho e / ou entendimento)? Se sim, sub-especifique seus dados e refaça sua análise para vários “bootstrap”."
   ]
  },
  {
   "cell_type": "markdown",
   "metadata": {},
   "source": [
    "## Feature Importance\n",
    "\n",
    "- Which features provide the most predictive power?\n",
    "\n",
    " - O principal objetivo de ter uma avaliação de feature_importance é para detectar problemas.\n",
    " - As feature_importance são analisadas encima de alguma modelo. "
   ]
  },
  {
   "cell_type": "code",
   "execution_count": 15,
   "metadata": {},
   "outputs": [],
   "source": [
    "def get_feature_importance_df(feature_importances,\n",
    "                              column_names, \n",
    "                              top_n=25):\n",
    "    \"\"\"Get feature importance data frame.\n",
    " \n",
    "    Parameters\n",
    "    ----------\n",
    "    feature_importances : numpy ndarray\n",
    "        Feature importances computed by an ensemble \n",
    "            model like random forest or boosting\n",
    "    column_names : array-like\n",
    "        Names of the columns in the same order as feature \n",
    "            importances\n",
    "    top_n : integer\n",
    "        Number of top features\n",
    " \n",
    "    Returns\n",
    "    -------\n",
    "    df : a Pandas data frame\"\"\"\n",
    "     \n",
    "    imp_dict = dict(zip(column_names, feature_importances))\n",
    "    \n",
    "    # get name features sroted\n",
    "    top_features = sorted(imp_dict, key=imp_dict.get, reverse=True)[0:top_n]\n",
    "    \n",
    "    # get values\n",
    "    top_importances = [imp_dict[feature] for feature in top_features]\n",
    "    \n",
    "    # create dataframe with feature_importance\n",
    "    df = pd.DataFrame(data={'feature': top_features, 'importance': top_importances})\n",
    "    return df"
   ]
  },
  {
   "cell_type": "code",
   "execution_count": 16,
   "metadata": {},
   "outputs": [],
   "source": [
    "# create model\n",
    "from sklearn.ensemble import RandomForestClassifier\n",
    "\n",
    "\n",
    "rf = RandomForestClassifier(n_estimators=150, # numbers tree\n",
    "                           max_depth=8,\n",
    "                           min_samples_leaf=4,\n",
    "                           max_features=0.2, # each tree utility 20% in the features\n",
    "                           n_jobs=-1,\n",
    "                           random_state=42)"
   ]
  },
  {
   "cell_type": "code",
   "execution_count": 17,
   "metadata": {
    "scrolled": true
   },
   "outputs": [
    {
     "name": "stdout",
     "output_type": "stream",
     "text": [
      "---Traing Done---\n"
     ]
    }
   ],
   "source": [
    "# trainning model\n",
    "rf.fit(train.drop(['target'], axis=1), train.target)\n",
    "features = train.drop(['target'], axis=1).columns.values\n",
    "print(\"---Traing Done---\")"
   ]
  },
  {
   "cell_type": "code",
   "execution_count": 18,
   "metadata": {},
   "outputs": [
    {
     "data": {
      "text/html": [
       "<div>\n",
       "<style scoped>\n",
       "    .dataframe tbody tr th:only-of-type {\n",
       "        vertical-align: middle;\n",
       "    }\n",
       "\n",
       "    .dataframe tbody tr th {\n",
       "        vertical-align: top;\n",
       "    }\n",
       "\n",
       "    .dataframe thead th {\n",
       "        text-align: right;\n",
       "    }\n",
       "</style>\n",
       "<table border=\"1\" class=\"dataframe\">\n",
       "  <thead>\n",
       "    <tr style=\"text-align: right;\">\n",
       "      <th></th>\n",
       "      <th>feature</th>\n",
       "      <th>importance</th>\n",
       "    </tr>\n",
       "  </thead>\n",
       "  <tbody>\n",
       "    <tr>\n",
       "      <th>0</th>\n",
       "      <td>ps_car_13</td>\n",
       "      <td>0.13</td>\n",
       "    </tr>\n",
       "    <tr>\n",
       "      <th>1</th>\n",
       "      <td>ps_ind_05_cat</td>\n",
       "      <td>0.07</td>\n",
       "    </tr>\n",
       "    <tr>\n",
       "      <th>2</th>\n",
       "      <td>ps_reg_03</td>\n",
       "      <td>0.07</td>\n",
       "    </tr>\n",
       "    <tr>\n",
       "      <th>3</th>\n",
       "      <td>ps_ind_17_bin</td>\n",
       "      <td>0.06</td>\n",
       "    </tr>\n",
       "    <tr>\n",
       "      <th>4</th>\n",
       "      <td>ps_ind_03</td>\n",
       "      <td>0.04</td>\n",
       "    </tr>\n",
       "    <tr>\n",
       "      <th>5</th>\n",
       "      <td>ps_reg_02</td>\n",
       "      <td>0.04</td>\n",
       "    </tr>\n",
       "    <tr>\n",
       "      <th>6</th>\n",
       "      <td>id</td>\n",
       "      <td>0.04</td>\n",
       "    </tr>\n",
       "    <tr>\n",
       "      <th>7</th>\n",
       "      <td>ps_car_07_cat</td>\n",
       "      <td>0.03</td>\n",
       "    </tr>\n",
       "    <tr>\n",
       "      <th>8</th>\n",
       "      <td>ps_car_04_cat</td>\n",
       "      <td>0.03</td>\n",
       "    </tr>\n",
       "    <tr>\n",
       "      <th>9</th>\n",
       "      <td>ps_car_14</td>\n",
       "      <td>0.03</td>\n",
       "    </tr>\n",
       "    <tr>\n",
       "      <th>10</th>\n",
       "      <td>ps_ind_15</td>\n",
       "      <td>0.03</td>\n",
       "    </tr>\n",
       "    <tr>\n",
       "      <th>11</th>\n",
       "      <td>ps_car_12</td>\n",
       "      <td>0.03</td>\n",
       "    </tr>\n",
       "    <tr>\n",
       "      <th>12</th>\n",
       "      <td>ps_car_01_cat</td>\n",
       "      <td>0.02</td>\n",
       "    </tr>\n",
       "    <tr>\n",
       "      <th>13</th>\n",
       "      <td>ps_ind_07_bin</td>\n",
       "      <td>0.02</td>\n",
       "    </tr>\n",
       "    <tr>\n",
       "      <th>14</th>\n",
       "      <td>ps_car_03_cat</td>\n",
       "      <td>0.02</td>\n",
       "    </tr>\n",
       "    <tr>\n",
       "      <th>15</th>\n",
       "      <td>ps_ind_06_bin</td>\n",
       "      <td>0.02</td>\n",
       "    </tr>\n",
       "    <tr>\n",
       "      <th>16</th>\n",
       "      <td>ps_car_15</td>\n",
       "      <td>0.02</td>\n",
       "    </tr>\n",
       "    <tr>\n",
       "      <th>17</th>\n",
       "      <td>ps_calc_10</td>\n",
       "      <td>0.02</td>\n",
       "    </tr>\n",
       "    <tr>\n",
       "      <th>18</th>\n",
       "      <td>ps_reg_01</td>\n",
       "      <td>0.02</td>\n",
       "    </tr>\n",
       "    <tr>\n",
       "      <th>19</th>\n",
       "      <td>ps_ind_01</td>\n",
       "      <td>0.02</td>\n",
       "    </tr>\n",
       "    <tr>\n",
       "      <th>20</th>\n",
       "      <td>ps_ind_04_cat</td>\n",
       "      <td>0.02</td>\n",
       "    </tr>\n",
       "    <tr>\n",
       "      <th>21</th>\n",
       "      <td>ps_car_11_cat</td>\n",
       "      <td>0.02</td>\n",
       "    </tr>\n",
       "    <tr>\n",
       "      <th>22</th>\n",
       "      <td>ps_calc_11</td>\n",
       "      <td>0.02</td>\n",
       "    </tr>\n",
       "    <tr>\n",
       "      <th>23</th>\n",
       "      <td>ps_calc_14</td>\n",
       "      <td>0.01</td>\n",
       "    </tr>\n",
       "    <tr>\n",
       "      <th>24</th>\n",
       "      <td>ps_ind_16_bin</td>\n",
       "      <td>0.01</td>\n",
       "    </tr>\n",
       "  </tbody>\n",
       "</table>\n",
       "</div>"
      ],
      "text/plain": [
       "          feature  importance\n",
       "0       ps_car_13        0.13\n",
       "1   ps_ind_05_cat        0.07\n",
       "2       ps_reg_03        0.07\n",
       "3   ps_ind_17_bin        0.06\n",
       "4       ps_ind_03        0.04\n",
       "5       ps_reg_02        0.04\n",
       "6              id        0.04\n",
       "7   ps_car_07_cat        0.03\n",
       "8   ps_car_04_cat        0.03\n",
       "9       ps_car_14        0.03\n",
       "10      ps_ind_15        0.03\n",
       "11      ps_car_12        0.03\n",
       "12  ps_car_01_cat        0.02\n",
       "13  ps_ind_07_bin        0.02\n",
       "14  ps_car_03_cat        0.02\n",
       "15  ps_ind_06_bin        0.02\n",
       "16      ps_car_15        0.02\n",
       "17     ps_calc_10        0.02\n",
       "18      ps_reg_01        0.02\n",
       "19      ps_ind_01        0.02\n",
       "20  ps_ind_04_cat        0.02\n",
       "21  ps_car_11_cat        0.02\n",
       "22     ps_calc_11        0.02\n",
       "23     ps_calc_14        0.01\n",
       "24  ps_ind_16_bin        0.01"
      ]
     },
     "execution_count": 18,
     "metadata": {},
     "output_type": "execute_result"
    }
   ],
   "source": [
    "# get trained model (rf) and avalible the feature_importance\n",
    "feature_importance = get_feature_importance_df(rf.feature_importances_, features)\n",
    "\n",
    "# print 25 feature_importance in the rf randomForest\n",
    "feature_importance"
   ]
  },
  {
   "cell_type": "code",
   "execution_count": 19,
   "metadata": {},
   "outputs": [
    {
     "data": {
      "text/plain": [
       "[Text(0,0.5,'Importance'),\n",
       " Text(0.5,0,'Variable name'),\n",
       " Text(0.5,1,'Variable importances')]"
      ]
     },
     "execution_count": 19,
     "metadata": {},
     "output_type": "execute_result"
    },
    {
     "data": {
      "image/png": "[encoded data removed]",
      "text/plain": [
       "<Figure size 1440x720 with 1 Axes>"
      ]
     },
     "metadata": {},
     "output_type": "display_data"
    }
   ],
   "source": [
    "fig,ax = plt.subplots()\n",
    "fig.set_size_inches(20,10)\n",
    "sns.barplot(data=feature_importance[:10],x=\"feature\",y=\"importance\",ax=ax,color=default_color,)\n",
    "ax.set(xlabel='Variable name', ylabel='Importance',title=\"Variable importances\")"
   ]
  },
  {
   "cell_type": "markdown",
   "metadata": {},
   "source": [
    "#### Other form calculate feature importance"
   ]
  },
  {
   "cell_type": "code",
   "execution_count": 20,
   "metadata": {
    "scrolled": true
   },
   "outputs": [
    {
     "data": {
      "text/plain": [
       "array([0.03590883, 0.01711062, 0.01345553, 0.03776644, 0.01624582,\n",
       "       0.07227804, 0.01909058, 0.02110627, 0.00497738, 0.00334355,\n",
       "       0.00031269, 0.00066332, 0.00125337, 0.00084412, 0.00194773,\n",
       "       0.02529927, 0.01347381, 0.0566334 , 0.00194042, 0.01713683,\n",
       "       0.03683138, 0.06851308, 0.02387888, 0.00696493, 0.0197124 ,\n",
       "       0.02776735, 0.00598132, 0.01295914, 0.03174285, 0.00315014,\n",
       "       0.00976308, 0.00145528, 0.01571261, 0.00646674, 0.02526253,\n",
       "       0.13013779, 0.02742899, 0.01849723, 0.00994316, 0.01122144,\n",
       "       0.0110875 , 0.00744363, 0.01010283, 0.00825177, 0.01064557,\n",
       "       0.01032604, 0.01052008, 0.01723965, 0.01556056, 0.00838557,\n",
       "       0.01083305, 0.01354515, 0.00119982, 0.00250698, 0.00243319,\n",
       "       0.00247408, 0.00204217, 0.00122402])"
      ]
     },
     "execution_count": 20,
     "metadata": {},
     "output_type": "execute_result"
    }
   ],
   "source": [
    "# TODO: Extract the feature importances using .feature_importances_ \n",
    "importances = rf.feature_importances_\n",
    "\n",
    "importances"
   ]
  },
  {
   "cell_type": "markdown",
   "metadata": {},
   "source": [
    "## References:\n",
    "- https://machinelearningmastery.com/discover-feature-engineering-how-to-engineer-features-and-how-to-get-good-at-it/\n",
    "- http://jmlr.csail.mit.edu/papers/volume3/guyon03a/guyon03a.pdf\n",
    "- https://towardsdatascience.com/understanding-feature-engineering-part-1-continuous-numeric-data-da4e47099a7b"
   ]
  }
 ],
 "metadata": {
  "kernelspec": {
   "display_name": "Python 3",
   "language": "python",
   "name": "python3"
  },
  "language_info": {
   "codemirror_mode": {
    "name": "ipython",
    "version": 3
   },
   "file_extension": ".py",
   "mimetype": "text/x-python",
   "name": "python",
   "nbconvert_exporter": "python",
   "pygments_lexer": "ipython3",
   "version": "3.8.5"
  },
  "toc": {
   "base_numbering": 1,
   "nav_menu": {},
   "number_sections": false,
   "sideBar": false,
   "skip_h1_title": false,
   "title_cell": "Table of Contents",
   "title_sidebar": "Contents",
   "toc_cell": false,
   "toc_position": {},
   "toc_section_display": false,
   "toc_window_display": false
  }
 },
 "nbformat": 4,
 "nbformat_minor": 2
}
