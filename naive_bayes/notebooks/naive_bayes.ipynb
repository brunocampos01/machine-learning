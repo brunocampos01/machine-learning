{
 "cells": [
  {
   "cell_type": "markdown",
   "metadata": {},
   "source": [
    "#  Naive Bayes"
   ]
  },
  {
   "cell_type": "markdown",
   "metadata": {},
   "source": [
    " -  Algoritmos de _aprendizado supervisionado_ baseados na aplicação do **teorema de Bayes com a suposição “ingênua”** (naive).\n",
    "     - \"Naive\" porque supomos que os eventos são independentes.\n",
    "\n",
    "## Bayes theorem\n",
    "- Naive Bayes é um teorema de inferência probabilístico, baseado no conceito de probabilidade condicional. \n",
    "- Calcula a probabilidade de um evento ocorrer, com base em outro, relacionadas ao evento em questão.\n",
    "-  Reverend Bayes (which he used to try and infer the existence of God no less) "
   ]
  },
  {
   "cell_type": "markdown",
   "metadata": {},
   "source": [
    "<img src=\"images/output_4_0.png\" />"
   ]
  },
  {
   "cell_type": "markdown",
   "metadata": {},
   "source": [
    "**Tenha bem claro o que é o evento e quais as duas probabilidades durante um problema.**"
   ]
  },
  {
   "cell_type": "markdown",
   "metadata": {},
   "source": [
    "## Advantages:\n",
    " \n",
    "- Altamente escalável.\n",
    "- Simples.\n",
    "- **Não é sensível a overffting**\n",
    "- Retorna um grau de certeza na resposta.\n",
    "- _Rápido_: o tempo de treinamento e previsão do modelo é muito rápido para a quantidade de dados que pode manipular\n",
    "- _Exemplos reais_: famosa classificação de documentos e filtragem de spam.\n",
    "- Uma das principais vantagens que Naive Bayes tem sobre outros algoritmos de classificação é sua capacidade de lidar com um número extremamente grande de recursos. No exemplo de um sistema de spam, cada palavra é tratada como uma característica e existem milhares de palavras diferentes. "
   ]
  },
  {
   "cell_type": "markdown",
   "metadata": {},
   "source": [
    "## Example 01)\n",
    "Veja o exemplo abaixo:\n",
    " - Evento: recebimento do email\n",
    " - P(A): spam\n",
    " - P(B): not spam"
   ]
  },
  {
   "cell_type": "markdown",
   "metadata": {},
   "source": [
    "<img src=\"images/output_6_0.png\" />"
   ]
  },
  {
   "cell_type": "markdown",
   "metadata": {},
   "source": [
    "<img src=\"images/output_7_0.png\" />"
   ]
  },
  {
   "cell_type": "markdown",
   "metadata": {},
   "source": [
    "As probabilidades de P(A) e P(B) são a priori pois ja sabiamos que A e B aconteciam.\n",
    "\n",
    "As probabilidades de P(R|A) e P(R|B) são a posteriori pois já sabiamos que R acontecia."
   ]
  },
  {
   "cell_type": "markdown",
   "metadata": {},
   "source": [
    "<img src=\"images/output_9_0.png\" />"
   ]
  },
  {
   "cell_type": "markdown",
   "metadata": {},
   "source": [
    "## Example 02)"
   ]
  },
  {
   "cell_type": "markdown",
   "metadata": {},
   "source": [
    "<img src=\"images/output_11_0.png\" />"
   ]
  },
  {
   "cell_type": "markdown",
   "metadata": {},
   "source": [
    "### 1 out of 10000 people are sick, so:\n",
    " - P(sick) = 0.0001\n",
    " - P(healthy) = 0.9999\n",
    " \n",
    "This moment has an event with A and B.\n",
    "Patient tested positive.\n",
    "### The examns has accuracy 99% for (sick) or (healthy) :\n",
    " - P(+|sick) = 0.99\n",
    " - P(+|healthy) = 0.01\n",
    " \n",
    " \n",
    " This moment has an event with (+|A) and (+|B) "
   ]
  },
  {
   "cell_type": "markdown",
   "metadata": {},
   "source": [
    "<img src=\"images/output_13_0.png\" />"
   ]
  },
  {
   "cell_type": "markdown",
   "metadata": {},
   "source": [
    " #### The goups P(-) does not matter."
   ]
  },
  {
   "cell_type": "markdown",
   "metadata": {},
   "source": [
    "<img src=\"images/output_15_0.png\" />"
   ]
  },
  {
   "cell_type": "markdown",
   "metadata": {},
   "source": [
    "Desvantagens de naive bayes:\n",
    "   - falsos positivos"
   ]
  },
  {
   "cell_type": "markdown",
   "metadata": {},
   "source": [
    "## Disavantages\n",
    " -  Sua principal desvantagem é que ele não pode aprender interações entre recursos (por exemplo, não pode aprender que, embora você adore filmes com Brad Pitt e Tom Cruise, você odeia filmes em que eles estão juntos).\n",
    " \n",
    "\n",
    "Uma das principais vantagens que Naive Bayes tem sobre outros algoritmos de classificação é sua capacidade de **lidar com um número extremamente grande de recursos**. Por exemplo, um classificador de spam, cada palavra é tratada como uma característica e existem milhares de palavras diferentes."
   ]
  },
  {
   "cell_type": "markdown",
   "metadata": {},
   "source": [
    "É melhor entender este teorema usando um exemplo. Digamos que você seja um membro do Serviço Secreto e tenha sido destacado para proteger o candidato democrata à presidência durante um de seus discursos de campanha. Sendo um evento público que está aberto a todos, o seu trabalho não é fácil e você tem que estar sempre atento às ameaças. Então, um lugar para começar é colocar um certo fator de ameaça para cada pessoa. Então, com base nas características de um indivíduo, como a idade, o sexo e outros fatores menores, como a pessoa carregando uma bolsa ?, a pessoa parece nervosa? etc. você pode fazer um julgamento quanto a se essa pessoa é uma ameaça viável.\n",
    "\n",
    "Se um indivíduo marcar todas as caixas até um nível em que ele cruze um limiar de dúvida em sua mente, você poderá agir e removê-lo da vizinhança. O teorema de Bayes funciona da mesma forma como estamos computando a probabilidade de um evento (uma pessoa ser uma ameaça) com base nas probabilidades de certos eventos relacionados (idade, sexo, presença de saco ou não, nervosismo etc. da pessoa) .\n",
    "\n",
    "Uma coisa a considerar é a independência desses recursos entre si. Por exemplo, se uma criança parece nervosa com o evento, a probabilidade de essa pessoa ser uma ameaça não é tanto quanto dizer se era um homem adulto que estava nervoso. Para quebrar isso um pouco mais, aqui há duas características que estamos considerando, idade e nervosismo. Digamos que observamos esses recursos individualmente, podemos projetar um modelo que sinalize TODAS as pessoas que estão nervosas como ameaças em potencial. No entanto, é provável que tenhamos muitos falsos positivos, pois há uma forte chance de que os menores presentes no evento fiquem nervosos. Assim, considerando a idade de uma pessoa, juntamente com o recurso 'nervosismo', nós definitivamente obteríamos um resultado mais preciso sobre quem são ameaças em potencial e quem não é.\n",
    "\n",
    "Esse é o bit \"ingênuo\" do teorema em que considera que cada característica é independente uma da outra, o que pode nem sempre ser o caso e, portanto, isso pode afetar o julgamento final."
   ]
  },
  {
   "cell_type": "markdown",
   "metadata": {},
   "source": [
    "###  Naive Bayes Gaussian\n",
    "\n",
    "O Naive Bayes Gaussiano é mais adequado para dados contínuos, pois assume que os dados de entrada têm uma **distribuição Gaussiana (normal).**\n",
    "<img src=\"images/Gaussian_Naive_Bayes_Classifier_print.png\" />\n"
   ]
  },
  {
   "cell_type": "markdown",
   "metadata": {},
   "source": [
    "# Applications\n",
    "\n",
    "- **Previsões em tempo real:** é rápido. Assim, pode ser usado para fazer previsões em tempo real.\n",
    "Ex)\n",
    "\n",
    "- **Classificação de textos/Filtragem de spam/Análise de sentimento**: classificadores Naive Bayes utilizados principalmente em classificação de textos (devido a um melhor resultado em problemas de classes múltiplas e regra de independência) têm maior taxa de sucesso em comparação com outros algoritmos. Como resultado, é amplamente utilizado na filtragem de spam (identificar spam) e Análise de Sentimento (em análise de mídia social, para identificar sentimentos positivos e negativos dos clientes).\n",
    "Ex)\n",
    "\n",
    "- **Sistema de Recomendação:** o classificador e a filtragem colaborativa Naive Bayes em conjunto constroem um sistema de recomendação que utiliza técnicas de machine learning e mineração de dados para filtrar a informação invisível e prever se um usuário gostaria de um determinado recurso ou não.\n",
    "Ex)\n"
   ]
  },
  {
   "cell_type": "code",
   "execution_count": 2,
   "metadata": {},
   "outputs": [
    {
     "name": "stdout",
     "output_type": "stream",
     "text": [
      "[3 4]\n"
     ]
    }
   ],
   "source": [
    "#Importa a biblioteca do modelo Naive Bayes Gaussiano\n",
    "from sklearn.naive_bayes import GaussianNB\n",
    "import numpy as np\n",
    "\n",
    "#Designa as variáveis previsor e alvo\n",
    "x= np.array([[-3,7],[1,5], [1,2], [-2,0], [2,3], [-4,0], [-1,1], [1,1], [-2,2], [2,7], [-4,1], [-2,7]])\n",
    "Y = np.array([3, 3, 3, 3, 4, 3, 3, 4, 3, 4, 4, 4])\n",
    "\n",
    "#Cria um classificador Gaussiano\n",
    "model = GaussianNB()\n",
    "\n",
    "#Treina o modelo usando os dados de treino \n",
    "model.fit(x, Y)\n",
    "\n",
    "#Resultado de previsão \n",
    "predicted= model.predict([[1,2],[3,4]])\n",
    "print(predicted)"
   ]
  },
  {
   "cell_type": "markdown",
   "metadata": {},
   "source": [
    "## References:"
   ]
  },
  {
   "cell_type": "code",
   "execution_count": null,
   "metadata": {},
   "outputs": [],
   "source": []
  }
 ],
 "metadata": {
  "kernelspec": {
   "display_name": "Python 3",
   "language": "python",
   "name": "python3"
  },
  "language_info": {
   "codemirror_mode": {
    "name": "ipython",
    "version": 3
   },
   "file_extension": ".py",
   "mimetype": "text/x-python",
   "name": "python",
   "nbconvert_exporter": "python",
   "pygments_lexer": "ipython3",
   "version": "3.8.5"
  },
  "latex_envs": {
   "LaTeX_envs_menu_present": true,
   "autoclose": false,
   "autocomplete": true,
   "bibliofile": "biblio.bib",
   "cite_by": "apalike",
   "current_citInitial": 1,
   "eqLabelWithNumbers": true,
   "eqNumInitial": 1,
   "hotkeys": {
    "equation": "Ctrl-E",
    "itemize": "Ctrl-I"
   },
   "labels_anchors": false,
   "latex_user_defs": false,
   "report_style_numbering": false,
   "user_envs_cfg": false
  }
 },
 "nbformat": 4,
 "nbformat_minor": 4
}
